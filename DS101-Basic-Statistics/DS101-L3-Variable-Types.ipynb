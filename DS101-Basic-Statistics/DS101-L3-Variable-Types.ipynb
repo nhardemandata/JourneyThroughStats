{
 "cells": [
  {
   "cell_type": "markdown",
   "id": "b2f64907-ed7c-4869-b1cb-d7e859f73851",
   "metadata": {},
   "source": [
    "# Basic Statistics L3 : Variable Types"
   ]
  },
  {
   "cell_type": "code",
   "execution_count": 1,
   "id": "8df2fe03-d812-4253-baa5-a067317f5c73",
   "metadata": {},
   "outputs": [
    {
     "data": {
      "text/html": [
       "\n",
       "        <iframe\n",
       "            width=\"720\"\n",
       "            height=\"480\"\n",
       "            src=\"https://player.vimeo.com/video/321266566\"\n",
       "            frameborder=\"0\"\n",
       "            allowfullscreen\n",
       "            \n",
       "        ></iframe>\n",
       "        "
      ],
      "text/plain": [
       "<IPython.lib.display.VimeoVideo at 0x1e4a05e5790>"
      ]
     },
     "execution_count": 1,
     "metadata": {},
     "output_type": "execute_result"
    }
   ],
   "source": [
    "from IPython.display import VimeoVideo\n",
    "# Tutorial Video Name: Data Science Software\n",
    "VimeoVideo('321266566', width=720, height=480)"
   ]
  },
  {
   "cell_type": "markdown",
   "id": "09648b68-83f6-4bc4-9f39-7d224e48da91",
   "metadata": {},
   "source": [
    "### For more examples, and concepts presented in a different light: check out this walkthrough\n",
    "[DS102 Basic Stats Lesson 3 Examples](Examples/Nolan/BasicStatsL3Guide.ipynb)."
   ]
  },
  {
   "cell_type": "markdown",
   "id": "e46b4f2f-c02c-455f-a723-b45c3e81a7ba",
   "metadata": {
    "tags": []
   },
   "source": [
    "### Table of Contents<a class=\"anchor\" id=\"DS101L3_toc\"></a> \n",
    "* [Table of Contents](#DS101L3_toc)\n",
    "    * [Page 1 - Overview and Objectives](#DS101L3_page_1)\n",
    "    * [Page 2 - Experimental Design](#DS101L3_page_2)\n",
    "    * [Page 3 - Additional Research and Questions](#DS101L3_page_3)\n",
    "    * [Page 4 - Variable Types](#DS101L3_page_4)\n",
    "    * [Page 5 - Recoding Variables](#DS101L3_page_5)\n",
    "    * [Page 6 - Ordinal Variables](#DS101L3_page_6)\n",
    "    * [Page 7 - Quantitative Variables](#DS101L3_page_7)\n",
    "    * [Page 8 - Key Terms](#DS101L3_page_8)\n",
    "    * [Page 9 - Variable Types - Skills Assessment](#DS101L3_page_9)\n",
    "\n",
    "\n",
    "The transcript for the above overview video **[is located here](https://repo.exeterlms.com/documents/V2/DataScience/Video-Transcripts/DSO101L03overview.zip)**.\n",
    "\n"
   ]
  },
  {
   "cell_type": "markdown",
   "id": "a99a0ea4-e23c-4416-aaff-0b81b948b8f6",
   "metadata": {},
   "source": [
    "<hr style=\"height:10px;border-width:0;color:gray;background-color:gray\">\n",
    "\n",
    "# Page 1 - Overview and Objectives<a class=\"anchor\" id=\"DS101L3_page_1\"></a>\n",
    "\n",
    "[Back to Top](#DS101L3_toc)\n",
    "\n",
    "<hr style=\"height:10px;border-width:0;color:gray;background-color:gray\">\n"
   ]
  },
  {
   "cell_type": "markdown",
   "id": "505d19f9-9302-41d0-91e1-f49a7e959830",
   "metadata": {},
   "source": [
    "Being able to identify the type of variable used for statistical analysis is very important. Variable types determine what kind of test is appropriate to run, and whether the results from that analysis are accurate.  In this lesson, you will learn all about research methods and variable types, which are the building blocks upon which any statistical analysis is based.\n",
    "\n",
    "---\n",
    "\n",
    "## Objectives\n",
    "\n",
    "In this lesson, you will learn about:\n",
    "\n",
    "* Experiments\n",
    "* Independent and dependent variables\n",
    "* Research methods\n",
    "* Variable types and how to handle numeric versus character data\n",
    "\n",
    "By the end of this lesson, you will complete an exam that will test your knowledge of research methods and variable types.\n",
    "\n",
    "<div class=\"panel panel-success\">\n",
    "    <div class=\"panel-heading\">\n",
    "        <h3 class=\"panel-title\">Additional Info!</h3>\n",
    "    </div>\n",
    "    <div class=\"panel-body\">\n",
    "        <p>You may want to watch this <a href=\"https://vimeo.com/443250143\"> recorded live workshop </a> that goes over the material in this lesson. </p>\n",
    "    </div>\n",
    "</div>"
   ]
  },
  {
   "cell_type": "markdown",
   "id": "5afdb888-e57b-4572-8ce9-fd38ca12cf96",
   "metadata": {},
   "source": [
    "<hr style=\"height:10px;border-width:0;color:gray;background-color:gray\">\n",
    "\n",
    "# Page 2 - Experimental Design<a class=\"anchor\" id=\"DS101L3_page_2\"></a>\n",
    "\n",
    "[Back to Top](#DS101L3_toc)\n",
    "    \n",
    "<hr style=\"height:10px;border-width:0;color:gray;background-color:gray\">"
   ]
  },
  {
   "cell_type": "code",
   "execution_count": 2,
   "id": "98f92313-2af2-4458-9e29-f4990ac55713",
   "metadata": {},
   "outputs": [
    {
     "data": {
      "text/html": [
       "\n",
       "        <iframe\n",
       "            width=\"720\"\n",
       "            height=\"480\"\n",
       "            src=\"https://player.vimeo.com/video/315708283\"\n",
       "            frameborder=\"0\"\n",
       "            allowfullscreen\n",
       "            \n",
       "        ></iframe>\n",
       "        "
      ],
      "text/plain": [
       "<IPython.lib.display.VimeoVideo at 0x1e4a05faf40>"
      ]
     },
     "execution_count": 2,
     "metadata": {},
     "output_type": "execute_result"
    }
   ],
   "source": [
    "from IPython.display import VimeoVideo\n",
    "# Tutorial Video Name: Data Science Software\n",
    "VimeoVideo('315708283', width=720, height=480)"
   ]
  },
  {
   "cell_type": "markdown",
   "id": "8207c76d-5b71-455f-9928-e1af91345389",
   "metadata": {
    "tags": []
   },
   "source": [
    "The transcript for the above topic tutorial video **[is located here](https://repo.exeterlms.com/documents/V2/DataScience/Video-Transcripts/DSO101-L03-pg2tutorial.zip)**.\n",
    "\n",
    "# Experimental Design\n",
    "\n",
    "Statistics was born out of research, and therefore much if the terminology you'll need to learn regarding analyses is research or experiment based.  It is therefore critical that you become familiar with experimental designs before proceeding further!\n",
    "\n",
    "<div class=\"panel panel-success\">\n",
    "    <div class=\"panel-heading\">\n",
    "        <h3 class=\"panel-title\">Fun Fact!</h3>\n",
    "    </div>\n",
    "    <div class=\"panel-body\">\n",
    "        <p>Experimental design is also called research methods, depending on who you talk with.  You can spend entire semesters learning the nuances of discipline-specific research methods, but you will hit the highlights here. </p>\n",
    "    </div>\n",
    "</div>\n",
    "\n",
    "In a classic experiment, you are testing an idea out.  This idea is called a **hypothesis**.  In order to test this hypothesis out, you need to have two groups, also called **conditions**. One group will be the literal or figurative guinea pig, and will be the beneficiary of the new idea, whether you are testing a new drug for effectiveness or taste testing a new cola for deliciousness.  The group that is getting the new thing is called the **experimental group**.  The group that is getting the old thing is called the **control group**.  The condition, whether experimental or control, is known as the **independent variable** - it is the thing that you are testing, manipulating or changing.\n",
    "\n",
    "You'll need to measure and record data in both groups so you can compare their scores.  The thing with which you are measuring to compare conditions is known as the **dependent variable**.\n",
    "\n",
    "---\n",
    "\n",
    "### An Experimental Design Example\n",
    "\n",
    "For example, say that you are working as a data scientist for a dog food company.  They do an experiment to determine whether their new line of dog food tastes better than their old line by measuring dogs' saliva after eating the food.  In this case, the experimental group would be the new line of dog food, and the old line of dog food would be the control group.  The type of dog food they are testing is the independent variable, and the dependent variable is the taste of the dog food.\n",
    "\n",
    "It may make more sense to see this in picture form.\n",
    "\n",
    "![On the left, information about independent variable, dog food type condition. In the control condition, the dog gets old dog food, represented by an apple. In the experimental condition, the dog gets new dog food, represented by a donut. An arrow points from this information to the right. On the right, dependent variable, taste measurement, represented by a clipboard.](Media/variables1.png)\n",
    "\n",
    "---\n",
    "\n",
    "### A Second Experimental Design Example\n",
    "\n",
    "Sylvia is an exercise trainer, and she wants to study the effect of a caffeine-based pre-workout supplement to see how they affect men and women.  Since both caffeine and diet affect the metabolism, Sylvia studies couples who eat the same foods as their spouse, and are similarly healthy.  \n",
    "\n",
    "For the study, Sylvia draws blood before and after each couple takes the pre-workout supplement with caffeine, then determines how much caffeine is still in the blood.\n",
    "\n",
    "Forty minutes after consuming the caffeine, she takes a blood sample from both the husband and the wife, and measures the caffeine still in the system.\n",
    "\n",
    "**What is the Independent Variable?**\n",
    "\n",
    "Gender.   \n",
    "\n",
    "**What is the dependent variable?**  \n",
    "\n",
    "Caffeine.\n",
    "\n",
    "---\n",
    "\n",
    "## Review\n",
    "\n",
    "Below is a quiz to review the recently covered material. Quizzes are _not_ graded.\n",
    "\n",
    "```c-lms\n",
    "start-activity: Experimental Design Quiz\n",
    "```\n"
   ]
  },
  {
   "cell_type": "code",
   "execution_count": 3,
   "id": "7372527b-2c5c-4492-bfbf-493a0f2e461a",
   "metadata": {},
   "outputs": [],
   "source": [
    "try:\n",
    "    from DS_Students import *\n",
    "    from ipynb.fs.full.DS101Questions import *\n",
    "except:\n",
    "    !pip install DS_Students\n",
    "    from DS_Students import *\n",
    "    from ipynb.fs.full.DS101Questions import *"
   ]
  },
  {
   "cell_type": "code",
   "execution_count": 4,
   "id": "4ea95fa4-85c0-4204-b1ba-fc671e3bdf4a",
   "metadata": {},
   "outputs": [
    {
     "data": {
      "application/vnd.jupyter.widget-view+json": {
       "model_id": "fb35df54380542659d5509a319795f7a",
       "version_major": 2,
       "version_minor": 0
      },
      "text/plain": [
       "VBox(children=(Output(), RadioButtons(layout=Layout(width='max-content'), options=(('The different flavors of …"
      ]
     },
     "metadata": {},
     "output_type": "display_data"
    },
    {
     "data": {
      "application/vnd.jupyter.widget-view+json": {
       "model_id": "a482b8d3fe8c4e7f928c89fd53bcb26c",
       "version_major": 2,
       "version_minor": 0
      },
      "text/plain": [
       "VBox(children=(Output(), RadioButtons(layout=Layout(width='max-content'), options=(('The different flavors of …"
      ]
     },
     "metadata": {},
     "output_type": "display_data"
    },
    {
     "data": {
      "application/vnd.jupyter.widget-view+json": {
       "model_id": "5586314c61924534956e1adb4a4c42c8",
       "version_major": 2,
       "version_minor": 0
      },
      "text/plain": [
       "VBox(children=(Output(), RadioButtons(layout=Layout(width='max-content'), options=(('Fat-free ice cream', 0), …"
      ]
     },
     "metadata": {},
     "output_type": "display_data"
    }
   ],
   "source": [
    "try:\n",
    "    display(L3P2Q1, L3P2Q2, L3P2Q3)\n",
    "except:\n",
    "    pass"
   ]
  },
  {
   "cell_type": "markdown",
   "id": "efb97cd1-4660-42d1-ab1d-673196dba5e5",
   "metadata": {},
   "source": [
    "<hr style=\"height:10px;border-width:0;color:gray;background-color:gray\">\n",
    "\n",
    "# Page 3 - Additional Research Designs<a class=\"anchor\" id=\"DS101L3_page_3\"></a>\n",
    "\n",
    "[Back to Top](#DS101L3_toc)\n",
    "    \n",
    "<hr style=\"height:10px;border-width:0;color:gray;background-color:gray\">"
   ]
  },
  {
   "cell_type": "code",
   "execution_count": 5,
   "id": "4ce13b37-3073-4133-8143-39dee401ce5f",
   "metadata": {},
   "outputs": [
    {
     "data": {
      "text/html": [
       "\n",
       "        <iframe\n",
       "            width=\"720\"\n",
       "            height=\"480\"\n",
       "            src=\"https://player.vimeo.com/video/315708324\"\n",
       "            frameborder=\"0\"\n",
       "            allowfullscreen\n",
       "            \n",
       "        ></iframe>\n",
       "        "
      ],
      "text/plain": [
       "<IPython.lib.display.VimeoVideo at 0x1e4a05d7d60>"
      ]
     },
     "execution_count": 5,
     "metadata": {},
     "output_type": "execute_result"
    }
   ],
   "source": [
    "from IPython.display import VimeoVideo\n",
    "# Tutorial Video Name: Data Science Software\n",
    "VimeoVideo('315708324', width=720, height=480)"
   ]
  },
  {
   "cell_type": "markdown",
   "id": "d92fdc70-f5e1-4b81-a302-20b7d80643c7",
   "metadata": {
    "tags": []
   },
   "source": [
    "The transcript for the above topic tutorial video **[is located here](https://repo.exeterlms.com/documents/V2/DataScience/Video-Transcripts/DSO101-L03-pg3tutorial.zip)**.\n",
    "\n",
    "# Additional Research Designs\n",
    "\n",
    "There are many other different experimental or research designs that you may encounter, besides the classic one you learned about on the last page.  \n",
    "\n",
    "![From top to bottom, experiment, quasi experiment, observation and survey. An arrow pointing downward reads rigor. An arrow pointing upward reads common.](Media/variables2.png)\n",
    "\n",
    "In order from most to least rigorous:\n",
    "\n",
    "* **Experimental Design:** One of the important things to note about experimental design is that the participants in the experiment are assigned *randomly* to the condition groups.  Experimental design ALWAYS takes place under carefully controlled conditions.\n",
    "\n",
    "* **Quasi-Experimental Design:** Quasi means \"semi\" or partially.  This is similar to experimental design, but typically the participants are NOT randomly assigned to the different conditions.  You then have a *comparison group* instead of a control group.  Without random assignment, there is the possibility of bias because participants are allowed to choose their own condition or researchers may assign them non-arbitrarily.  \n",
    "\n",
    "    Quasi-experimental designs may take place under the same carefully controlled conditions as experimental designs, but they more often take place in the real world, where not every detail is controlled.  This is another reason why quasi-experimental designs are less rigorous than experimental designs.\n",
    "\n",
    "* **Observation or Survey Design:** There is often an element of time and/or control in experimental or quasi-experimental designs that is missing from any other type of research study.  If you are not manipulating the participants in any way, and you don't have separate conditions for the independent variable, then you can't really prove any cause and effect relationships.  This makes observation and survey designs the weakest research design, but because they are easy to implement, they are ironically the most common research design as well!\n",
    "\n",
    "---\n",
    "\n",
    "## Longitudinal Designs\n",
    "\n",
    "Whenever you would like to look at change over time, this is called a longitudinal design.  Looking at things over time is very common; you may have encountered it in the form of the \"pre-test\" and \"post-test\" in school, to measure how much you've learned over the year.  \n",
    "\n",
    "There are three different ways to handle experimental or quasi-experimental designs when you want to determine changes over time.  \n",
    "\n",
    "* **Longitudinal Design:**  In a longitudinal design, the same people are measured at different time points.  \n",
    "\n",
    "* **Cohort Design**: In a cohort design, totally different people are used to measure different time points.\n",
    "\n",
    "* **Cross-Sectional Design:** A cross-sectional design combines both the longitudinal and the cohort designs together.  The same people are measured more than once, but there are also other people introduced at different points in time. \n",
    "\n",
    "![Three columns with headings longitudinal, cohort, and cross sectional. Four rows with headings year one, year three, year five, year seven. There are groups of people placed in the chart to show the differences between longitudinal, cohort, and cross sectional studies.](Media/variables3.png)\n",
    "\n",
    "---\n",
    "\n",
    "## Review\n",
    "\n",
    "Below is a quiz to review the recently covered material. Quizzes are _not_ graded.\n",
    "\n",
    "```c-lms\n",
    "start-activity: Research Design Quiz\n",
    "```"
   ]
  },
  {
   "cell_type": "code",
   "execution_count": 6,
   "id": "51f1084b-a3aa-4d32-bb0c-70e183a46f52",
   "metadata": {},
   "outputs": [
    {
     "data": {
      "application/vnd.jupyter.widget-view+json": {
       "model_id": "121c52024f574808966986f15062129a",
       "version_major": 2,
       "version_minor": 0
      },
      "text/plain": [
       "VBox(children=(Output(), RadioButtons(layout=Layout(width='max-content'), options=(('Surveys', 0), ('Quasi-exp…"
      ]
     },
     "metadata": {},
     "output_type": "display_data"
    },
    {
     "data": {
      "application/vnd.jupyter.widget-view+json": {
       "model_id": "e6c4f1b9ab854712a827afa52c79286c",
       "version_major": 2,
       "version_minor": 0
      },
      "text/plain": [
       "VBox(children=(Output(), RadioButtons(layout=Layout(width='max-content'), options=((\"Experimental designs rand…"
      ]
     },
     "metadata": {},
     "output_type": "display_data"
    },
    {
     "data": {
      "application/vnd.jupyter.widget-view+json": {
       "model_id": "284bb3edf8f7447987e6f05f5994525d",
       "version_major": 2,
       "version_minor": 0
      },
      "text/plain": [
       "VBox(children=(Output(), RadioButtons(layout=Layout(width='max-content'), options=(('No one does them anymore'…"
      ]
     },
     "metadata": {},
     "output_type": "display_data"
    },
    {
     "data": {
      "application/vnd.jupyter.widget-view+json": {
       "model_id": "050f06c7a0fc46f7bb45ec0d9a394088",
       "version_major": 2,
       "version_minor": 0
      },
      "text/plain": [
       "VBox(children=(Output(), RadioButtons(layout=Layout(width='max-content'), options=(('Cross-Sectional', 0), ('L…"
      ]
     },
     "metadata": {},
     "output_type": "display_data"
    },
    {
     "data": {
      "application/vnd.jupyter.widget-view+json": {
       "model_id": "a883f2ddc7b742da9925f0b3f9f303e1",
       "version_major": 2,
       "version_minor": 0
      },
      "text/plain": [
       "VBox(children=(Output(), RadioButtons(layout=Layout(width='max-content'), options=(('Cross-Sectional', 0), ('L…"
      ]
     },
     "metadata": {},
     "output_type": "display_data"
    },
    {
     "data": {
      "application/vnd.jupyter.widget-view+json": {
       "model_id": "4a98ddcbfa334ed3aa6758b3a1268df9",
       "version_major": 2,
       "version_minor": 0
      },
      "text/plain": [
       "VBox(children=(Output(), RadioButtons(layout=Layout(width='max-content'), options=(('Cross-Sectional', 0), ('L…"
      ]
     },
     "metadata": {},
     "output_type": "display_data"
    }
   ],
   "source": [
    "try:\n",
    "    display(L3P3Q1, L3P3Q2, L3P3Q3, L3P3Q4, L3P3Q5, L3P3Q6)\n",
    "except:\n",
    "    pass"
   ]
  },
  {
   "cell_type": "markdown",
   "id": "e01688ff-943d-4ceb-88e0-5f40b8cc74ef",
   "metadata": {},
   "source": [
    "<hr style=\"height:10px;border-width:0;color:gray;background-color:gray\">\n",
    "\n",
    "# Page 4 - Variable Types<a class=\"anchor\" id=\"DS101L3_page_4\"></a>\n",
    "\n",
    "[Back to Top](#DS101L3_toc)\n",
    "    \n",
    "<hr style=\"height:10px;border-width:0;color:gray;background-color:gray\">"
   ]
  },
  {
   "cell_type": "code",
   "execution_count": 7,
   "id": "27f11a16-ad7e-44c9-a138-c0c6e7be37a9",
   "metadata": {},
   "outputs": [
    {
     "data": {
      "text/html": [
       "\n",
       "        <iframe\n",
       "            width=\"720\"\n",
       "            height=\"480\"\n",
       "            src=\"https://player.vimeo.com/video/315708368\"\n",
       "            frameborder=\"0\"\n",
       "            allowfullscreen\n",
       "            \n",
       "        ></iframe>\n",
       "        "
      ],
      "text/plain": [
       "<IPython.lib.display.VimeoVideo at 0x1e4a25dc310>"
      ]
     },
     "execution_count": 7,
     "metadata": {},
     "output_type": "execute_result"
    }
   ],
   "source": [
    "from IPython.display import VimeoVideo\n",
    "# Tutorial Video Name: Data Science Software\n",
    "VimeoVideo('315708368', width=720, height=480)"
   ]
  },
  {
   "cell_type": "markdown",
   "id": "f7ec9985-bcbe-4645-a1fe-1c7e52a9b0f1",
   "metadata": {},
   "source": [
    "\n",
    "The transcript for the above topic tutorial video **[is located here](https://repo.exeterlms.com/documents/V2/DataScience/Video-Transcripts/DSO101-L03-pg4tutorial.zip)**.\n",
    "\n",
    "# Making Sense of Data\n",
    "\n",
    "As a data scientist, you will often have someone present you with data and ask some questions about it.  Usually these questions will require some level of statistical analysis.\n",
    "\n",
    "Here is an example of how this usually plays out in the office:\n",
    "\n",
    "The marketing manager comes to you and wants to know what the customer retention rate is. That may be all he or she asks for, but it's up to you to dig deeper, to make sure you are understanding exactly what the manager wants and can help that manager achieve his or her goals.  You may want to ask questions like: \n",
    "\n",
    "* **What is meant by the word \"retention\"?**\n",
    "    * If a customer purchases product ABC in March, and then nothing until June, is that customer retained, or not?\n",
    "\n",
    "* **How far back they want you to go?**\n",
    "    * Just the last 6 months, or the last 5 years?\n",
    "\n",
    "* **If there is a certain demographic they want you to focus on?**\n",
    "    * \"By the way, this is for women aged 25 to 44, US customers only\"?\n",
    "\n",
    "Eventually, you have enough information to understand what the manager is really asking for and you will be able to run the appropriate analysis to answer his or her questions.  In this case, you may find that the manager is actually interested in when a household buys a certain product, and then within the next two months, someone in that same household makes a follow-up purchase of the same product, or one of these other three related products.\n",
    "\n",
    "To be able to pick the right analysis, however, you will need to determine what your independent and your dependent variable is, and also the **variable type**.  Data comes in different forms.  It could be letters, it could be numbers, it could be rank-order.  You'll learn about each of these variable types.\n",
    "\n",
    "---\n",
    "\n",
    "## Variable Types\n",
    "\n",
    "You are going to focus on four main variable types:\n",
    "\n",
    "* Quantitative\n",
    "* Qualitative\n",
    "* Ordinal\n",
    "* Categorical  \n",
    "\n",
    "---\n",
    "\n",
    "### Quantitative Variables\n",
    "\n",
    "Quantitative data means numbers, but not just any numbers - numbers that are scaled.  This means that as the number gets bigger, that actually means there is more of something, and if the number gets smaller, than there is less of something. This is often called a *continuous* variable as well.\n",
    "\n",
    "Measuring someone or something's height, weight, length, speed, or endurance are all examples of quantitative variables.\n",
    "\n",
    "![A digital caliper micrometer measuring tool. A hand holds a small object between the calipers. The screen reads fifty one point five nine millimeters.](Media/L03-08.png)\n",
    "\n",
    "---\n",
    "\n",
    "### Qualitative Variables\n",
    "\n",
    "Qualitative data means words.  In the data science world, non-numeric data is often called *string* or *character* data.  Sometimes qualitative data comes in terms of free-answer interview or survey questions, where people can answer a question in any way they choose.  When this happens, there are virtually no statistics that can be run on this data - but analysis can still take place by looking through themes of the answers, etc.  \n",
    "\n",
    "---\n",
    "\n",
    "### Categorical Variables\n",
    "\n",
    "Other times, qualitative data has a limited set of response options.  Someone has to choose a category into which their response best fits. When this happens, it is referred to as a *categorical variable* or in the case of some data analysis programs like R, a *factor*.\n",
    "\n",
    "For example, if you wanted to measure someone's preferred genre of music or movies, favorite seafood dish, skin color, eye color, or political preference, those would all be categorical variables. A categorical variable is exactly what it sounds like - the measured item results in a category rather than a number.\n",
    "\n",
    "Below is a great example of categorical data:\n",
    "\n",
    "![Categorical data. Beneath a bird, text reads I am a bird, I am yellow, I am awesome. Beneath a seahorse, text reads, I am a seahorse, I am orange, I am super awesome. Beneath a T rex, text reads, I am a T rex, I am green, I am extinct.](Media/L03-09.png)\n",
    "\n",
    "---\n",
    "\n",
    "### Ordinal Variables\n",
    "\n",
    "There is a very special case of categorical data in which the order matters.  For instance, if a survey is asking people their satisfaction with this course, there may be three responses: \n",
    "\n",
    "* Very satisfied\n",
    "* Satisfied\n",
    "* Very unsatisfied\n",
    "\n",
    "These are still not numbers, so the data can't be quantitative, but there is some sense of \"better-ness\" with the first category listed compared to the last category.  This would be an example of an *ordinal variable*.\n",
    "\n",
    "---\n",
    "\n",
    "## How to Differentiate Between Variable Types\n",
    "\n",
    "There is a simple test to determine whether a number is a quantitative or a categorical variable. If doing math (such as taking an average) on the number seems like a reasonable thing to do, then the variable is quantitative. You don't even need to pay attention to the average; the decision just hinges on whether or not it even makes sense to take the average.\n",
    "\n",
    "If doing math on the number doesn't make any sense, then it is categorical.\n",
    "\n",
    "Look at some examples:\n",
    "\n",
    "* The butcher weighs some steaks to which to sell. Steak weight is a quantitative variable because it would be reasonable to talk about the average weight of steaks.\n",
    "\n",
    "* A high school kicker is practicing his punting. You measure the hang time with a timer. Hang time is a quantitative variable because it is reasonable to measure average hang time.\n",
    "\n",
    "* The zip code of your first home is 85274. Even though this is a number, you wouldn't gather 10 different zip codes, calculate the \"average zip code,\" and expect that to be meaningful in any way. Even though you can do the math, it doesn't make any sense to do so; the average doesn't mean anything. Zip code is a categorical variable that looks like a number.\n",
    "\n",
    "* Your hourly wage is $26.70. Hourly wage is a quantitative variable, because it would be reasonable to talk about the average hourly wage for several jobs.\n",
    "\n",
    "* If you take out the dashes, your phone number is a 10 digit number. A phone number is categorical, because even though you can calculate the \"average phone number\" between you and your 6 best friends, dialing that number and expecting that it is a method for getting to all of you at the same time is ridiculous.\n",
    "\n",
    "So, why do you care about the variable type? Some analyses require particular types of variables. While you can convert variables from one type to another, doing so may bias your data, taking out some of the initial inherent meaning in what you collected.\n",
    "\n",
    "Nevertheless, the next few pages will cover variable type conversion, because there will be situations in which it makes sense to do so.\n",
    "\n",
    "---\n",
    "\n",
    "## Review\n",
    "\n",
    "Below is a quiz to review the recently covered material. Quizzes are _not_ graded.\n",
    "\n",
    "```c-lms\n",
    "start-activity: Variable Types Quiz\n",
    "```"
   ]
  },
  {
   "cell_type": "code",
   "execution_count": 8,
   "id": "bd69dca5-8c4d-4f4f-bee1-25a4e29ff8e4",
   "metadata": {},
   "outputs": [
    {
     "data": {
      "application/vnd.jupyter.widget-view+json": {
       "model_id": "6ef2855a7e834ccc8dd96a5d0d2d39ee",
       "version_major": 2,
       "version_minor": 0
      },
      "text/plain": [
       "VBox(children=(Output(), RadioButtons(layout=Layout(width='max-content'), options=(('This is a quantitative va…"
      ]
     },
     "metadata": {},
     "output_type": "display_data"
    },
    {
     "data": {
      "application/vnd.jupyter.widget-view+json": {
       "model_id": "164a573689004476b03e95d20e2f2dcf",
       "version_major": 2,
       "version_minor": 0
      },
      "text/plain": [
       "VBox(children=(Output(), RadioButtons(layout=Layout(width='max-content'), options=(('This is a quantitative va…"
      ]
     },
     "metadata": {},
     "output_type": "display_data"
    },
    {
     "data": {
      "application/vnd.jupyter.widget-view+json": {
       "model_id": "e5058f6e5baf480a95b7f539d3fabda5",
       "version_major": 2,
       "version_minor": 0
      },
      "text/plain": [
       "VBox(children=(Output(), RadioButtons(layout=Layout(width='max-content'), options=(('This is a quantitative va…"
      ]
     },
     "metadata": {},
     "output_type": "display_data"
    },
    {
     "data": {
      "application/vnd.jupyter.widget-view+json": {
       "model_id": "ee009e44b977473f95076778356c2a76",
       "version_major": 2,
       "version_minor": 0
      },
      "text/plain": [
       "VBox(children=(Output(), RadioButtons(layout=Layout(width='max-content'), options=(('This is a quantitative va…"
      ]
     },
     "metadata": {},
     "output_type": "display_data"
    },
    {
     "data": {
      "application/vnd.jupyter.widget-view+json": {
       "model_id": "b08cc8b350764b139d19358684cce6b0",
       "version_major": 2,
       "version_minor": 0
      },
      "text/plain": [
       "VBox(children=(Output(), RadioButtons(layout=Layout(width='max-content'), options=(('This is a quantitative va…"
      ]
     },
     "metadata": {},
     "output_type": "display_data"
    },
    {
     "data": {
      "application/vnd.jupyter.widget-view+json": {
       "model_id": "b068d0fe4f3d4aafbd1447e3527ab57e",
       "version_major": 2,
       "version_minor": 0
      },
      "text/plain": [
       "VBox(children=(Output(), RadioButtons(layout=Layout(width='max-content'), options=(('This is a quantitative va…"
      ]
     },
     "metadata": {},
     "output_type": "display_data"
    },
    {
     "data": {
      "application/vnd.jupyter.widget-view+json": {
       "model_id": "8425f14ca9d147fa8a62748ef3ca276b",
       "version_major": 2,
       "version_minor": 0
      },
      "text/plain": [
       "VBox(children=(Output(), RadioButtons(layout=Layout(width='max-content'), options=(('This is a quantitative va…"
      ]
     },
     "metadata": {},
     "output_type": "display_data"
    }
   ],
   "source": [
    "try:\n",
    "    display(L3P4Q1, L3P4Q2, L3P4Q3, L3P4Q4, L3P4Q5, L3P4Q6, L3P4Q7)\n",
    "except:\n",
    "    pass"
   ]
  },
  {
   "cell_type": "markdown",
   "id": "222e2280-0623-4f77-874a-38763dd97e10",
   "metadata": {},
   "source": [
    "<hr style=\"height:10px;border-width:0;color:gray;background-color:gray\">\n",
    "\n",
    "# Page 5 - Recoding Quiz <a class=\"anchor\" id=\"DS101L3_page_5\"></a>\n",
    "\n",
    "[Back to Top](#DS101L3_toc)\n",
    "    \n",
    "<hr style=\"height:10px;border-width:0;color:gray;background-color:gray\">"
   ]
  },
  {
   "cell_type": "code",
   "execution_count": 9,
   "id": "07748ba9-d5bd-483f-bc35-3532f6edf16c",
   "metadata": {},
   "outputs": [
    {
     "data": {
      "text/html": [
       "\n",
       "        <iframe\n",
       "            width=\"720\"\n",
       "            height=\"480\"\n",
       "            src=\"https://player.vimeo.com/video/315708270\"\n",
       "            frameborder=\"0\"\n",
       "            allowfullscreen\n",
       "            \n",
       "        ></iframe>\n",
       "        "
      ],
      "text/plain": [
       "<IPython.lib.display.VimeoVideo at 0x1e4a25dc7f0>"
      ]
     },
     "execution_count": 9,
     "metadata": {},
     "output_type": "execute_result"
    }
   ],
   "source": [
    "from IPython.display import VimeoVideo\n",
    "# Tutorial Video Name: Data Science Software\n",
    "VimeoVideo('315708270', width=720, height=480)"
   ]
  },
  {
   "cell_type": "markdown",
   "id": "74f31d2f-ef11-4c1c-b1fb-588708cb9b18",
   "metadata": {
    "tags": []
   },
   "source": [
    "The transcript for the above topic tutorial video **[is located here](https://repo.exeterlms.com/documents/V2/DataScience/Video-Transcripts/DSO101-L03-pg5tutorial.zip)**.\n",
    "\n",
    "# Recoding from Quantitative to Categorical\n",
    "\n",
    "Suppose you are doing a study on bone density for women, and you want to measure the bone density for all of your subjects, but you also want to investigate the effect that age has on bone density.\n",
    "\n",
    "![A woman lying on her back on a medical scanning machine. To her right, a doctor sits in front of a computer.](Media/L03-11.png)\n",
    "\n",
    "To do this, you would probably gather a bunch of test subjects and measure their bone density, and then ask their age. \n",
    "\n",
    "Suppose that eventually, you want to determine if there is a big difference in bone density between younger women, middle-aged women, and old women. Since age is a quantitative variable, you could set thresholds to divide the ages into different categories, thus turning it into a categorical variable:\n",
    "\n",
    "* Young women: younger than 35\n",
    "* Middle age: 36 to 54\n",
    "* Old women: 55 and older\n",
    "\n",
    "---\n",
    "\n",
    "## Review\n",
    "\n",
    "Below is a quiz to review the recently covered material. Quizzes are _not_ graded.\n",
    "\n",
    "```c-lms\n",
    "start-activity: Recoding Quiz\n",
    "```\n"
   ]
  },
  {
   "cell_type": "code",
   "execution_count": 10,
   "id": "4b920343-1773-4126-835c-6c8bc657e1c3",
   "metadata": {},
   "outputs": [
    {
     "data": {
      "application/vnd.jupyter.widget-view+json": {
       "model_id": "b02a7aadfa5f45b9932d09d771a85349",
       "version_major": 2,
       "version_minor": 0
      },
      "text/plain": [
       "VBox(children=(Output(), RadioButtons(layout=Layout(width='max-content'), options=(('Small: Under 5\\'; Medium:…"
      ]
     },
     "metadata": {},
     "output_type": "display_data"
    },
    {
     "data": {
      "application/vnd.jupyter.widget-view+json": {
       "model_id": "44d67c27bc564affaae2a410d9c49b96",
       "version_major": 2,
       "version_minor": 0
      },
      "text/plain": [
       "VBox(children=(Output(), RadioButtons(layout=Layout(width='max-content'), options=(('True', 0), ('False', 1)),…"
      ]
     },
     "metadata": {},
     "output_type": "display_data"
    }
   ],
   "source": [
    "try:\n",
    "    display(L3P5Q1, L3P5Q2)\n",
    "except:\n",
    "    pass"
   ]
  },
  {
   "cell_type": "markdown",
   "id": "8392d8b5-b117-484a-adb5-a6e5b79c21dd",
   "metadata": {},
   "source": [
    "<hr style=\"height:10px;border-width:0;color:gray;background-color:gray\">\n",
    "\n",
    "# Page 6 - Ordinal Variables<a class=\"anchor\" id=\"DS101L3_page_6\"></a>\n",
    "\n",
    "[Back to Top](#DS101L3_toc)\n",
    "\n",
    "<hr style=\"height:10px;border-width:0;color:gray;background-color:gray\">"
   ]
  },
  {
   "cell_type": "code",
   "execution_count": 11,
   "id": "55cf72ed-7b3e-405e-afe2-206d677344fb",
   "metadata": {},
   "outputs": [
    {
     "data": {
      "text/html": [
       "\n",
       "        <iframe\n",
       "            width=\"720\"\n",
       "            height=\"480\"\n",
       "            src=\"https://player.vimeo.com/video/315708308\"\n",
       "            frameborder=\"0\"\n",
       "            allowfullscreen\n",
       "            \n",
       "        ></iframe>\n",
       "        "
      ],
      "text/plain": [
       "<IPython.lib.display.VimeoVideo at 0x1e4a25ec700>"
      ]
     },
     "execution_count": 11,
     "metadata": {},
     "output_type": "execute_result"
    }
   ],
   "source": [
    "from IPython.display import VimeoVideo\n",
    "# Tutorial Video Name: Data Science Software\n",
    "VimeoVideo('315708308', width=720, height=480)"
   ]
  },
  {
   "cell_type": "markdown",
   "id": "8548e1b6-87b6-43bc-8765-216419d70ed9",
   "metadata": {},
   "source": [
    "The transcript for the above topic tutorial video **[is located here](https://repo.exeterlms.com/documents/V2/DataScience/Video-Transcripts/DSO101-L03-pg6tutorial.zip)**.\n",
    "\n",
    "Some variables appear to be quantitative, but they may actually be ordinal instead. An ordinal variable is one where it is obvious to most everyone when one value is bigger or smaller than another, but what may not be obvious is \"how much bigger.\"\n",
    "\n",
    "Here are some examples of ordinal variables:\n",
    "\n",
    "* **Dress Sizes:** Everyone knows that a size 8 dress is larger than a size 4 dress, but is it twice as large? Is a size 8 dress four times as large as a size 2 dress? What about a size 0 dress? If you wear a size 0 dress, does that mean you have completely vanished?\n",
    "\n",
    "* **Stress Addresses:** If someone lives at 286 N Piedmont Avenue, and you live at 572 N Piedmont Avenue, what does that say about the houses? Is yours twice the size of mine, or twice the value of mine? Or is the number just an indication of the fact that your house is farther north on the same street as my house? Now, some might argue that your house is twice as far from Main Street (for instance), if Main Street is the reference east-west route from which the city was laid out, but it is not likely to be very exact. Just the fact that two houses that lie directly across the street from each other will have different addresses, even if the houses and lots are identical in every other way, indicates that addresses are not quantitative.\n",
    "\n",
    "* **Paint Swatches:** Paint swatches have three or four different shades of color - blue, for example. It is easy to tell which shade is darker than the others, or lighter than the others, so there is an order present. However, to be able to quantify the differences is a big challenge.\n",
    "\n",
    "* **Survey Question Responses:** If you have ever taken a survey or questionnaire with possible answers such as:\n",
    "    * Strongly Agree\n",
    "    * Somewhat Agree\n",
    "    * Neither Agree nor Disagree\n",
    "    * Somewhat Disagree\n",
    "    * Strongly Disagree\n",
    "    \n",
    "    It is easy to see how two answers sit with respect to each other on the \"agreeable\" spectrum. However, there is no way to quantify the amount of agreement or disagreement.\n",
    "\n",
    "There are several good options for analyzing ordinal variables. However, they are most often analyzed as if they were regular categorical variables or as if they were quantitative, depending on the data and what the question you are trying to answer is.\n",
    "\n",
    "---\n",
    "\n",
    "## Review\n",
    "\n",
    "Below is a quiz to review the recently covered material. Quizzes are _not_ graded.\n",
    "\n",
    "```c-lms\n",
    "start-activity: Ordinal Variables Quiz\n",
    "```"
   ]
  },
  {
   "cell_type": "code",
   "execution_count": 12,
   "id": "0dcd269d-272b-4447-9891-f006401712b2",
   "metadata": {},
   "outputs": [
    {
     "data": {
      "application/vnd.jupyter.widget-view+json": {
       "model_id": "f9ca27ea5df74c6c9c25d285fdf15d32",
       "version_major": 2,
       "version_minor": 0
      },
      "text/plain": [
       "VBox(children=(Output(), RadioButtons(layout=Layout(width='max-content'), options=(('An ordinal variable uses …"
      ]
     },
     "metadata": {},
     "output_type": "display_data"
    },
    {
     "data": {
      "application/vnd.jupyter.widget-view+json": {
       "model_id": "7f60881c29ab414e8841800804b624a6",
       "version_major": 2,
       "version_minor": 0
      },
      "text/plain": [
       "VBox(children=(Output(), RadioButtons(layout=Layout(width='max-content'), options=(('Age in years', 0), ('Gend…"
      ]
     },
     "metadata": {},
     "output_type": "display_data"
    }
   ],
   "source": [
    "try:\n",
    "    display(L3P6Q1, L3P6Q2)\n",
    "except:\n",
    "    pass"
   ]
  },
  {
   "cell_type": "markdown",
   "id": "d280da53-cf61-4796-88e4-ecbff6e3764e",
   "metadata": {},
   "source": [
    "<hr style=\"height:10px;border-width:0;color:gray;background-color:gray\">\n",
    "\n",
    "# Page 7 - Quantitative Variables<a class=\"anchor\" id=\"DS101L3_page_7\"></a>\n",
    "\n",
    "[Back to Top](#DS101L3_toc)\n",
    "\n",
    "<hr style=\"height:10px;border-width:0;color:gray;background-color:gray\">"
   ]
  },
  {
   "cell_type": "code",
   "execution_count": 13,
   "id": "d3986686-1420-4cc6-83fd-10cf1446d978",
   "metadata": {},
   "outputs": [
    {
     "data": {
      "text/html": [
       "\n",
       "        <iframe\n",
       "            width=\"720\"\n",
       "            height=\"480\"\n",
       "            src=\"https://player.vimeo.com/video/315708349\"\n",
       "            frameborder=\"0\"\n",
       "            allowfullscreen\n",
       "            \n",
       "        ></iframe>\n",
       "        "
      ],
      "text/plain": [
       "<IPython.lib.display.VimeoVideo at 0x1e4a25f65b0>"
      ]
     },
     "execution_count": 13,
     "metadata": {},
     "output_type": "execute_result"
    }
   ],
   "source": [
    "from IPython.display import VimeoVideo\n",
    "# Tutorial Video Name: Data Science Software\n",
    "VimeoVideo('315708349', width=720, height=480)"
   ]
  },
  {
   "cell_type": "markdown",
   "id": "ed25bd8b-25e4-4251-8765-f14969dbc3c6",
   "metadata": {},
   "source": [
    "\n",
    "The transcript for the above topic tutorial video **[is located here](https://repo.exeterlms.com/documents/V2/DataScience/Video-Transcripts/DSO101-L03-pg7tutorial.zip)**.\n",
    "\n",
    "# Quantitative Variables\n",
    "\n",
    "Quantitative variables can be further broken down into two main types, and each type requires a different treatment. There are quantitative variables that are *discrete*, and quantitative variables that are *continuous*.\n",
    "\n",
    "---\n",
    "\n",
    "## Continuous Quantitative Variables\n",
    "\n",
    "A quantitative variable is said to be continuous if it can take on any number, without breaks between possible values. Things that can physically be measured such as length, weight, temperature, and time are considered to be continuous variables.\n",
    "\n",
    "![A measuring tape with the tape pulled out to the number four. Above the tape are numbers from zero to three in increments of one fourth.](Media/L03-14.png)\n",
    "\n",
    "Focus on length for a minute. Suppose you gathered a bunch of people, and led them to a rock pile, and gave each person a measuring tape. Then you vaguely instructed them that you wanted to collect some data on the typical length of rocks.  You might get a list of measurements that included 17.26 cm, 14.88 cm, 6.91 cm, etc. if you were asking them to measure to the nearest 1/100th of a centimeter.\n",
    "\n",
    "Other physical measurements can also be measured - weights, temperatures, or times.\n",
    "\n",
    "<div class=\"panel panel-danger\">\n",
    "    <div class=\"panel-heading\">\n",
    "        <h3 class=\"panel-title\">Caution!</h3>\n",
    "    </div>\n",
    "    <div class=\"panel-body\">\n",
    "        <p>Don't get caught up thinking that if you can report something as a decimal or a fraction, it must be continuous. This is because when looking at numbers in aggregate (i.e. more than one value at once), you can end up with an average.</p>\n",
    "    </div>\n",
    "</div>\n",
    "\n",
    "---\n",
    "\n",
    "## Discrete Quantitative Variables\n",
    "\n",
    "A quantitative variable is said to be discrete if it can only take on a limited set of numbers, and there are breaks between possible values. This usually has to do with counting. If something can be counted, it is often a discrete variable.\n",
    "\n",
    "For example, maybe you are collecting data on the number of children each of your coworkers has. Some will not have any children, some will have one child, some will have two kids, etc. But nobody is going to have 1.73 children, because that is not a possible value.\n",
    "\n",
    "The number of children in a family is a discrete quantitative variable. Other examples are things like the number of credit hours you are registered for in a semester of college, or how many times you have watched your favorite re-run.  \n",
    "\n",
    "Sometimes variables are technically discrete, but it is okay to treat them as continuous. It is usually safe to treat discrete variables like continuous variables when the raw numbers get large. Good examples are populations, GDP for countries, or new job openings in a given month.\n",
    "\n",
    "---\n",
    "\n",
    "## Summary\n",
    "\n",
    "Statistical analyses and visuals have very specific requirements about the types of data you can use.  In order to use these tools, you will need to differentiate between the independent and dependent variables, have a basic understanding of research methods, and be able to instantly recognize the variable types for the data you are examining.  You'll also need to know how to turn something from a quantitative variable into a categorical one.\n",
    "\n",
    "---\n",
    "\n",
    "## Review\n",
    "\n",
    "Below is a quiz to review the recently covered material. Quizzes are _not_ graded.\n",
    "\n",
    "```c-lms\n",
    "start-activity: Quantitative Variables Quiz\n",
    "```\n"
   ]
  },
  {
   "cell_type": "code",
   "execution_count": 14,
   "id": "892ec062-0cab-458c-822b-20cbdabe89a9",
   "metadata": {},
   "outputs": [
    {
     "data": {
      "application/vnd.jupyter.widget-view+json": {
       "model_id": "5b91c4f5aec74fd4b237ed5e9e22a04c",
       "version_major": 2,
       "version_minor": 0
      },
      "text/plain": [
       "VBox(children=(Output(), RadioButtons(layout=Layout(width='max-content'), options=(('Discrete', 0), ('Continuo…"
      ]
     },
     "metadata": {},
     "output_type": "display_data"
    },
    {
     "data": {
      "application/vnd.jupyter.widget-view+json": {
       "model_id": "5cd65c8155fc4d7aa8cda87423e001be",
       "version_major": 2,
       "version_minor": 0
      },
      "text/plain": [
       "VBox(children=(Output(), RadioButtons(layout=Layout(width='max-content'), options=(('Discrete', 0), ('Continuo…"
      ]
     },
     "metadata": {},
     "output_type": "display_data"
    },
    {
     "data": {
      "application/vnd.jupyter.widget-view+json": {
       "model_id": "801a39c87ea146ce80d4bba4953a7b64",
       "version_major": 2,
       "version_minor": 0
      },
      "text/plain": [
       "VBox(children=(Output(), RadioButtons(layout=Layout(width='max-content'), options=(('Discrete', 0), ('Continuo…"
      ]
     },
     "metadata": {},
     "output_type": "display_data"
    }
   ],
   "source": [
    "try:\n",
    "    display(L3P7Q1, L3P7Q2, L3P7Q3)\n",
    "except:\n",
    "    pass"
   ]
  },
  {
   "cell_type": "markdown",
   "id": "c90ca278-6b44-410b-870c-8321b7cd686d",
   "metadata": {},
   "source": [
    "<hr style=\"height:10px;border-width:0;color:gray;background-color:gray\">\n",
    "\n",
    "# Page 8 - Key Terms<a class=\"anchor\" id=\"DS101L3_page_8\"></a>\n",
    "\n",
    "[Back to Top](#DS101L3_toc)\n",
    "\n",
    "<hr style=\"height:10px;border-width:0;color:gray;background-color:gray\">\n",
    "\n",
    "Below is a list and short description of the important keywords learned in this lesson. Please read through and go back and review any concepts you do not fully understand. Great Work!\n",
    "\n",
    "<table class=\"table table-striped\">\n",
    "    <tr>\n",
    "        <th>Keyword</th>\n",
    "        <th>Description</th>\n",
    "    </tr>\n",
    "    <tr>\n",
    "        <td style=\"font-weight: bold;\" nowrap>Independent Variable</td>\n",
    "        <td>What is being manipulated in an experiment. Usually has conditions.</td>\n",
    "    </tr>\n",
    "    <tr>\n",
    "        <td style=\"font-weight: bold;\" nowrap>Dependent Variable</td>\n",
    "        <td>What is being measured in an experiment.  Results <em>depend</em> on the condition of the independent variable.</td>\n",
    "    </tr>\n",
    "    <tr>\n",
    "        <td style=\"font-weight: bold;\" nowrap>Experimental Group or Condition</td>\n",
    "        <td>The idea that is being tested.  Is usually new.</td>\n",
    "    </tr>\n",
    "    <tr>\n",
    "        <td style=\"font-weight: bold;\" nowrap>Control Group or Condition</td>\n",
    "        <td>The old, status quo idea with which to compare.</td>\n",
    "    </tr>\n",
    "    <tr>\n",
    "      <td style=\"font-weight: bold;\" nowrap>Experiment</td>\n",
    "      <td>A true experiment is held in a lab setting and requires a control group.</td>\n",
    "    </tr>\n",
    "    <tr>\n",
    "      <td style=\"font-weight: bold;\" nowrap>Quasi-Experiment</td>\n",
    "      <td>Typically held in real-world settings and uses a comparison instead of a control group.</td>\n",
    "    </tr>\n",
    "    <tr>\n",
    "      <td style=\"font-weight: bold;\" nowrap>Survey / Observation</td>\n",
    "      <td>The least rigorous research methods, in which nothing is being manipulated or compared, just observed.</td>\n",
    "    </tr>\n",
    "    <tr>\n",
    "      <td style=\"font-weight: bold;\" nowrap>Longitudinal Research Methods</td>\n",
    "      <td>For looking at data over time.</td>\n",
    "    </tr>\n",
    "    <tr>\n",
    "      <td style=\"font-weight: bold;\" nowrap>Longitudinal</td>\n",
    "      <td>Study the same groups of people over time.</td>\n",
    "    </tr>\n",
    "    <tr>\n",
    "      <td style=\"font-weight: bold;\" nowrap>Cohort</td>\n",
    "      <td>Study different groups of people over time.</td>\n",
    "    </tr>\n",
    "    <tr>\n",
    "      <td style=\"font-weight: bold;\" nowrap>Cross-Sectional</td>\n",
    "      <td>Study the same group of people for a short time, then study additional people for short times as well.</td>\n",
    "    </tr>\n",
    "    <tr>\n",
    "      <td style=\"font-weight: bold;\" nowrap>Tableau</td>\n",
    "      <td>Data visualization software.</td>\n",
    "    </tr>\n",
    "</table>\n"
   ]
  },
  {
   "cell_type": "markdown",
   "id": "b78a9bd1-4a0c-42b5-b42f-e8a71145025d",
   "metadata": {},
   "source": [
    "<hr style=\"height:10px;border-width:0;color:gray;background-color:gray\">\n",
    "\n",
    "# Page 9 - Final Lesson Exam<a class=\"anchor\" id=\"DS101L3_page_9\"></a>\n",
    "\n",
    "[Back to Top](#DS101L3_toc)\n",
    "\n",
    "<hr style=\"height:10px;border-width:0;color:gray;background-color:gray\">\n",
    "\n",
    " Go to the LMS to take the quiz for Lesson 3"
   ]
  },
  {
   "cell_type": "code",
   "execution_count": 15,
   "id": "f1598bff-84fa-403a-91c1-e39bf62cb8c7",
   "metadata": {},
   "outputs": [
    {
     "data": {
      "application/vnd.jupyter.widget-view+json": {
       "model_id": "abcdffcc2c7e43de91c4127528d9a122",
       "version_major": 2,
       "version_minor": 0
      },
      "text/plain": [
       "VBox(children=(Output(), RadioButtons(layout=Layout(width='max-content'), options=(('Categorical', 0), ('Quant…"
      ]
     },
     "metadata": {},
     "output_type": "display_data"
    },
    {
     "data": {
      "application/vnd.jupyter.widget-view+json": {
       "model_id": "d97c4390e5db42888b315edb7d54a721",
       "version_major": 2,
       "version_minor": 0
      },
      "text/plain": [
       "VBox(children=(Output(), RadioButtons(layout=Layout(width='max-content'), options=(('Categorical', 0), ('Quant…"
      ]
     },
     "metadata": {},
     "output_type": "display_data"
    },
    {
     "data": {
      "application/vnd.jupyter.widget-view+json": {
       "model_id": "da7f89366c334b588b5d3b7e4ae52452",
       "version_major": 2,
       "version_minor": 0
      },
      "text/plain": [
       "VBox(children=(Output(), RadioButtons(layout=Layout(width='max-content'), options=(('Categorical', 0), ('Quant…"
      ]
     },
     "metadata": {},
     "output_type": "display_data"
    },
    {
     "data": {
      "application/vnd.jupyter.widget-view+json": {
       "model_id": "a7564d2a3fcf4bcf942c1bf8c7f247de",
       "version_major": 2,
       "version_minor": 0
      },
      "text/plain": [
       "VBox(children=(Output(), RadioButtons(layout=Layout(width='max-content'), options=(('Categorical', 0), ('Quant…"
      ]
     },
     "metadata": {},
     "output_type": "display_data"
    },
    {
     "data": {
      "application/vnd.jupyter.widget-view+json": {
       "model_id": "73ed4acdf2814fad957345aa3c4146d9",
       "version_major": 2,
       "version_minor": 0
      },
      "text/plain": [
       "VBox(children=(Output(), RadioButtons(layout=Layout(width='max-content'), options=(('Categorical', 0), ('Quant…"
      ]
     },
     "metadata": {},
     "output_type": "display_data"
    },
    {
     "data": {
      "application/vnd.jupyter.widget-view+json": {
       "model_id": "5bc94ff2a67a4771a14507493b09feb0",
       "version_major": 2,
       "version_minor": 0
      },
      "text/plain": [
       "VBox(children=(Output(), RadioButtons(layout=Layout(width='max-content'), options=(('Categorical', 0), ('Quant…"
      ]
     },
     "metadata": {},
     "output_type": "display_data"
    },
    {
     "data": {
      "application/vnd.jupyter.widget-view+json": {
       "model_id": "610590dd453a47ffadb9cbe1b60de21e",
       "version_major": 2,
       "version_minor": 0
      },
      "text/plain": [
       "VBox(children=(Output(), RadioButtons(layout=Layout(width='max-content'), options=(('Categorical', 0), ('Quant…"
      ]
     },
     "metadata": {},
     "output_type": "display_data"
    },
    {
     "data": {
      "application/vnd.jupyter.widget-view+json": {
       "model_id": "d4d3bc059ea940928cb0ffca19c15411",
       "version_major": 2,
       "version_minor": 0
      },
      "text/plain": [
       "VBox(children=(Output(), RadioButtons(layout=Layout(width='max-content'), options=(('Quantitative to categoric…"
      ]
     },
     "metadata": {},
     "output_type": "display_data"
    },
    {
     "data": {
      "application/vnd.jupyter.widget-view+json": {
       "model_id": "141f459ade424c408bbf4ac6eace9faf",
       "version_major": 2,
       "version_minor": 0
      },
      "text/plain": [
       "VBox(children=(Output(), RadioButtons(layout=Layout(width='max-content'), options=(('Quantitative to categoric…"
      ]
     },
     "metadata": {},
     "output_type": "display_data"
    }
   ],
   "source": [
    "try:\n",
    "    display(L3P9Q1, L3P9Q2, L3P9Q3, L3P9Q4, L3P9Q5, L3P9Q6, L3P9Q7, L3P9Q8, L3P9Q9)\n",
    "except:\n",
    "    pass"
   ]
  },
  {
   "cell_type": "code",
   "execution_count": null,
   "id": "e58d2be4-86b8-4300-91a6-4a1dad5e9c41",
   "metadata": {},
   "outputs": [],
   "source": []
  }
 ],
 "metadata": {
  "kernelspec": {
   "display_name": "Python 3 (ipykernel)",
   "language": "python",
   "name": "python3"
  },
  "language_info": {
   "codemirror_mode": {
    "name": "ipython",
    "version": 3
   },
   "file_extension": ".py",
   "mimetype": "text/x-python",
   "name": "python",
   "nbconvert_exporter": "python",
   "pygments_lexer": "ipython3",
   "version": "3.9.7"
  }
 },
 "nbformat": 4,
 "nbformat_minor": 5
}
