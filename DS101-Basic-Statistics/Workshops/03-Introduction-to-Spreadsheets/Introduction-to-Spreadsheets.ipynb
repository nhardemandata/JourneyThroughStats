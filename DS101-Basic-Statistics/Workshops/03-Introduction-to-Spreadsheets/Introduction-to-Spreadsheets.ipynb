{
 "cells": [
  {
   "cell_type": "markdown",
   "id": "0f69ad60-1cc1-4e0f-b20a-175f6b2b8bda",
   "metadata": {},
   "source": [
    "# Introduction to Spreadsheets\n"
   ]
  },
  {
   "cell_type": "markdown",
   "id": "5dbc9803-1fd7-4391-a792-42325939f69b",
   "metadata": {},
   "source": [
    "[Wikipedia - Spreadsheet](https://en.wikipedia.org/wiki/Spreadsheet)\n",
    "\n",
    "A spreadsheet is a computer application for organization, analysis, and storage of data in tabular form. \n",
    "\n",
    "Spreadsheets were developed as computerized analogs of paper accounting worksheets.\n",
    "\n",
    "The program operates on data entered in cells of a table. Each cell may contain either numeric or text data, or the results of formulas that automatically calculate and display a value based on the contents of other cells. A spreadsheet may also refer to one such electronic document.\n",
    "\n",
    "Spreadsheet users can adjust any stored value and observe the effects on calculated values. This makes the spreadsheet useful for \"what-if\" analysis since many cases can be rapidly investigated without manual recalculation. Modern spreadsheet software can have multiple interacting sheets and can display data either as text and numerals or in graphical form.\n",
    "\n",
    "Besides performing basic arithmetic and mathematical functions, modern spreadsheets provide built in functions for common financial accountancy and statistical operations. Such calculations as net present value or standard deviation can be applied to tabular data with a pre-programmed function in a formula. Spreadsheet programs also provide conditional expressions, functions to convert between text and numbers, and functions that operate on strings of text.\n",
    "\n",
    "Spreadsheets have replaced paper-based systems throughout the business world. Although they were first developed for accounting or bookkeeping tasks, they now are used extensively in any context where tabular lists are built, sorted, and shared.\n",
    "\n",
    "LANPAR, available in 1969, was the first electronic spreadsheet on mainframe and time sharing computers. LANPAR was an acronym: LANguage for Programming Arrays at Random.\n",
    "\n",
    "VisiCalc (1979) was the first electronic spreadsheet on a microcomputer, and it helped turn the Apple II computer into a popular and widely used system. Lotus 1-2-3 was the leading spreadsheet when DOS was the dominant operating system.\n",
    "\n",
    "Microsoft Excel now has the largest market share on the Windows and Macintosh platforms.\n",
    "\n",
    "A spreadsheet program is a standard feature of an office productivity suite; since the advent of web apps, office suites now also exist in web app form.\n",
    "\n",
    "A spreadsheet consists of a table of cells arranged into rows and columns and referred to by the X and Y locations. X locations, the columns, are normally represented by letters, \"A,\" \"B,\" \"C,\" etc., while rows are normally represented by numbers, 1, 2, 3, etc. A single cell can be referred to by addressing its row and column, \"C10\". This electronic concept of cell references was first introduced in LANPAR (Language for Programming Arrays at Random) (co-invented by Rene Pardo and Remy Landau) and a variant used in VisiCalc and known as \"A1 notation\". Additionally, spreadsheets have the concept of a range, a group of cells, normally contiguous. For instance, one can refer to the first ten cells in the first column with the range \"A1:A10\". LANPAR innovated forward referencing/natural order calculation which didn't re-appear until Lotus 123 and Microsoft's MultiPlan Version 2.\n",
    "\n",
    "In modern spreadsheet applications, several spreadsheets, often known as worksheets or simply sheets, are gathered together to form a workbook. \n",
    "\n",
    "A workbook is physically represented by a file containing all the data for the book, the sheets, and the cells with the sheets. \n",
    "\n",
    "Worksheets are normally represented by tabs that flip between pages, each one containing one of the sheets, although Numbers changes this model significantly. Cells in a multi-sheet book add the sheet name to their reference, for instance, \"Sheet 1!C10\". Some systems extend this syntax to allow cell references to different workbooks.\n",
    "\n",
    "Users interact with sheets primarily through the cells. A given cell can hold data by simply entering it in, or a formula, which is normally created by preceding the text with an equals sign. Data might include the string of text hello world, the number 5 or the date 16-Dec-91. \n",
    "\n",
    "A formula would begin with the equals sign, =5*3, but this would normally be invisible because the display shows the result of the calculation, 15 in this case, not the formula itself. This may lead to confusion in some cases.\n",
    "\n",
    "The key feature of spreadsheets is the ability for a formula to refer to the contents of other cells, which may, in turn, be the result of a formula. To make such a formula, one replaces a number with a cell reference. For instance, the formula =5*C10 would produce the result of multiplying the value in cell C10 by the number 5. If C10 holds the value 3 the result will be 15. But C10 might also hold its formula referring to other cells, and so on.\n",
    "\n",
    "The ability to chain formulas together is what gives a spreadsheet its power. Many problems can be broken down into a series of individual mathematical steps, and these can be assigned to individual formulas in cells. Some of these formulas can apply to ranges as well, like the SUM function that adds up all the numbers within a range.\n",
    "\n",
    "Spreadsheets share many principles and traits of databases, but spreadsheets and databases are not the same things. \n",
    "\n",
    "A spreadsheet is essentially just one table, whereas a database is a collection of many tables with machine-readable semantic relationships. While it is true that a workbook that contains three sheets is indeed a file containing multiple tables that can interact with each other, it lacks the relational structure of a database. Spreadsheets and databases are interoperable—sheets can be imported into databases to become tables within them, and database queries can be exported into spreadsheets for further analysis.\n",
    "\n",
    "A spreadsheet program is one of the main components of an office productivity suite, which usually also contains a word processor, a presentation program, and a database management system. Programs within a suite use similar commands for similar functions. Usually, sharing data between the components is easier than with a non-integrated collection of functionally equivalent programs. This was particularly an advantage at a time when many personal computer systems used text-mode displays and commands instead of a graphical user interface."
   ]
  },
  {
   "cell_type": "markdown",
   "id": "fa6fadd9-a91c-498a-b675-aa8045744a9e",
   "metadata": {},
   "source": [
    "# Excel example of Gross Domestic Product\n"
   ]
  },
  {
   "cell_type": "markdown",
   "id": "47f5f440-1bf1-4760-a738-e28e7badc070",
   "metadata": {},
   "source": [
    "<p style=\"text-align: center\">\n",
    "  <img  src=\"Media/gdp-excel.png\" width=\"800\" alt=\"Excel\">\n",
    "</p>"
   ]
  },
  {
   "cell_type": "markdown",
   "id": "de8d8892-b55c-4cb5-ac79-5f7bc7360da1",
   "metadata": {},
   "source": [
    "# Example of Apple Numbers of various software tools"
   ]
  },
  {
   "cell_type": "markdown",
   "id": "cbb63eec-0c4c-4e53-80b8-3e86d7482144",
   "metadata": {},
   "source": [
    "<p style=\"text-align: center\">\n",
    "  <img  src=\"Media/tools-numbers.png\" width=\"800\" alt=\"numbers\">\n",
    "</p>"
   ]
  },
  {
   "cell_type": "markdown",
   "id": "3797a2be-4f9b-4b2d-a783-2664b1cdec0c",
   "metadata": {},
   "source": [
    "# Google Sheets example of skydiving data"
   ]
  },
  {
   "cell_type": "markdown",
   "id": "77e1bc9f-68f8-4d8e-b2c1-d050e255731e",
   "metadata": {},
   "source": [
    "<p style=\"text-align: center\">\n",
    "  <img  src=\"Media/skydive-sheets.png\" width=\"800\" alt=\"sheets\">\n",
    "</p>"
   ]
  },
  {
   "cell_type": "code",
   "execution_count": null,
   "id": "ca88e457-1436-4929-860a-081cb9b64d1d",
   "metadata": {},
   "outputs": [],
   "source": []
  }
 ],
 "metadata": {
  "kernelspec": {
   "display_name": "Python 3 (ipykernel)",
   "language": "python",
   "name": "python3"
  },
  "language_info": {
   "codemirror_mode": {
    "name": "ipython",
    "version": 3
   },
   "file_extension": ".py",
   "mimetype": "text/x-python",
   "name": "python",
   "nbconvert_exporter": "python",
   "pygments_lexer": "ipython3",
   "version": "3.9.9"
  }
 },
 "nbformat": 4,
 "nbformat_minor": 5
}
