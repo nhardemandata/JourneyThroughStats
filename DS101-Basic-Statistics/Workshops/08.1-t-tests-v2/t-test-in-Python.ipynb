{
 "cells": [
  {
   "cell_type": "markdown",
   "id": "dce7f8e0-92d8-436a-85b0-e2f3d675bf24",
   "metadata": {},
   "source": [
    "# t-tests in Python"
   ]
  },
  {
   "cell_type": "code",
   "execution_count": 1,
   "id": "63cdee0c-19ff-4eee-9ba4-25d00105371a",
   "metadata": {},
   "outputs": [],
   "source": [
    "import pandas as pd\n",
    "from scipy import stats"
   ]
  },
  {
   "cell_type": "code",
   "execution_count": 2,
   "id": "8ae57bea-6286-4ee2-b5c7-7f17af81fdf1",
   "metadata": {},
   "outputs": [],
   "source": [
    "df = pd.read_csv('weights_ttests.csv')"
   ]
  },
  {
   "cell_type": "code",
   "execution_count": 3,
   "id": "a1a94a78-ecab-4338-835a-f8dc94ffb12f",
   "metadata": {},
   "outputs": [
    {
     "data": {
      "text/html": [
       "<div>\n",
       "<style scoped>\n",
       "    .dataframe tbody tr th:only-of-type {\n",
       "        vertical-align: middle;\n",
       "    }\n",
       "\n",
       "    .dataframe tbody tr th {\n",
       "        vertical-align: top;\n",
       "    }\n",
       "\n",
       "    .dataframe thead th {\n",
       "        text-align: right;\n",
       "    }\n",
       "</style>\n",
       "<table border=\"1\" class=\"dataframe\">\n",
       "  <thead>\n",
       "    <tr style=\"text-align: right;\">\n",
       "      <th></th>\n",
       "      <th>id</th>\n",
       "      <th>sex</th>\n",
       "      <th>start_weight</th>\n",
       "      <th>end_weight</th>\n",
       "    </tr>\n",
       "  </thead>\n",
       "  <tbody>\n",
       "    <tr>\n",
       "      <th>0</th>\n",
       "      <td>1</td>\n",
       "      <td>Male</td>\n",
       "      <td>203</td>\n",
       "      <td>205</td>\n",
       "    </tr>\n",
       "    <tr>\n",
       "      <th>1</th>\n",
       "      <td>2</td>\n",
       "      <td>Male</td>\n",
       "      <td>180</td>\n",
       "      <td>177</td>\n",
       "    </tr>\n",
       "    <tr>\n",
       "      <th>2</th>\n",
       "      <td>3</td>\n",
       "      <td>Male</td>\n",
       "      <td>222</td>\n",
       "      <td>218</td>\n",
       "    </tr>\n",
       "    <tr>\n",
       "      <th>3</th>\n",
       "      <td>4</td>\n",
       "      <td>Male</td>\n",
       "      <td>190</td>\n",
       "      <td>190</td>\n",
       "    </tr>\n",
       "    <tr>\n",
       "      <th>4</th>\n",
       "      <td>5</td>\n",
       "      <td>Male</td>\n",
       "      <td>201</td>\n",
       "      <td>199</td>\n",
       "    </tr>\n",
       "    <tr>\n",
       "      <th>5</th>\n",
       "      <td>6</td>\n",
       "      <td>Male</td>\n",
       "      <td>185</td>\n",
       "      <td>183</td>\n",
       "    </tr>\n",
       "    <tr>\n",
       "      <th>6</th>\n",
       "      <td>7</td>\n",
       "      <td>Male</td>\n",
       "      <td>150</td>\n",
       "      <td>148</td>\n",
       "    </tr>\n",
       "    <tr>\n",
       "      <th>7</th>\n",
       "      <td>8</td>\n",
       "      <td>Male</td>\n",
       "      <td>193</td>\n",
       "      <td>190</td>\n",
       "    </tr>\n",
       "    <tr>\n",
       "      <th>8</th>\n",
       "      <td>9</td>\n",
       "      <td>Male</td>\n",
       "      <td>209</td>\n",
       "      <td>207</td>\n",
       "    </tr>\n",
       "    <tr>\n",
       "      <th>9</th>\n",
       "      <td>10</td>\n",
       "      <td>Male</td>\n",
       "      <td>213</td>\n",
       "      <td>210</td>\n",
       "    </tr>\n",
       "    <tr>\n",
       "      <th>10</th>\n",
       "      <td>11</td>\n",
       "      <td>Male</td>\n",
       "      <td>209</td>\n",
       "      <td>205</td>\n",
       "    </tr>\n",
       "    <tr>\n",
       "      <th>11</th>\n",
       "      <td>12</td>\n",
       "      <td>Male</td>\n",
       "      <td>160</td>\n",
       "      <td>159</td>\n",
       "    </tr>\n",
       "    <tr>\n",
       "      <th>12</th>\n",
       "      <td>13</td>\n",
       "      <td>Male</td>\n",
       "      <td>175</td>\n",
       "      <td>172</td>\n",
       "    </tr>\n",
       "    <tr>\n",
       "      <th>13</th>\n",
       "      <td>14</td>\n",
       "      <td>Male</td>\n",
       "      <td>155</td>\n",
       "      <td>152</td>\n",
       "    </tr>\n",
       "    <tr>\n",
       "      <th>14</th>\n",
       "      <td>15</td>\n",
       "      <td>Male</td>\n",
       "      <td>206</td>\n",
       "      <td>205</td>\n",
       "    </tr>\n",
       "    <tr>\n",
       "      <th>15</th>\n",
       "      <td>16</td>\n",
       "      <td>Female</td>\n",
       "      <td>201</td>\n",
       "      <td>210</td>\n",
       "    </tr>\n",
       "    <tr>\n",
       "      <th>16</th>\n",
       "      <td>17</td>\n",
       "      <td>Female</td>\n",
       "      <td>197</td>\n",
       "      <td>194</td>\n",
       "    </tr>\n",
       "    <tr>\n",
       "      <th>17</th>\n",
       "      <td>18</td>\n",
       "      <td>Female</td>\n",
       "      <td>145</td>\n",
       "      <td>144</td>\n",
       "    </tr>\n",
       "    <tr>\n",
       "      <th>18</th>\n",
       "      <td>19</td>\n",
       "      <td>Female</td>\n",
       "      <td>167</td>\n",
       "      <td>167</td>\n",
       "    </tr>\n",
       "    <tr>\n",
       "      <th>19</th>\n",
       "      <td>20</td>\n",
       "      <td>Female</td>\n",
       "      <td>190</td>\n",
       "      <td>190</td>\n",
       "    </tr>\n",
       "    <tr>\n",
       "      <th>20</th>\n",
       "      <td>21</td>\n",
       "      <td>Female</td>\n",
       "      <td>185</td>\n",
       "      <td>182</td>\n",
       "    </tr>\n",
       "    <tr>\n",
       "      <th>21</th>\n",
       "      <td>22</td>\n",
       "      <td>Female</td>\n",
       "      <td>142</td>\n",
       "      <td>141</td>\n",
       "    </tr>\n",
       "    <tr>\n",
       "      <th>22</th>\n",
       "      <td>23</td>\n",
       "      <td>Female</td>\n",
       "      <td>169</td>\n",
       "      <td>167</td>\n",
       "    </tr>\n",
       "    <tr>\n",
       "      <th>23</th>\n",
       "      <td>24</td>\n",
       "      <td>Female</td>\n",
       "      <td>202</td>\n",
       "      <td>201</td>\n",
       "    </tr>\n",
       "    <tr>\n",
       "      <th>24</th>\n",
       "      <td>25</td>\n",
       "      <td>Female</td>\n",
       "      <td>146</td>\n",
       "      <td>146</td>\n",
       "    </tr>\n",
       "    <tr>\n",
       "      <th>25</th>\n",
       "      <td>26</td>\n",
       "      <td>Female</td>\n",
       "      <td>167</td>\n",
       "      <td>164</td>\n",
       "    </tr>\n",
       "    <tr>\n",
       "      <th>26</th>\n",
       "      <td>27</td>\n",
       "      <td>Female</td>\n",
       "      <td>190</td>\n",
       "      <td>186</td>\n",
       "    </tr>\n",
       "    <tr>\n",
       "      <th>27</th>\n",
       "      <td>28</td>\n",
       "      <td>Female</td>\n",
       "      <td>194</td>\n",
       "      <td>191</td>\n",
       "    </tr>\n",
       "    <tr>\n",
       "      <th>28</th>\n",
       "      <td>29</td>\n",
       "      <td>Female</td>\n",
       "      <td>154</td>\n",
       "      <td>152</td>\n",
       "    </tr>\n",
       "    <tr>\n",
       "      <th>29</th>\n",
       "      <td>30</td>\n",
       "      <td>Female</td>\n",
       "      <td>134</td>\n",
       "      <td>140</td>\n",
       "    </tr>\n",
       "  </tbody>\n",
       "</table>\n",
       "</div>"
      ],
      "text/plain": [
       "    id     sex  start_weight  end_weight\n",
       "0    1    Male           203         205\n",
       "1    2    Male           180         177\n",
       "2    3    Male           222         218\n",
       "3    4    Male           190         190\n",
       "4    5    Male           201         199\n",
       "5    6    Male           185         183\n",
       "6    7    Male           150         148\n",
       "7    8    Male           193         190\n",
       "8    9    Male           209         207\n",
       "9   10    Male           213         210\n",
       "10  11    Male           209         205\n",
       "11  12    Male           160         159\n",
       "12  13    Male           175         172\n",
       "13  14    Male           155         152\n",
       "14  15    Male           206         205\n",
       "15  16  Female           201         210\n",
       "16  17  Female           197         194\n",
       "17  18  Female           145         144\n",
       "18  19  Female           167         167\n",
       "19  20  Female           190         190\n",
       "20  21  Female           185         182\n",
       "21  22  Female           142         141\n",
       "22  23  Female           169         167\n",
       "23  24  Female           202         201\n",
       "24  25  Female           146         146\n",
       "25  26  Female           167         164\n",
       "26  27  Female           190         186\n",
       "27  28  Female           194         191\n",
       "28  29  Female           154         152\n",
       "29  30  Female           134         140"
      ]
     },
     "execution_count": 3,
     "metadata": {},
     "output_type": "execute_result"
    }
   ],
   "source": [
    "df"
   ]
  },
  {
   "cell_type": "markdown",
   "id": "91b65e83-6330-4a4e-84c9-c866e3fe1eaf",
   "metadata": {},
   "source": [
    "## Single Sample t-test\n",
    "\n",
    "Compares a sample to a population mean\n",
    "\n",
    "Here, we will determine if start and end wieght differ from 200lbs"
   ]
  },
  {
   "cell_type": "code",
   "execution_count": 4,
   "id": "a44766e9-3e8a-41de-9a4b-81ac7f55a9ff",
   "metadata": {},
   "outputs": [
    {
     "data": {
      "text/plain": [
       "\u001b[0;31mSignature:\u001b[0m\n",
       "\u001b[0mstats\u001b[0m\u001b[0;34m.\u001b[0m\u001b[0mttest_1samp\u001b[0m\u001b[0;34m(\u001b[0m\u001b[0;34m\u001b[0m\n",
       "\u001b[0;34m\u001b[0m    \u001b[0ma\u001b[0m\u001b[0;34m,\u001b[0m\u001b[0;34m\u001b[0m\n",
       "\u001b[0;34m\u001b[0m    \u001b[0mpopmean\u001b[0m\u001b[0;34m,\u001b[0m\u001b[0;34m\u001b[0m\n",
       "\u001b[0;34m\u001b[0m    \u001b[0maxis\u001b[0m\u001b[0;34m=\u001b[0m\u001b[0;36m0\u001b[0m\u001b[0;34m,\u001b[0m\u001b[0;34m\u001b[0m\n",
       "\u001b[0;34m\u001b[0m    \u001b[0mnan_policy\u001b[0m\u001b[0;34m=\u001b[0m\u001b[0;34m'propagate'\u001b[0m\u001b[0;34m,\u001b[0m\u001b[0;34m\u001b[0m\n",
       "\u001b[0;34m\u001b[0m    \u001b[0malternative\u001b[0m\u001b[0;34m=\u001b[0m\u001b[0;34m'two-sided'\u001b[0m\u001b[0;34m,\u001b[0m\u001b[0;34m\u001b[0m\n",
       "\u001b[0;34m\u001b[0m\u001b[0;34m)\u001b[0m\u001b[0;34m\u001b[0m\u001b[0;34m\u001b[0m\u001b[0m\n",
       "\u001b[0;31mDocstring:\u001b[0m\n",
       "Calculate the T-test for the mean of ONE group of scores.\n",
       "\n",
       "This is a two-sided test for the null hypothesis that the expected value\n",
       "(mean) of a sample of independent observations `a` is equal to the given\n",
       "population mean, `popmean`.\n",
       "\n",
       "Parameters\n",
       "----------\n",
       "a : array_like\n",
       "    Sample observation.\n",
       "popmean : float or array_like\n",
       "    Expected value in null hypothesis. If array_like, then it must have the\n",
       "    same shape as `a` excluding the axis dimension.\n",
       "axis : int or None, optional\n",
       "    Axis along which to compute test; default is 0. If None, compute over\n",
       "    the whole array `a`.\n",
       "nan_policy : {'propagate', 'raise', 'omit'}, optional\n",
       "    Defines how to handle when input contains nan.\n",
       "    The following options are available (default is 'propagate'):\n",
       "\n",
       "      * 'propagate': returns nan\n",
       "      * 'raise': throws an error\n",
       "      * 'omit': performs the calculations ignoring nan values\n",
       "alternative : {'two-sided', 'less', 'greater'}, optional\n",
       "    Defines the alternative hypothesis.\n",
       "    The following options are available (default is 'two-sided'):\n",
       "\n",
       "      * 'two-sided'\n",
       "      * 'less': one-sided\n",
       "      * 'greater': one-sided\n",
       "\n",
       "    .. versionadded:: 1.6.0\n",
       "\n",
       "Returns\n",
       "-------\n",
       "statistic : float or array\n",
       "    t-statistic.\n",
       "pvalue : float or array\n",
       "    Two-sided p-value.\n",
       "\n",
       "Examples\n",
       "--------\n",
       ">>> from scipy import stats\n",
       ">>> rng = np.random.default_rng()\n",
       ">>> rvs = stats.norm.rvs(loc=5, scale=10, size=(50, 2), random_state=rng)\n",
       "\n",
       "Test if mean of random sample is equal to true mean, and different mean.\n",
       "We reject the null hypothesis in the second case and don't reject it in\n",
       "the first case.\n",
       "\n",
       ">>> stats.ttest_1samp(rvs, 5.0)\n",
       "Ttest_1sampResult(statistic=array([-2.09794637, -1.75977004]), pvalue=array([0.04108952, 0.08468867]))\n",
       ">>> stats.ttest_1samp(rvs, 0.0)\n",
       "Ttest_1sampResult(statistic=array([1.64495065, 1.62095307]), pvalue=array([0.10638103, 0.11144602]))\n",
       "\n",
       "Examples using axis and non-scalar dimension for population mean.\n",
       "\n",
       ">>> result = stats.ttest_1samp(rvs, [5.0, 0.0])\n",
       ">>> result.statistic\n",
       "array([-2.09794637,  1.62095307])\n",
       ">>> result.pvalue\n",
       "array([0.04108952, 0.11144602])\n",
       "\n",
       ">>> result = stats.ttest_1samp(rvs.T, [5.0, 0.0], axis=1)\n",
       ">>> result.statistic\n",
       "array([-2.09794637,  1.62095307])\n",
       ">>> result.pvalue\n",
       "array([0.04108952, 0.11144602])\n",
       "\n",
       ">>> result = stats.ttest_1samp(rvs, [[5.0], [0.0]])\n",
       ">>> result.statistic\n",
       "array([[-2.09794637, -1.75977004],\n",
       "       [ 1.64495065,  1.62095307]])\n",
       ">>> result.pvalue\n",
       "array([[0.04108952, 0.08468867],\n",
       "       [0.10638103, 0.11144602]])\n",
       "\u001b[0;31mFile:\u001b[0m      /usr/local/lib/python3.9/site-packages/scipy/stats/stats.py\n",
       "\u001b[0;31mType:\u001b[0m      function\n"
      ]
     },
     "metadata": {},
     "output_type": "display_data"
    }
   ],
   "source": [
    "# Use `?` to see documentation\n",
    "stats.ttest_1samp?"
   ]
  },
  {
   "cell_type": "code",
   "execution_count": 5,
   "id": "12772d35-5b63-4b00-8cc1-8b40c2695c67",
   "metadata": {},
   "outputs": [
    {
     "data": {
      "text/plain": [
       "Ttest_1sampResult(statistic=-4.255875550600782, pvalue=0.00019891539018145106)"
      ]
     },
     "execution_count": 5,
     "metadata": {},
     "output_type": "execute_result"
    }
   ],
   "source": [
    "# Compare start weight to 200, returns a t-statisitic and a p-value\n",
    "stats.ttest_1samp(df['start_weight'], 200)"
   ]
  },
  {
   "cell_type": "code",
   "execution_count": 10,
   "id": "d8d81f14-bbef-465d-8de1-3f35212384a6",
   "metadata": {},
   "outputs": [],
   "source": [
    "# Since our p-value is less than .05, we determine that start weight differs from 200"
   ]
  },
  {
   "cell_type": "code",
   "execution_count": 6,
   "id": "a2b4a7cd-0ea6-4cfd-a7f7-9e53d5bd021e",
   "metadata": {},
   "outputs": [
    {
     "data": {
      "text/plain": [
       "Ttest_1sampResult(statistic=-4.618431973564491, pvalue=7.316504651989214e-05)"
      ]
     },
     "execution_count": 6,
     "metadata": {},
     "output_type": "execute_result"
    }
   ],
   "source": [
    "stats.ttest_1samp(df['end_weight'], 200)"
   ]
  },
  {
   "cell_type": "code",
   "execution_count": 7,
   "id": "c1b9440f-470c-4a48-97f3-55225d89c4c8",
   "metadata": {},
   "outputs": [],
   "source": [
    "# Since our p-value is less than .05, we determine that end weight differs from 200"
   ]
  },
  {
   "cell_type": "markdown",
   "id": "e1da27c7-d86a-4afb-ad01-9871b98414ab",
   "metadata": {},
   "source": [
    "## Independent Sample t-test\n",
    "\n",
    "Compares two indepedent samples\n",
    "\n",
    "Here, we will compare males and female start weight and end weight"
   ]
  },
  {
   "cell_type": "code",
   "execution_count": 8,
   "id": "845860dc-ec9a-4323-940a-f010ba2c14c6",
   "metadata": {},
   "outputs": [],
   "source": [
    "# Subset data to get male and female data\n",
    "male_data = df[df['sex']=='Male']\n",
    "female_data = df[df['sex']=='Female']"
   ]
  },
  {
   "cell_type": "code",
   "execution_count": 9,
   "id": "e5bb30f5-87f8-479f-b9f4-361da53b1349",
   "metadata": {},
   "outputs": [
    {
     "data": {
      "text/plain": [
       "Ttest_indResult(statistic=2.1352330391527437, pvalue=0.04163023164324678)"
      ]
     },
     "execution_count": 9,
     "metadata": {},
     "output_type": "execute_result"
    }
   ],
   "source": [
    "stats.ttest_ind(male_data['start_weight'], female_data['start_weight'])"
   ]
  },
  {
   "cell_type": "code",
   "execution_count": null,
   "id": "f5338b91-815f-4f48-bccb-a26421737c76",
   "metadata": {},
   "outputs": [],
   "source": [
    "# Since our p value is less than .05, we can conclude that there is a difference\n",
    "# Next let's plot the means to see the direction"
   ]
  },
  {
   "cell_type": "code",
   "execution_count": 10,
   "id": "0f135c90-7af2-43a0-aef0-ed8f0719d2bd",
   "metadata": {},
   "outputs": [
    {
     "data": {
      "text/plain": [
       "<AxesSubplot:xlabel='sex'>"
      ]
     },
     "execution_count": 10,
     "metadata": {},
     "output_type": "execute_result"
    },
    {
     "data": {
      "image/png": "[encoded data removed]",
      "text/plain": [
       "<Figure size 432x288 with 1 Axes>"
      ]
     },
     "metadata": {
      "needs_background": "light"
     },
     "output_type": "display_data"
    }
   ],
   "source": [
    "df.groupby('sex')['start_weight'].mean().plot(kind='bar')"
   ]
  },
  {
   "cell_type": "code",
   "execution_count": 16,
   "id": "0c4c9fb5-899f-47a7-a3f2-33aa2d19f363",
   "metadata": {},
   "outputs": [],
   "source": [
    "# We can see that males weight more at start"
   ]
  },
  {
   "cell_type": "code",
   "execution_count": 11,
   "id": "a1fb3b53-8245-4e76-aca3-0132d78551fb",
   "metadata": {},
   "outputs": [
    {
     "data": {
      "text/plain": [
       "Ttest_indResult(statistic=1.9597312552833652, pvalue=0.06004967788419738)"
      ]
     },
     "execution_count": 11,
     "metadata": {},
     "output_type": "execute_result"
    }
   ],
   "source": [
    "# Compare end weights for males and females\n",
    "stats.ttest_ind(male_data['end_weight'], female_data['end_weight'])"
   ]
  },
  {
   "cell_type": "code",
   "execution_count": 17,
   "id": "f0f25301-b7e0-4b28-b8af-094b95060089",
   "metadata": {},
   "outputs": [],
   "source": [
    "# Since our p-value is above .05, we conclude there is not a sig diff in end weights"
   ]
  },
  {
   "cell_type": "markdown",
   "id": "1a54dfcd-0646-47e2-9c2e-9b967f43f323",
   "metadata": {},
   "source": [
    "## Paired Sample t-test\n",
    "\n",
    "When data is paired, such as start and end weights for an individual, we run a paired samples t-test.\n",
    "\n",
    "Here, the question is: Do start and end weights differ?"
   ]
  },
  {
   "cell_type": "code",
   "execution_count": 12,
   "id": "60b32b64-e26d-428e-909c-0bea7c601d4a",
   "metadata": {},
   "outputs": [
    {
     "data": {
      "text/plain": [
       "Ttest_relResult(statistic=2.5377569327403062, pvalue=0.016789334659992817)"
      ]
     },
     "execution_count": 12,
     "metadata": {},
     "output_type": "execute_result"
    }
   ],
   "source": [
    "stats.ttest_rel(df['start_weight'], df['end_weight'])"
   ]
  },
  {
   "cell_type": "code",
   "execution_count": 20,
   "id": "974f6267-6bb2-4d50-8794-f097c1456170",
   "metadata": {},
   "outputs": [],
   "source": [
    "# Since our p value is less than .05, we can conclude that there is a difference\n",
    "# Next, lets plot the data to visualize the difference"
   ]
  },
  {
   "cell_type": "code",
   "execution_count": 13,
   "id": "846a3ae0-43a8-4d73-8740-5f1cb2a57742",
   "metadata": {},
   "outputs": [
    {
     "data": {
      "text/plain": [
       "start_weight    181.133333\n",
       "end_weight      179.833333\n",
       "dtype: float64"
      ]
     },
     "execution_count": 13,
     "metadata": {},
     "output_type": "execute_result"
    }
   ],
   "source": [
    "df[['start_weight', 'end_weight']].mean()"
   ]
  },
  {
   "cell_type": "code",
   "execution_count": 14,
   "id": "295dc1bf-4d90-4213-9e4b-ce12d4d3c4d7",
   "metadata": {},
   "outputs": [
    {
     "data": {
      "text/plain": [
       "<AxesSubplot:>"
      ]
     },
     "execution_count": 14,
     "metadata": {},
     "output_type": "execute_result"
    },
    {
     "data": {
      "image/png": "[encoded data removed]",
      "text/plain": [
       "<Figure size 432x288 with 1 Axes>"
      ]
     },
     "metadata": {
      "needs_background": "light"
     },
     "output_type": "display_data"
    }
   ],
   "source": [
    "df[['start_weight', 'end_weight']].mean().plot(kind='bar')"
   ]
  },
  {
   "cell_type": "code",
   "execution_count": 24,
   "id": "ef0576f3-2db1-4f8b-ba47-2c80759ddfab",
   "metadata": {},
   "outputs": [],
   "source": [
    "# Although it is hard to see in the plot, end weights were on average lower than start weights"
   ]
  },
  {
   "cell_type": "code",
   "execution_count": null,
   "id": "5ae39832-53f8-43b0-9d5c-764d9a634663",
   "metadata": {},
   "outputs": [],
   "source": []
  }
 ],
 "metadata": {
  "kernelspec": {
   "display_name": "Python 3 (ipykernel)",
   "language": "python",
   "name": "python3"
  },
  "language_info": {
   "codemirror_mode": {
    "name": "ipython",
    "version": 3
   },
   "file_extension": ".py",
   "mimetype": "text/x-python",
   "name": "python",
   "nbconvert_exporter": "python",
   "pygments_lexer": "ipython3",
   "version": "3.9.9"
  }
 },
 "nbformat": 4,
 "nbformat_minor": 5
}
