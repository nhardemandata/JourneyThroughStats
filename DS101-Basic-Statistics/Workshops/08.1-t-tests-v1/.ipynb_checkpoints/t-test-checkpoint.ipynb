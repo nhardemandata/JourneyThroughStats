{
 "cells": [
  {
   "cell_type": "markdown",
   "id": "2e598328-bba1-4d4b-ab89-220c443fda2f",
   "metadata": {},
   "source": [
    "The T-test is a type of test most commonly used in inferential statistics. This test is most commonly used in scenarios where we need to understand if there is a significant difference between the means of two groups. For example, say we have a dataset of students from certain classes. The dataset contains the height of each student. We are checking whether the average height is 175 cm or not:\n",
    "\n",
    "- Population: All students in that class\n",
    "- Parameter of interest: μ, the population of a classroom\n",
    "- Null hypothesis: The average height is μ = 175\n",
    "- Alternative hypothesis: μ > 175\n",
    "- Confidence level: α = 0.05"
   ]
  },
  {
   "cell_type": "code",
   "execution_count": 17,
   "id": "ab13ef64-2083-4903-bc58-770d77333827",
   "metadata": {},
   "outputs": [],
   "source": [
    "# import libraries needed\n",
    "from scipy.stats import ttest_1samp\n",
    "import numpy as np\n",
    "import pandas as pd"
   ]
  },
  {
   "cell_type": "code",
   "execution_count": 11,
   "id": "bf7a2da1-bcc5-432c-a11b-59b42f5ff858",
   "metadata": {},
   "outputs": [],
   "source": [
    "# create dataset\n",
    "height = np.array([172, 184, 174, 168, 174, 183, 173, 173, 184, 179, 171, 173, 181, 183, 172, 178, 170, 182, 181, 172, 175, 170, 168, 178, 170, 181, 180, 173, 183, 180, 177, 181, 171, 173, 171, 182, 180, 170, 172, 175, 178, 174, 184, 177, 181, 180, 178, 179, 175, 170, 182, 176, 183, 179, 177])"
   ]
  },
  {
   "cell_type": "code",
   "execution_count": 18,
   "id": "3108fff7-8e7f-423a-bfac-a8164fc883b9",
   "metadata": {},
   "outputs": [
    {
     "name": "stdout",
     "output_type": "stream",
     "text": [
      "[172 184 174 168 174 183 173 173 184 179 171 173 181 183 172 178 170 182\n",
      " 181 172 175 170 168 178 170 181 180 173 183 180 177 181 171 173 171 182\n",
      " 180 170 172 175 178 174 184 177 181 180 178 179 175 170 182 176 183 179\n",
      " 177]\n",
      "<class 'numpy.ndarray'>\n"
     ]
    }
   ],
   "source": [
    "print(height)\n",
    "print(type(height))"
   ]
  },
  {
   "cell_type": "code",
   "execution_count": 20,
   "id": "617f694b-2aaa-4356-87c7-33eb677bee61",
   "metadata": {},
   "outputs": [],
   "source": [
    "df_height = pd.DataFrame(height)"
   ]
  },
  {
   "cell_type": "code",
   "execution_count": 12,
   "id": "a51bf60b-0ff9-4bd2-a947-7614c3d54281",
   "metadata": {},
   "outputs": [],
   "source": [
    "# calcuate mean\n",
    "height_average = np.mean(height)"
   ]
  },
  {
   "cell_type": "code",
   "execution_count": 13,
   "id": "ad6a04e3-be1a-4ec7-bebd-e359e1ef3ff5",
   "metadata": {},
   "outputs": [
    {
     "name": "stdout",
     "output_type": "stream",
     "text": [
      "Average height is = 176.545\n"
     ]
    }
   ],
   "source": [
    "print(\"Average height is = {0:.3f}\".format(height_average))"
   ]
  },
  {
   "cell_type": "code",
   "execution_count": 15,
   "id": "69883b85-bef5-4856-bd3d-78587cbb7707",
   "metadata": {},
   "outputs": [
    {
     "name": "stdout",
     "output_type": "stream",
     "text": [
      "P-value = 0.3988118409084731\n",
      "We are accepting the null hypothesis.\n"
     ]
    }
   ],
   "source": [
    "# use the T-test to compute the new P-value:\n",
    "tset,pval = ttest_1samp(height, 176)\n",
    "\n",
    "print(\"P-value = {}\".format(pval))\n",
    "\n",
    "if pval < 0.05:\n",
    " print(\"We are rejecting the null Hypothesis.\")\n",
    "else:\n",
    "  print(\"We are accepting the null hypothesis.\")"
   ]
  },
  {
   "cell_type": "markdown",
   "id": "ce9f0f45-881b-4ab3-a3fb-8786838c356d",
   "metadata": {},
   "source": [
    "Note that our significance level (alpha = 0.05) and the computed P-value is 0.398. Since it is greater than alpha, we are accepting the null hypothesis. This means that the average height of students is 176 cm with a 95% confidence value."
   ]
  },
  {
   "cell_type": "code",
   "execution_count": 22,
   "id": "5211341d-4cd9-466c-8d19-eed71d95b9f0",
   "metadata": {},
   "outputs": [
    {
     "data": {
      "text/html": [
       "<div>\n",
       "<style scoped>\n",
       "    .dataframe tbody tr th:only-of-type {\n",
       "        vertical-align: middle;\n",
       "    }\n",
       "\n",
       "    .dataframe tbody tr th {\n",
       "        vertical-align: top;\n",
       "    }\n",
       "\n",
       "    .dataframe thead th {\n",
       "        text-align: right;\n",
       "    }\n",
       "</style>\n",
       "<table border=\"1\" class=\"dataframe\">\n",
       "  <thead>\n",
       "    <tr style=\"text-align: right;\">\n",
       "      <th></th>\n",
       "      <th>0</th>\n",
       "    </tr>\n",
       "  </thead>\n",
       "  <tbody>\n",
       "    <tr>\n",
       "      <th>0</th>\n",
       "      <td>172</td>\n",
       "    </tr>\n",
       "    <tr>\n",
       "      <th>1</th>\n",
       "      <td>184</td>\n",
       "    </tr>\n",
       "    <tr>\n",
       "      <th>2</th>\n",
       "      <td>174</td>\n",
       "    </tr>\n",
       "    <tr>\n",
       "      <th>3</th>\n",
       "      <td>168</td>\n",
       "    </tr>\n",
       "    <tr>\n",
       "      <th>4</th>\n",
       "      <td>174</td>\n",
       "    </tr>\n",
       "  </tbody>\n",
       "</table>\n",
       "</div>"
      ],
      "text/plain": [
       "     0\n",
       "0  172\n",
       "1  184\n",
       "2  174\n",
       "3  168\n",
       "4  174"
      ]
     },
     "execution_count": 22,
     "metadata": {},
     "output_type": "execute_result"
    }
   ],
   "source": [
    "df_height.head()"
   ]
  },
  {
   "cell_type": "code",
   "execution_count": 23,
   "id": "7125cac1-3672-4a87-b9b9-3d1786417c7d",
   "metadata": {},
   "outputs": [],
   "source": [
    "df_height.to_csv(\"heights.csv\", index=False)"
   ]
  },
  {
   "cell_type": "code",
   "execution_count": null,
   "id": "fc3096ec-0a57-4651-93b2-01601bf3a44f",
   "metadata": {},
   "outputs": [],
   "source": []
  }
 ],
 "metadata": {
  "kernelspec": {
   "display_name": "Python 3 (ipykernel)",
   "language": "python",
   "name": "python3"
  },
  "language_info": {
   "codemirror_mode": {
    "name": "ipython",
    "version": 3
   },
   "file_extension": ".py",
   "mimetype": "text/x-python",
   "name": "python",
   "nbconvert_exporter": "python",
   "pygments_lexer": "ipython3",
   "version": "3.9.9"
  }
 },
 "nbformat": 4,
 "nbformat_minor": 5
}
