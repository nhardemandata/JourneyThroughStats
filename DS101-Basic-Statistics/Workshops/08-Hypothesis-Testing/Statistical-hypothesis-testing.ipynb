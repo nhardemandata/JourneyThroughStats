{
 "cells": [
  {
   "cell_type": "markdown",
   "id": "a113cad9-5ad7-4586-9e61-169068c98952",
   "metadata": {},
   "source": [
    "# Statistical Hypothesis Testing"
   ]
  },
  {
   "cell_type": "markdown",
   "id": "cc60671e-005a-4093-a423-2d1b30cc7135",
   "metadata": {},
   "source": [
    "Statistical Hypothesis testing is a key tool in make a statistical inference about a popoulation based on a sample taken from it. Their other tools called [point estimation](https://en.wikipedia.org/wiki/Point_estimation) and confidence sets as well. Statistcal Hypothesis testing aims at a decision on whether or not a hypothesis on the nature of the population is supported by the sample.\n",
    "\n",
    "please refer to the book on Statistical Hypothesis Testing by [Lehmann](https://link.springer.com/book/10.1007/0-387-27605-X).\n",
    "\n"
   ]
  },
  {
   "cell_type": "code",
   "execution_count": null,
   "id": "7071cb4b-4d99-441d-8458-6bbdcbec6497",
   "metadata": {},
   "outputs": [],
   "source": []
  }
 ],
 "metadata": {
  "kernelspec": {
   "display_name": "Python 3 (ipykernel)",
   "language": "python",
   "name": "python3"
  },
  "language_info": {
   "codemirror_mode": {
    "name": "ipython",
    "version": 3
   },
   "file_extension": ".py",
   "mimetype": "text/x-python",
   "name": "python",
   "nbconvert_exporter": "python",
   "pygments_lexer": "ipython3",
   "version": "3.9.9"
  }
 },
 "nbformat": 4,
 "nbformat_minor": 5
}
