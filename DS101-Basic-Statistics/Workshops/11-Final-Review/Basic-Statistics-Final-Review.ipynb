{
 "cells": [
  {
   "cell_type": "markdown",
   "id": "f7af8758-2b4c-4354-94bd-81b2f33e1e5a",
   "metadata": {},
   "source": [
    "# Basic Statistics Final Exam Review"
   ]
  },
  {
   "cell_type": "markdown",
   "id": "e2695e5e-e3d7-4439-a047-2092e8f3011f",
   "metadata": {},
   "source": [
    "## What You’ll Need to Know"
   ]
  },
  {
   "cell_type": "markdown",
   "id": "f3c1ce56-9acd-41a7-9e29-eeff25b87955",
   "metadata": {},
   "source": [
    "Rules of probability\n",
    "- “and” vs. “or” probability\n",
    "- Variable types\n",
    "- Difference between a sample and a population\n",
    "- Sampling\n",
    "- Confidence intervals\n",
    "- z-scores\n",
    "- Using the normal probability applet\n",
    "- Hypothesis testing\n",
    "- Data types for graphs"
   ]
  },
  {
   "cell_type": "markdown",
   "id": "31bc51e8-68eb-4585-9860-e8358206727c",
   "metadata": {},
   "source": [
    "## The Rules!\n",
    "\n",
    "- All probabilities are between 0 and 1\n",
    "- There are no negative probabilities\n",
    "- Total of all possible outcomes is 1\n",
    "- Probability of an event NOT happening:\n",
    "- 1 – probability of the event happening"
   ]
  },
  {
   "cell_type": "markdown",
   "id": "960d6f58-0bd1-4361-a80b-60f5c6dd6c8a",
   "metadata": {},
   "source": [
    "## Variable Types\n",
    "\n",
    "### Quantitative / Numeric\n",
    "\n",
    "- Number\n",
    "- Continuous: With decimal places\n",
    "- Discrete: Whole number\n",
    "\n",
    "### Qualitative\n",
    "\n",
    "- NOT a number\n",
    "- Words\n",
    "- Categorical: Broken into groups\n",
    "- Ordinal: Broken into groups where ORDER MATTERS"
   ]
  },
  {
   "cell_type": "markdown",
   "id": "8d967725-8640-4025-95ba-81c366335558",
   "metadata": {},
   "source": [
    "## Samples and Populations\n",
    "\n",
    "### Samples vs. Populations\n",
    "\n",
    "#### Population\n",
    "\n",
    "- Larger\n",
    "- Use Greek letters\n",
    "- Mean: μ (mu)\n",
    "- Standard deviation: σ (sigma)\n",
    "\n",
    "#### Sample\n",
    "\n",
    "- Smaller\n",
    "- Use Roman letters\n",
    "- ¯x (x bar)\n",
    "- S / SD\n"
   ]
  },
  {
   "cell_type": "markdown",
   "id": "8a02b5ea-c1cb-4fee-9b08-cd10f46e8587",
   "metadata": {},
   "source": [
    "## Parent vs. Child Distributions\n",
    "\n",
    "### Parent\n",
    "\n",
    "- Larger SD\n",
    "- Population\n",
    "\n",
    "### Child\n",
    "\n",
    "- Smaller SD\n",
    "- Same mean as the parent\n",
    "- Sample"
   ]
  },
  {
   "cell_type": "markdown",
   "id": "e247b328-e1c6-4e75-94f9-ef7d09040082",
   "metadata": {},
   "source": [
    "Standard Deviation of the Child\n",
    "(Sample)\n",
    "\n",
    "What is the standard deviation of the sample if the sigma is 12 and your n is 444?\n",
    "\n",
    "\n",
    "\\begin{equation}\n",
    "stdev of child distribution = \\frac{stdev of parent distribution}{\\sqrt{sample size}}\n",
    "\\end{equation}\n",
    "\n",
    "\n",
    "$$\\frac{12}{\\sqrt{444}} --> \\frac{12}{21.07} --> .57$$\n"
   ]
  },
  {
   "cell_type": "markdown",
   "id": "f8590697-6d87-4732-bb73-ad06e76dfcdf",
   "metadata": {},
   "source": [
    "## Confidence Intervals\n",
    "\n",
    "### What is a Confidence Interval?\n",
    "- Band around the mean\n",
    "- Your true mean falls somewhere in there\n",
    "- 90% CI: 90% of the time\n",
    "- 95% CI: 95% of the time\n",
    "- 99% CI: 99% of the time"
   ]
  },
  {
   "cell_type": "markdown",
   "id": "6a0cbdfe-f799-4241-abdf-59dfa25cac5a",
   "metadata": {},
   "source": [
    "## What is Margin of Error?\n",
    "\n",
    "- Amount you could be wrong by\n",
    "- Gets added and subtracted from the mean\n",
    "\n",
    "<p style=\"text-align: center\">\n",
    "  <img  src=\"../../Media/confidenceInterval.png\" width=\"600\" alt=\"confidence interval\">\n",
    "</p>\n",
    "\n",
    "## Putting it All Together\n",
    "\n",
    "<p style=\"text-align: center\">\n",
    "  <img  src=\"../../Media/largerInterval.png\" width=\"600\" alt=\"largerInterval.png\">\n",
    "</p>"
   ]
  },
  {
   "cell_type": "markdown",
   "id": "d447af40-e67e-4f75-ab42-65ff5a8c1a62",
   "metadata": {},
   "source": [
    "## z-scores\n",
    "\n",
    "### The Formula\n",
    "\n"
   ]
  },
  {
   "cell_type": "markdown",
   "id": "65d0e47b-724f-499b-a34e-6fc54d186685",
   "metadata": {},
   "source": [
    "$$ z = \\frac{x-\\mu}{\\sigma} $$"
   ]
  },
  {
   "cell_type": "markdown",
   "id": "71d0e0b8-99a5-46de-bf44-fd2e7c3b4477",
   "metadata": {},
   "source": [
    "## An Example Working Backwards"
   ]
  },
  {
   "cell_type": "markdown",
   "id": "91ff0ee9-f0a4-48b1-93f1-43727df671d4",
   "metadata": {},
   "source": [
    "- $x = 30$\n",
    "- $\\mu = 25$\n",
    "- $z = 3.2$\n",
    "\n",
    "What is sigma?\n",
    "\n",
    "<p style=\"text-align: center\">\n",
    "  <img  src=\"../../Media/sigma.png\" width=\"600\" alt=\"sigma.png\">\n",
    "</p>"
   ]
  },
  {
   "cell_type": "code",
   "execution_count": 2,
   "id": "3079cc91-3b34-4887-83a0-1b9dcadfcece",
   "metadata": {},
   "outputs": [
    {
     "name": "stdout",
     "output_type": "stream",
     "text": [
      "1.5625\n"
     ]
    }
   ],
   "source": [
    "x = 30\n",
    "mu = 25\n",
    "z = 3.2\n",
    "\n",
    "sigma = (x - mu) / z\n",
    "print (sigma)"
   ]
  },
  {
   "cell_type": "markdown",
   "id": "48c73678-5777-4c60-b5a1-4f772d9354a1",
   "metadata": {},
   "source": [
    "## Using the [Normal Probability Applet](https://davidmlane.com/hyperstat/z_table.html)\n",
    "\n",
    "https://davidmlane.com/hyperstat/z_table.html\n",
    "\n",
    "An Example\n",
    "\n",
    "What is the probability of selecting a value that is either smaller than 12 or greater than 18, for a\n",
    "distribution with a mean of 15 and a standard deviation of 2? \n",
    "\n",
    "x = <12 or >18\n",
    "mu = 15\n",
    "z = 2\n",
    "\n",
    "sigma\n",
    "\n",
    "0.1336\n",
    "\n",
    "\n",
    "When you click on the above z table applet. \n",
    "\n",
    "1. enter the mu\n",
    "2. enter the z\n",
    "3. click on the last radio button and in the Outside type 12 and 18\n",
    "4. Recalculate - Voila'\n"
   ]
  },
  {
   "cell_type": "markdown",
   "id": "5b5fa623-40f0-4d3c-bd78-53d71de6eae6",
   "metadata": {},
   "source": [
    "\n",
    "\n",
    "## Data Types for Graphs\n",
    "\n",
    "## Categorical Only\n",
    "\n",
    "- Pie\n",
    "- Bar\n",
    "- Pareto\n",
    "\n",
    "## Continuous Only\n",
    "\n",
    "- Histogram\n",
    "- Boxplot\n",
    "- Scatterplot\n",
    "- Line graph\n",
    "\n",
    "## Mixed: Categorical + Continuous\n",
    "\n",
    "- Histogram with multiple groups\n",
    "- Side-by-side boxplots\n",
    "- Stacked bar graph\n",
    "- Data map\n",
    "- Tree map\n",
    "- Heat map"
   ]
  },
  {
   "cell_type": "code",
   "execution_count": 20,
   "id": "aa89ca44-cb42-4397-b998-4f70f730ee05",
   "metadata": {},
   "outputs": [],
   "source": [
    "import seaborn as sns\n",
    "import pandas as pd"
   ]
  },
  {
   "cell_type": "code",
   "execution_count": 21,
   "id": "0336a63e-4498-41c1-bf20-8692222ada8a",
   "metadata": {},
   "outputs": [],
   "source": [
    "#dataset_names = sns.get_dataset_names()"
   ]
  },
  {
   "cell_type": "code",
   "execution_count": 22,
   "id": "4288bc61-f8d8-4b26-86b7-99e5cd9b8deb",
   "metadata": {},
   "outputs": [],
   "source": [
    "#dataset_names"
   ]
  },
  {
   "cell_type": "code",
   "execution_count": 23,
   "id": "e83b1157-aa9e-431a-a53c-1ad5acd41327",
   "metadata": {},
   "outputs": [],
   "source": [
    "iris = sns.load_dataset('iris')"
   ]
  },
  {
   "cell_type": "code",
   "execution_count": 24,
   "id": "ceedac5f-ced5-4d0f-bc54-26615327849b",
   "metadata": {},
   "outputs": [
    {
     "data": {
      "text/plain": [
       "<AxesSubplot:ylabel='Count'>"
      ]
     },
     "execution_count": 24,
     "metadata": {},
     "output_type": "execute_result"
    },
    {
     "data": {
      "image/png": "[encoded data removed]",
      "text/plain": [
       "<Figure size 432x288 with 1 Axes>"
      ]
     },
     "metadata": {
      "needs_background": "light"
     },
     "output_type": "display_data"
    }
   ],
   "source": [
    "sns.histplot(iris)"
   ]
  },
  {
   "cell_type": "code",
   "execution_count": 19,
   "id": "38d41116-7290-48e6-b14f-3652f52060c1",
   "metadata": {},
   "outputs": [
    {
     "data": {
      "image/png": "[encoded data removed]",
      "text/plain": [
       "<Figure size 432x288 with 1 Axes>"
      ]
     },
     "metadata": {},
     "output_type": "display_data"
    }
   ],
   "source": [
    "import matplotlib.pyplot as plt\n",
    "import seaborn as sns\n",
    "\n",
    "#define data\n",
    "data = [10, 20, 30]\n",
    "labels = ['label1', 'label2', 'label3']\n",
    "\n",
    "#define Seaborn color palette to use\n",
    "colors = sns.color_palette('pastel')[0:5]\n",
    "\n",
    "#create pie chart\n",
    "plt.pie(data, labels = labels, colors = colors, autopct='%.0f%%')\n",
    "plt.show()"
   ]
  },
  {
   "cell_type": "code",
   "execution_count": null,
   "id": "e0e29474-7bd3-4e3a-aded-ee32f7bb1f06",
   "metadata": {},
   "outputs": [],
   "source": []
  }
 ],
 "metadata": {
  "kernelspec": {
   "display_name": "Python 3 (ipykernel)",
   "language": "python",
   "name": "python3"
  },
  "language_info": {
   "codemirror_mode": {
    "name": "ipython",
    "version": 3
   },
   "file_extension": ".py",
   "mimetype": "text/x-python",
   "name": "python",
   "nbconvert_exporter": "python",
   "pygments_lexer": "ipython3",
   "version": "3.9.9"
  }
 },
 "nbformat": 4,
 "nbformat_minor": 5
}
