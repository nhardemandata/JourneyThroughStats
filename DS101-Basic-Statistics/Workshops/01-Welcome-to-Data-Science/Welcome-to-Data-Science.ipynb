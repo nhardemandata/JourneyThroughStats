{
 "cells": [
  {
   "cell_type": "markdown",
   "id": "2f3735e8-082b-48f8-83f6-15855b50e4c6",
   "metadata": {},
   "source": [
    "# Wecome to Data Science"
   ]
  },
  {
   "cell_type": "markdown",
   "id": "f1728060-ed24-4c5e-9add-54b636bbc190",
   "metadata": {},
   "source": [
    "[Data science](https://en.wikipedia.org/wiki/Data_science) is an [interdisciplinary](https://en.wikipedia.org/wiki/Interdisciplinarity) field that uses scientific methods, processes, algorithms and systems to extract [knowledge](https://en.wikipedia.org/wiki/Knowledge) and insights from noisy, structured and [unstructured data](https://en.wikipedia.org/wiki/Unstructured_data), and apply knowledge and actionable insights from data across a broad range of application domains. Data science is related to [data mining](https://en.wikipedia.org/wiki/Data_mining), [machine learning](https://en.wikipedia.org/wiki/Machine_learning) and [big data](https://en.wikipedia.org/wiki/Big_data).\n",
    "\n",
    "Data science is a \"concept to unify [statistics](https://en.wikipedia.org/wiki/Statistics), [data analysis](https://en.wikipedia.org/wiki/Data_analysis), [informatics](https://en.wikipedia.org/wiki/Informatics), and their related methods\" in order to \"understand and analyze actual phenomena\" with data. It uses techniques and theories drawn from many fields within the context of [mathematics](https://en.wikipedia.org/wiki/Mathematics), [statistics](https://en.wikipedia.org/wiki/Statistics), [computer science](https://en.wikipedia.org/wiki/Computer_science), [information science](https://en.wikipedia.org/wiki/Information_science), and [domain knowledge](https://en.wikipedia.org/wiki/Domain_knowledge). However, data science is different from computer science and information science. [Turing Award](https://en.wikipedia.org/wiki/Turing_Award) winner [Jim Gray](https://en.wikipedia.org/wiki/Jim_Gray_(computer_scientist)) imagined data science as a \"fourth paradigm\" of science ([empirical](https://en.wikipedia.org/wiki/Empirical_research), [theoretical](https://en.wikipedia.org/wiki/Basic_research), [computational](https://en.wikipedia.org/wiki/Computational_science), and now data-driven) and asserted that \"everything about science is changing because of the impact of [information technology](https://en.wikipedia.org/wiki/Information_technology)\" and the [data deluge](https://en.wikipedia.org/wiki/Information_explosion).\n",
    "\n",
    "A **data scientist** is someone who creates programming code, and combines it with statistical knowledge to create insights on business data."
   ]
  },
  {
   "cell_type": "code",
   "execution_count": null,
   "id": "0228e8e1-bf37-41bc-92df-ec37c2fb4fc2",
   "metadata": {},
   "outputs": [],
   "source": []
  }
 ],
 "metadata": {
  "kernelspec": {
   "display_name": "Python 3 (ipykernel)",
   "language": "python",
   "name": "python3"
  },
  "language_info": {
   "codemirror_mode": {
    "name": "ipython",
    "version": 3
   },
   "file_extension": ".py",
   "mimetype": "text/x-python",
   "name": "python",
   "nbconvert_exporter": "python",
   "pygments_lexer": "ipython3",
   "version": "3.9.7"
  }
 },
 "nbformat": 4,
 "nbformat_minor": 5
}
