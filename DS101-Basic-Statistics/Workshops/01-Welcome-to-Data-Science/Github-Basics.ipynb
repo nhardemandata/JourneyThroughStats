{
 "cells": [
  {
   "cell_type": "markdown",
   "id": "22c1c6e3-29e2-4a8a-ac67-4bf7990c829d",
   "metadata": {},
   "source": [
    "# Github Basics"
   ]
  },
  {
   "cell_type": "markdown",
   "id": "ddfa3c1a-598b-4338-80cd-ff9c82db61f8",
   "metadata": {},
   "source": [
    "1. If you haven't already done so create a github.com account by going to [github.com](https://github.com/)\n",
    "2. Ensure you are logged into your Github.com account."
   ]
  },
  {
   "cell_type": "code",
   "execution_count": 1,
   "id": "d4083f7d-f0b3-462c-8c4f-72ea8ead0673",
   "metadata": {},
   "outputs": [
    {
     "data": {
      "text/html": [
       "\n",
       "        <iframe\n",
       "            width=\"720\"\n",
       "            height=\"480\"\n",
       "            src=\"https://player.vimeo.com/video/570012385\"\n",
       "            frameborder=\"0\"\n",
       "            allowfullscreen\n",
       "            \n",
       "        ></iframe>\n",
       "        "
      ],
      "text/plain": [
       "<IPython.lib.display.VimeoVideo at 0x107dafb80>"
      ]
     },
     "execution_count": 1,
     "metadata": {},
     "output_type": "execute_result"
    }
   ],
   "source": [
    "from IPython.display import VimeoVideo\n",
    "# Tutorial Video Name: Github Basics\n",
    "VimeoVideo('570012385', width=720, height=480)"
   ]
  },
  {
   "cell_type": "markdown",
   "id": "476f7be5-73b3-4943-b0e8-a3029c01e951",
   "metadata": {},
   "source": [
    "When you love to organize, share, work in a team, and showcase your work. \n",
    "\n",
    "Read the latest Github [README](https://github.com/readme)\n",
    "\n",
    "- [Git](https://git-scm.com/)\n",
    "- [Github](https://github.com/)\n",
    "- [Github Desktop](https://desktop.github.com/)\n",
    "\n",
    "Git References:\n",
    "- https://git-scm.com/\n",
    "- https://git-scm.com/docs\n",
    "- https://git-scm.com/book/en/v2\n",
    "- https://git-scm.com/videos\n",
    "\n",
    "Github References:\n",
    "- https://guides.github.com/\n",
    "- https://guides.github.com/introduction/flow/\n",
    "- https://guides.github.com/activities/hello-world/\n",
    "- https://guides.github.com/features/pages/\n",
    "- https://guides.github.com/introduction/git-handbook/\n",
    "- https://guides.github.com/activities/forking/\n",
    "- https://guides.github.com/activities/socialize/\n",
    "- https://guides.github.com/activities/citable-code/\n",
    "- https://guides.github.com/features/issues/\n",
    "- https://guides.github.com/features/mastering-markdown/\n",
    "- https://guides.github.com/features/wikis/\n",
    "- https://www.youtube.com/githubguides\n",
    "- https://docs.github.com/en\n",
    "- https://lab.github.com/\n",
    "\n",
    "Github Desktop References:\n",
    "- https://docs.github.com/en/desktop/installing-and-configuring-github-desktop"
   ]
  },
  {
   "cell_type": "code",
   "execution_count": null,
   "id": "49a57b02-0985-4fc1-9989-6180b1d86cdb",
   "metadata": {},
   "outputs": [],
   "source": []
  }
 ],
 "metadata": {
  "kernelspec": {
   "display_name": "Python 3 (ipykernel)",
   "language": "python",
   "name": "python3"
  },
  "language_info": {
   "codemirror_mode": {
    "name": "ipython",
    "version": 3
   },
   "file_extension": ".py",
   "mimetype": "text/x-python",
   "name": "python",
   "nbconvert_exporter": "python",
   "pygments_lexer": "ipython3",
   "version": "3.9.7"
  }
 },
 "nbformat": 4,
 "nbformat_minor": 5
}
