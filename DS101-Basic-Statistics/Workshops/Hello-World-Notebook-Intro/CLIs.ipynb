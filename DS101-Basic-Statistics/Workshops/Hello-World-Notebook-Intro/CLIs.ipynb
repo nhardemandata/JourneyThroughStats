{
 "cells": [
  {
   "cell_type": "markdown",
   "id": "0e220b52-2103-4cc1-926b-941cd0d2f8b8",
   "metadata": {},
   "source": [
    "# The Command Line Interface (CLI)"
   ]
  },
  {
   "cell_type": "markdown",
   "id": "8f42e313-9db7-4b84-bd86-1c8c293ccfed",
   "metadata": {},
   "source": [
    "Many programs have command line interfaces (CLIs) to excute code.\n",
    "\n",
    "CLIs are an alternative to graphical user interfaces (GUIs), which is what many people think of when working with computers.\n",
    "\n",
    "Examples of CLIs:\n",
    "* Terminal\n",
    "* Command Prompt\n",
    "* Powershell\n",
    "* Python shell\n",
    "* RTerm\n",
    "* Bash shell\n",
    "\n",
    "While CLIs differ in many respects, there is also considerable overlap their structure. Many commands work across CLIs, but sometimes they do differ.\n",
    "\n",
    "The following tutorial is based on Terminal on a Mac but will work in many shell environments.\n"
   ]
  },
  {
   "cell_type": "markdown",
   "id": "6d6cb690-2c1e-4fe4-9ef3-292c120b16d6",
   "metadata": {},
   "source": [
    "# Terminal Commands in Jupyter"
   ]
  },
  {
   "cell_type": "markdown",
   "id": "7289ed62-dc45-477b-9f0f-f8518300ea30",
   "metadata": {},
   "source": [
    "Terminal commands can be run from jupyter notebooks by prepending an `!` to the command.\n",
    "\n",
    "This means, in terminal you can run identical commands but remove the `!`."
   ]
  },
  {
   "cell_type": "markdown",
   "id": "d6813457-dabf-4523-b4d5-d7734132b25f",
   "metadata": {
    "tags": []
   },
   "source": [
    "## Basic Commands"
   ]
  },
  {
   "cell_type": "markdown",
   "id": "896f73ff-cc9c-4dc1-8119-797b30ac0caa",
   "metadata": {},
   "source": [
    "The `pwd` command will return your present working directory. \n",
    "\n",
    "That is, it shows your current location on your machine."
   ]
  },
  {
   "cell_type": "code",
   "execution_count": 2,
   "id": "afa1822f-369c-4a2d-a3af-98b6ab0eb751",
   "metadata": {},
   "outputs": [
    {
     "name": "stdout",
     "output_type": "stream",
     "text": [
      "/Users/dannylumian/Documents/GitHub/DS-Student-Resources/DS101-Basic-Statistics/Workshops/Hello-World-Notebook-Intro\n"
     ]
    }
   ],
   "source": [
    "!pwd"
   ]
  },
  {
   "cell_type": "markdown",
   "id": "cb34579c-d1b6-49d3-8315-a84d4122067e",
   "metadata": {},
   "source": [
    "The `ls` command will list the contents of the current directory."
   ]
  },
  {
   "cell_type": "code",
   "execution_count": 4,
   "id": "72fede1a-7150-4276-9e4e-d221fe2e07fb",
   "metadata": {},
   "outputs": [
    {
     "name": "stdout",
     "output_type": "stream",
     "text": [
      "CLIs.ipynb        Hello-World.ipynb\n"
     ]
    }
   ],
   "source": [
    "!ls"
   ]
  },
  {
   "cell_type": "markdown",
   "id": "6299bf5b-df2c-4712-98ad-cc6a50dc4dff",
   "metadata": {},
   "source": [
    "The `mkdir` command will create a new folder.\n",
    "\n",
    "This command requires an `argument`-the name of the directory to be created."
   ]
  },
  {
   "cell_type": "code",
   "execution_count": 5,
   "id": "f175b038-4e15-44cc-950e-4daab4717675",
   "metadata": {},
   "outputs": [],
   "source": [
    "!mkdir foo"
   ]
  },
  {
   "cell_type": "code",
   "execution_count": 6,
   "id": "76b4f14a-7351-4c5a-956f-a23e98274e8a",
   "metadata": {},
   "outputs": [
    {
     "name": "stdout",
     "output_type": "stream",
     "text": [
      "CLIs.ipynb        Hello-World.ipynb \u001b[34mfoo\u001b[m\u001b[m\n"
     ]
    }
   ],
   "source": [
    "!ls"
   ]
  },
  {
   "cell_type": "markdown",
   "id": "32c58f19-2585-4516-b857-5bb74a93cb03",
   "metadata": {},
   "source": [
    "Note: a new directory called `foo` has been created"
   ]
  },
  {
   "cell_type": "markdown",
   "id": "23b28d44-0b8c-48ed-a57c-2994c6a83d58",
   "metadata": {},
   "source": [
    "The `touch` command will create an empty file.\n",
    "\n",
    "This command requires an argument-the name of the file to create."
   ]
  },
  {
   "cell_type": "code",
   "execution_count": 8,
   "id": "9c9bb83b-81b9-4a07-9660-a3a54af5c06e",
   "metadata": {},
   "outputs": [],
   "source": [
    "!touch bar.txt"
   ]
  },
  {
   "cell_type": "code",
   "execution_count": 9,
   "id": "61829c84-788d-484e-a350-f4d436d892aa",
   "metadata": {},
   "outputs": [
    {
     "name": "stdout",
     "output_type": "stream",
     "text": [
      "CLIs.ipynb        Hello-World.ipynb bar.txt           \u001b[34mfoo\u001b[m\u001b[m\n"
     ]
    }
   ],
   "source": [
    "!ls"
   ]
  },
  {
   "cell_type": "markdown",
   "id": "b186c196-ce19-4b73-a879-ff6537a82354",
   "metadata": {},
   "source": [
    "Note: a new file called `bar` has been created"
   ]
  },
  {
   "cell_type": "markdown",
   "id": "5b54e7a4-88fa-435c-afbf-890539428cbb",
   "metadata": {},
   "source": [
    "The `mv` command will move or rename a file\n",
    "\n",
    "This command requires two arguments-the file to be moved and the destination.\n",
    "\n",
    "The next commands will rename `bar.txt` to `fizzbuzz.txt` then move that file to our new directory `foo`."
   ]
  },
  {
   "cell_type": "code",
   "execution_count": 12,
   "id": "03aa5dff-4137-4930-a9f7-1b3803a13576",
   "metadata": {},
   "outputs": [],
   "source": [
    "!mv bar.txt fizzbuzz.txt"
   ]
  },
  {
   "cell_type": "code",
   "execution_count": 13,
   "id": "ccbe3d5b-30c6-40ae-b2d9-db227f8e276e",
   "metadata": {},
   "outputs": [
    {
     "name": "stdout",
     "output_type": "stream",
     "text": [
      "CLIs.ipynb        Hello-World.ipynb fizzbuzz.txt      \u001b[34mfoo\u001b[m\u001b[m\n"
     ]
    }
   ],
   "source": [
    "!ls"
   ]
  },
  {
   "cell_type": "code",
   "execution_count": 14,
   "id": "927b864c-0538-41f9-9ae7-f5436fe83e75",
   "metadata": {},
   "outputs": [],
   "source": [
    "!mv fizzbuzz.txt foo/"
   ]
  },
  {
   "cell_type": "code",
   "execution_count": 15,
   "id": "4d466921-33c2-49d0-af9c-d40453bfeeb7",
   "metadata": {},
   "outputs": [
    {
     "name": "stdout",
     "output_type": "stream",
     "text": [
      "CLIs.ipynb        Hello-World.ipynb \u001b[34mfoo\u001b[m\u001b[m\n"
     ]
    }
   ],
   "source": [
    "!ls"
   ]
  },
  {
   "cell_type": "markdown",
   "id": "c024033e-209f-41c6-9bd4-6318dea112e0",
   "metadata": {},
   "source": [
    "Finally, the `rm` command will remove files or directories.\n",
    "\n",
    "**NOTE:** This is a dangerous command. Be sure you know what you're doing when removing files from your system.\n",
    "\n",
    "In order remove a directory, a flag is required. The flag is `-R` for recursive.\n",
    "\n",
    "Let's remove the directory we created."
   ]
  },
  {
   "cell_type": "code",
   "execution_count": 16,
   "id": "5e9dc6ae-aa20-4580-8b7c-0d06bbbedce5",
   "metadata": {},
   "outputs": [],
   "source": [
    "!rm -R foo/"
   ]
  },
  {
   "cell_type": "code",
   "execution_count": 17,
   "id": "ce625ebf-751d-4dc0-aba7-bb333067bfc3",
   "metadata": {},
   "outputs": [
    {
     "name": "stdout",
     "output_type": "stream",
     "text": [
      "CLIs.ipynb        Hello-World.ipynb\n"
     ]
    }
   ],
   "source": [
    "!ls"
   ]
  },
  {
   "cell_type": "markdown",
   "id": "3fd271f5-bb7c-45ff-aa18-f05d59b9ff51",
   "metadata": {},
   "source": [
    "# This concludes your introduction to CLIs"
   ]
  },
  {
   "cell_type": "code",
   "execution_count": null,
   "id": "edc20646-624f-40ef-9491-bb3f1ac4dbe2",
   "metadata": {},
   "outputs": [],
   "source": []
  }
 ],
 "metadata": {
  "kernelspec": {
   "display_name": "Python 3 (ipykernel)",
   "language": "python",
   "name": "python3"
  },
  "language_info": {
   "codemirror_mode": {
    "name": "ipython",
    "version": 3
   },
   "file_extension": ".py",
   "mimetype": "text/x-python",
   "name": "python",
   "nbconvert_exporter": "python",
   "pygments_lexer": "ipython3",
   "version": "3.9.7"
  }
 },
 "nbformat": 4,
 "nbformat_minor": 5
}
