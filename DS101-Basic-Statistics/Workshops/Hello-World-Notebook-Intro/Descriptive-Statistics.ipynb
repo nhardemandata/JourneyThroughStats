{
 "cells": [
  {
   "cell_type": "code",
   "execution_count": 1,
   "id": "ecbd1628-c85f-4d49-af5f-4d0956f807fb",
   "metadata": {},
   "outputs": [],
   "source": [
    "# Set a random seed to make results reproducible\n",
    "import random\n",
    "random.seed(42)"
   ]
  },
  {
   "cell_type": "code",
   "execution_count": 2,
   "id": "ebbd1c5d-feb8-4103-9355-2970365e99d8",
   "metadata": {},
   "outputs": [],
   "source": [
    "# Create a list of integers, 0-100\n",
    "int_list = list(range(101))"
   ]
  },
  {
   "cell_type": "code",
   "execution_count": 3,
   "id": "2c88be1e-788b-4767-ac81-76e6f14b399e",
   "metadata": {},
   "outputs": [
    {
     "data": {
      "text/plain": [
       "[0,\n",
       " 1,\n",
       " 2,\n",
       " 3,\n",
       " 4,\n",
       " 5,\n",
       " 6,\n",
       " 7,\n",
       " 8,\n",
       " 9,\n",
       " 10,\n",
       " 11,\n",
       " 12,\n",
       " 13,\n",
       " 14,\n",
       " 15,\n",
       " 16,\n",
       " 17,\n",
       " 18,\n",
       " 19,\n",
       " 20,\n",
       " 21,\n",
       " 22,\n",
       " 23,\n",
       " 24,\n",
       " 25,\n",
       " 26,\n",
       " 27,\n",
       " 28,\n",
       " 29,\n",
       " 30,\n",
       " 31,\n",
       " 32,\n",
       " 33,\n",
       " 34,\n",
       " 35,\n",
       " 36,\n",
       " 37,\n",
       " 38,\n",
       " 39,\n",
       " 40,\n",
       " 41,\n",
       " 42,\n",
       " 43,\n",
       " 44,\n",
       " 45,\n",
       " 46,\n",
       " 47,\n",
       " 48,\n",
       " 49,\n",
       " 50,\n",
       " 51,\n",
       " 52,\n",
       " 53,\n",
       " 54,\n",
       " 55,\n",
       " 56,\n",
       " 57,\n",
       " 58,\n",
       " 59,\n",
       " 60,\n",
       " 61,\n",
       " 62,\n",
       " 63,\n",
       " 64,\n",
       " 65,\n",
       " 66,\n",
       " 67,\n",
       " 68,\n",
       " 69,\n",
       " 70,\n",
       " 71,\n",
       " 72,\n",
       " 73,\n",
       " 74,\n",
       " 75,\n",
       " 76,\n",
       " 77,\n",
       " 78,\n",
       " 79,\n",
       " 80,\n",
       " 81,\n",
       " 82,\n",
       " 83,\n",
       " 84,\n",
       " 85,\n",
       " 86,\n",
       " 87,\n",
       " 88,\n",
       " 89,\n",
       " 90,\n",
       " 91,\n",
       " 92,\n",
       " 93,\n",
       " 94,\n",
       " 95,\n",
       " 96,\n",
       " 97,\n",
       " 98,\n",
       " 99,\n",
       " 100]"
      ]
     },
     "execution_count": 3,
     "metadata": {},
     "output_type": "execute_result"
    }
   ],
   "source": [
    "int_list"
   ]
  },
  {
   "cell_type": "code",
   "execution_count": 4,
   "id": "64b2555d-f26f-49ef-9117-d64bc638ca12",
   "metadata": {},
   "outputs": [],
   "source": [
    "import pandas as pd"
   ]
  },
  {
   "cell_type": "code",
   "execution_count": 6,
   "id": "8243c900-64c1-4eb0-acfc-e7412e053fbf",
   "metadata": {},
   "outputs": [],
   "source": [
    "# put data into dataframe\n",
    "df = pd.DataFrame({'a': int_list})"
   ]
  },
  {
   "cell_type": "code",
   "execution_count": 8,
   "id": "0e37e92b-c56d-4a2b-80e5-850dea41036c",
   "metadata": {},
   "outputs": [
    {
     "data": {
      "text/plain": [
       "0        0\n",
       "1        1\n",
       "2        2\n",
       "3        3\n",
       "4        4\n",
       "      ... \n",
       "96      96\n",
       "97      97\n",
       "98      98\n",
       "99      99\n",
       "100    100\n",
       "Name: a, Length: 101, dtype: int64"
      ]
     },
     "execution_count": 8,
     "metadata": {},
     "output_type": "execute_result"
    }
   ],
   "source": [
    "df.a"
   ]
  },
  {
   "cell_type": "code",
   "execution_count": 9,
   "id": "18774337-0e8d-4b77-9c17-9e46cc037c44",
   "metadata": {},
   "outputs": [
    {
     "data": {
      "text/plain": [
       "50.0"
      ]
     },
     "execution_count": 9,
     "metadata": {},
     "output_type": "execute_result"
    }
   ],
   "source": [
    "df.a.mean()"
   ]
  },
  {
   "cell_type": "code",
   "execution_count": 10,
   "id": "ef25c648-ff7b-4b57-b04d-de6cd8cb69b4",
   "metadata": {},
   "outputs": [
    {
     "data": {
      "text/plain": [
       "50.0"
      ]
     },
     "execution_count": 10,
     "metadata": {},
     "output_type": "execute_result"
    }
   ],
   "source": [
    "df.a.median()"
   ]
  },
  {
   "cell_type": "code",
   "execution_count": 12,
   "id": "538870c4-5f65-4d0d-b6ac-96c345c58ec7",
   "metadata": {},
   "outputs": [
    {
     "data": {
      "text/plain": [
       "29.300170647967224"
      ]
     },
     "execution_count": 12,
     "metadata": {},
     "output_type": "execute_result"
    }
   ],
   "source": [
    "df.a.std()"
   ]
  },
  {
   "cell_type": "code",
   "execution_count": 13,
   "id": "c9456709-801c-4ebf-9765-7f784e936ae0",
   "metadata": {},
   "outputs": [
    {
     "data": {
      "text/plain": [
       "count    101.000000\n",
       "mean      50.000000\n",
       "std       29.300171\n",
       "min        0.000000\n",
       "25%       25.000000\n",
       "50%       50.000000\n",
       "75%       75.000000\n",
       "max      100.000000\n",
       "Name: a, dtype: float64"
      ]
     },
     "execution_count": 13,
     "metadata": {},
     "output_type": "execute_result"
    }
   ],
   "source": [
    "df.a.describe()"
   ]
  },
  {
   "cell_type": "code",
   "execution_count": null,
   "id": "3a4a646f-5b67-4e54-8c73-5b9f084e297f",
   "metadata": {},
   "outputs": [],
   "source": []
  }
 ],
 "metadata": {
  "kernelspec": {
   "display_name": "Python 3 (ipykernel)",
   "language": "python",
   "name": "python3"
  },
  "language_info": {
   "codemirror_mode": {
    "name": "ipython",
    "version": 3
   },
   "file_extension": ".py",
   "mimetype": "text/x-python",
   "name": "python",
   "nbconvert_exporter": "python",
   "pygments_lexer": "ipython3",
   "version": "3.9.7"
  }
 },
 "nbformat": 4,
 "nbformat_minor": 5
}
