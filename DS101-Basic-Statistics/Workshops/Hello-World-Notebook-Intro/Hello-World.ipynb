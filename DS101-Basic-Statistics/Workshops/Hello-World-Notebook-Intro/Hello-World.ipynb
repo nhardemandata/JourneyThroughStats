{
 "cells": [
  {
   "cell_type": "markdown",
   "id": "5a26ce0a-41c8-460f-b8f1-94d4aee74a1f",
   "metadata": {},
   "source": [
    "# Hello World! Welcome to Jupyter Notebooks!"
   ]
  },
  {
   "cell_type": "markdown",
   "id": "e0c85b6d-e759-41bd-88f9-a66dbc394f71",
   "metadata": {},
   "source": [
    "Traditionally, the first program run when learning a new programming language is `Hello World!`.\n",
    "\n",
    "This notebook is your introduction to both [Python](https://www.python.org/) and [R](https://www.r-project.org/)!"
   ]
  },
  {
   "cell_type": "markdown",
   "id": "134b117a-e993-4ea2-9ce9-135904f0e00b",
   "metadata": {},
   "source": [
    "**NOTE:** Notebooks are comprised of cells (like this one) which come in different flavors. This current cell is a `Markdown` cell. This means it can contain text and HTML type formatting (things like headers, formatted text, bullet lists, etc.)\n",
    "\n",
    "The cell below is a `Code` cell, which means it has an associated language and will execute the code in it when run.\n",
    "\n",
    "To run a cell, hold shift and press enter. "
   ]
  },
  {
   "cell_type": "code",
   "execution_count": 7,
   "id": "b54dd4d0-610a-4c81-bc12-f24cde064d66",
   "metadata": {},
   "outputs": [
    {
     "name": "stdout",
     "output_type": "stream",
     "text": [
      "Hello world!\n"
     ]
    }
   ],
   "source": [
    "print('Hello world!')"
   ]
  },
  {
   "cell_type": "markdown",
   "id": "2d104725-1694-47eb-bc29-a37bc54bdc99",
   "metadata": {},
   "source": [
    "Great job, you just ran your first python snippet in a jupyter notebook! \n",
    "\n",
    "Next, let's run it in R! The next cell will load our extension and then we will print `Hello world!`."
   ]
  },
  {
   "cell_type": "code",
   "execution_count": 6,
   "id": "d0d9f839-2146-49f2-acd6-225de8e658ae",
   "metadata": {},
   "outputs": [],
   "source": [
    "%load_ext rpy2.ipython"
   ]
  },
  {
   "cell_type": "code",
   "execution_count": 9,
   "id": "bbd70d34-9d01-43cc-a97e-43b88899791d",
   "metadata": {},
   "outputs": [
    {
     "name": "stdout",
     "output_type": "stream",
     "text": [
      "Hello world!\n"
     ]
    }
   ],
   "source": [
    "%R\n",
    "\n",
    "print('Hello world!')"
   ]
  },
  {
   "cell_type": "markdown",
   "id": "ae4bb10b-8084-43d6-9843-1e9cedfe54bb",
   "metadata": {},
   "source": [
    "# Welcome to the World of Data Science! "
   ]
  },
  {
   "cell_type": "markdown",
   "id": "3d04e02f-4841-46dc-91a1-230514e594d5",
   "metadata": {},
   "source": [
    "It may not seem like much, but you've just entered the world of data science with this simple notebook.\n",
    "\n",
    "You may notice that the code to print `Hello world!` is almost identical between Python and R. These languages share many common characteristics but also differ in important ways. We'll dive into those similarities and differences throughout the program. "
   ]
  },
  {
   "cell_type": "markdown",
   "id": "4adcd607-1cfa-4361-8812-ea335f7ca392",
   "metadata": {},
   "source": [
    "## Check Versions\n",
    "\n",
    "Now let's get to know our programs a bit better. Follow the cells below to see version information for what you have installed on your system."
   ]
  },
  {
   "cell_type": "code",
   "execution_count": 12,
   "id": "f14f6c0a-8df2-4c9d-913c-ca210b9f6fea",
   "metadata": {},
   "outputs": [
    {
     "data": {
      "text/plain": [
       "'3.9.7 (default, Sep  3 2021, 12:37:55) \\n[Clang 12.0.5 (clang-1205.0.22.9)]'"
      ]
     },
     "execution_count": 12,
     "metadata": {},
     "output_type": "execute_result"
    }
   ],
   "source": [
    "import sys\n",
    "sys.version"
   ]
  },
  {
   "cell_type": "code",
   "execution_count": 13,
   "id": "bdc7a4e0-19bd-4257-8a49-a454d8cc7548",
   "metadata": {},
   "outputs": [
    {
     "data": {
      "text/html": [
       "\n",
       "        <span>ListVector with 14 elements.</span>\n",
       "        <table>\n",
       "        <tbody>\n",
       "        \n",
       "          <tr>\n",
       "            <th>\n",
       "            platform\n",
       "            </th>\n",
       "            <td>\n",
       "            \n",
       "        <span>StrVector with 1 elements.</span>\n",
       "        <table>\n",
       "        <tbody>\n",
       "          <tr>\n",
       "          \n",
       "            <td>\n",
       "            'x86_64-apple-darwin17.0'\n",
       "            </td>\n",
       "          \n",
       "          </tr>\n",
       "        </tbody>\n",
       "        </table>\n",
       "        \n",
       "            </td>\n",
       "          </tr>\n",
       "        \n",
       "          <tr>\n",
       "            <th>\n",
       "            arch\n",
       "            </th>\n",
       "            <td>\n",
       "            \n",
       "        <span>StrVector with 1 elements.</span>\n",
       "        <table>\n",
       "        <tbody>\n",
       "          <tr>\n",
       "          \n",
       "            <td>\n",
       "            'x86_64'\n",
       "            </td>\n",
       "          \n",
       "          </tr>\n",
       "        </tbody>\n",
       "        </table>\n",
       "        \n",
       "            </td>\n",
       "          </tr>\n",
       "        \n",
       "          <tr>\n",
       "            <th>\n",
       "            os\n",
       "            </th>\n",
       "            <td>\n",
       "            \n",
       "        <span>StrVector with 1 elements.</span>\n",
       "        <table>\n",
       "        <tbody>\n",
       "          <tr>\n",
       "          \n",
       "            <td>\n",
       "            'darwin17.0'\n",
       "            </td>\n",
       "          \n",
       "          </tr>\n",
       "        </tbody>\n",
       "        </table>\n",
       "        \n",
       "            </td>\n",
       "          </tr>\n",
       "        \n",
       "          <tr>\n",
       "            <th>\n",
       "            ...\n",
       "            </th>\n",
       "            <td>\n",
       "            ...\n",
       "            </td>\n",
       "          </tr>\n",
       "        \n",
       "          <tr>\n",
       "            <th>\n",
       "            language\n",
       "            </th>\n",
       "            <td>\n",
       "            \n",
       "        <span>StrVector with 1 elements.</span>\n",
       "        <table>\n",
       "        <tbody>\n",
       "          <tr>\n",
       "          \n",
       "            <td>\n",
       "            'R'\n",
       "            </td>\n",
       "          \n",
       "          </tr>\n",
       "        </tbody>\n",
       "        </table>\n",
       "        \n",
       "            </td>\n",
       "          </tr>\n",
       "        \n",
       "          <tr>\n",
       "            <th>\n",
       "            version.string\n",
       "            </th>\n",
       "            <td>\n",
       "            \n",
       "        <span>StrVector with 1 elements.</span>\n",
       "        <table>\n",
       "        <tbody>\n",
       "          <tr>\n",
       "          \n",
       "            <td>\n",
       "            'R version 4.1.1 (2021-08-10)'\n",
       "            </td>\n",
       "          \n",
       "          </tr>\n",
       "        </tbody>\n",
       "        </table>\n",
       "        \n",
       "            </td>\n",
       "          </tr>\n",
       "        \n",
       "          <tr>\n",
       "            <th>\n",
       "            nickname\n",
       "            </th>\n",
       "            <td>\n",
       "            \n",
       "        <span>StrVector with 1 elements.</span>\n",
       "        <table>\n",
       "        <tbody>\n",
       "          <tr>\n",
       "          \n",
       "            <td>\n",
       "            'Kick Things'\n",
       "            </td>\n",
       "          \n",
       "          </tr>\n",
       "        </tbody>\n",
       "        </table>\n",
       "        \n",
       "            </td>\n",
       "          </tr>\n",
       "        \n",
       "        </tbody>\n",
       "        </table>\n",
       "        "
      ],
      "text/plain": [
       "<rpy2.robjects.vectors.ListVector object at 0x10e4f6040> [RTYPES.VECSXP]\n",
       "R classes: ('simple.list',)\n",
       "[StrSexpVe..., StrSexpVe..., StrSexpVe..., StrSexpVe..., ..., StrSexpVe..., StrSexpVe..., StrSexpVe..., StrSexpVe...]\n",
       "  platform: <class 'rpy2.robjects.vectors.StrVector'>\n",
       "  <rpy2.robjects.vectors.StrVector object at 0x10cef0c40> [RTYPES.STRSXP]\n",
       "R classes: ('character',)\n",
       "['x86_64-apple-darwin17.0']\n",
       "  arch: <class 'rpy2.robjects.vectors.StrVector'>\n",
       "  <rpy2.robjects.vectors.StrVector object at 0x12fed4a00> [RTYPES.STRSXP]\n",
       "R classes: ('character',)\n",
       "['x86_64']\n",
       "  os: <class 'rpy2.robjects.vectors.StrVector'>\n",
       "  <rpy2.robjects.vectors.StrVector object at 0x130009c40> [RTYPES.STRSXP]\n",
       "R classes: ('character',)\n",
       "['darwin17.0']\n",
       "  system: <class 'rpy2.robjects.vectors.StrVector'>\n",
       "  <rpy2.robjects.vectors.StrVector object at 0x130009840> [RTYPES.STRSXP]\n",
       "R classes: ('character',)\n",
       "['x86_64, darwin17.0']\n",
       "...\n",
       "  major: <class 'rpy2.robjects.vectors.StrVector'>\n",
       "  <rpy2.robjects.vectors.StrVector object at 0x130009d40> [RTYPES.STRSXP]\n",
       "R classes: ('character',)\n",
       "['80725']\n",
       "  minor: <class 'rpy2.robjects.vectors.StrVector'>\n",
       "  <rpy2.robjects.vectors.StrVector object at 0x13000a180> [RTYPES.STRSXP]\n",
       "R classes: ('character',)\n",
       "['R']\n",
       "  year: <class 'rpy2.robjects.vectors.StrVector'>\n",
       "  <rpy2.robjects.vectors.StrVector object at 0x13000a500> [RTYPES.STRSXP]\n",
       "R classes: ('character',)\n",
       "['R version 4.1.1 (2021-08-10)']\n",
       "  month: <class 'rpy2.robjects.vectors.StrVector'>\n",
       "  <rpy2.robjects.vectors.StrVector object at 0x13000a800> [RTYPES.STRSXP]\n",
       "R classes: ('character',)\n",
       "['Kick Things']"
      ]
     },
     "execution_count": 13,
     "metadata": {},
     "output_type": "execute_result"
    }
   ],
   "source": [
    "%R version"
   ]
  },
  {
   "cell_type": "markdown",
   "id": "28dc3b07-5dd4-41c6-95a1-6be2709d8d0b",
   "metadata": {},
   "source": [
    "# For more information\n",
    "\n",
    "Now you're all set to explore the companion notebooks. \n",
    "\n",
    "Some good next steps are:\n",
    "\n",
    "* [Navigating the Companion Notebooks](../../Examples/0-Navigating-the-Companion-Notebook-Series.ipynb)\n",
    "* [GitHub Basics](../../Examples/1-Github-Basics.ipynb)\n",
    "* [Jupyter Basics](../../Examples/2-Jupyter-Basics.ipynb)\n",
    "    "
   ]
  },
  {
   "cell_type": "code",
   "execution_count": null,
   "id": "89f80a94-1e12-4936-bee9-8d6ef2d753ed",
   "metadata": {},
   "outputs": [],
   "source": []
  }
 ],
 "metadata": {
  "kernelspec": {
   "display_name": "Python 3 (ipykernel)",
   "language": "python",
   "name": "python3"
  },
  "language_info": {
   "codemirror_mode": {
    "name": "ipython",
    "version": 3
   },
   "file_extension": ".py",
   "mimetype": "text/x-python",
   "name": "python",
   "nbconvert_exporter": "python",
   "pygments_lexer": "ipython3",
   "version": "3.9.7"
  }
 },
 "nbformat": 4,
 "nbformat_minor": 5
}
