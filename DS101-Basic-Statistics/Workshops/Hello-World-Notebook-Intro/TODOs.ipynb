{
 "cells": [
  {
   "cell_type": "markdown",
   "id": "f965360a-7d9e-4958-9bd5-3d4ffb52633f",
   "metadata": {},
   "source": [
    "# Overview of Basic Statistics"
   ]
  },
  {
   "cell_type": "markdown",
   "id": "2118c0ad-99cc-463f-b676-d7c78363d019",
   "metadata": {},
   "source": [
    "* Hello World\n",
    "    - What is data science\n",
    "    - Tool introduction\n",
    "        - CLIs\n",
    "        - MarkDown\n",
    "        - GitHub\n",
    "        - Jupyter\n",
    "        - Python\n",
    "        - R\n",
    "        - Excel\n",
    "    - Hello World Notebook\n",
    "* What is Data\n",
    "    - Data types\n",
    "        - Integer\n",
    "        - Float\n",
    "        - String\n",
    "    - Normal distribution\n",
    "* Basic Probability\n",
    "    - Cards\n",
    "    - Sample from population\n",
    "* Descriptive Statistics\n",
    "    - Mean\n",
    "    - Median\n",
    "    - Mode\n",
    "    - Range (min, max)\n",
    "    - Do all in Excel, Python and R\n",
    "* Correlations\n",
    "    - Do all in Excel, Python and R\n",
    "* Compare Means: t-tests\n",
    "    - Do all in Excel, Python and R\n",
    "    - This is done- [see workshop](../8.1_v2-t-tests/t-test-in-Python.ipynb)"
   ]
  },
  {
   "cell_type": "code",
   "execution_count": null,
   "id": "4124aeca-4504-4edf-9978-9dc3ff3155b2",
   "metadata": {},
   "outputs": [],
   "source": []
  },
  {
   "cell_type": "code",
   "execution_count": null,
   "id": "a877748a-848e-41f7-8729-828078e98ba7",
   "metadata": {},
   "outputs": [],
   "source": []
  },
  {
   "cell_type": "code",
   "execution_count": null,
   "id": "8eff8770-6ad8-417f-8f5f-5041617597f2",
   "metadata": {},
   "outputs": [],
   "source": []
  },
  {
   "cell_type": "code",
   "execution_count": null,
   "id": "b0c68491-be34-4048-bdea-c0f4e653e04a",
   "metadata": {},
   "outputs": [],
   "source": []
  },
  {
   "cell_type": "code",
   "execution_count": null,
   "id": "3b4441cc-f3bd-4fa1-9e11-7a811b93d2ac",
   "metadata": {},
   "outputs": [],
   "source": []
  },
  {
   "cell_type": "code",
   "execution_count": null,
   "id": "9e8cda93-3df7-47db-a623-7f8a6d87cade",
   "metadata": {},
   "outputs": [],
   "source": []
  }
 ],
 "metadata": {
  "kernelspec": {
   "display_name": "Python 3 (ipykernel)",
   "language": "python",
   "name": "python3"
  },
  "language_info": {
   "codemirror_mode": {
    "name": "ipython",
    "version": 3
   },
   "file_extension": ".py",
   "mimetype": "text/x-python",
   "name": "python",
   "nbconvert_exporter": "python",
   "pygments_lexer": "ipython3",
   "version": "3.9.7"
  }
 },
 "nbformat": 4,
 "nbformat_minor": 5
}
