{
 "cells": [
  {
   "cell_type": "markdown",
   "id": "dd647c6d-e6ed-4f3d-9c02-a24484348310",
   "metadata": {},
   "source": [
    "# Study Skills"
   ]
  },
  {
   "cell_type": "code",
   "execution_count": 1,
   "id": "28dc6bed-658f-4437-9ca6-f9560e212a74",
   "metadata": {},
   "outputs": [
    {
     "data": {
      "text/html": [
       "\n",
       "        <iframe\n",
       "            width=\"720\"\n",
       "            height=\"480\"\n",
       "            src=\"https://player.vimeo.com/video/646658400\"\n",
       "            frameborder=\"0\"\n",
       "            allowfullscreen\n",
       "            \n",
       "        ></iframe>\n",
       "        "
      ],
      "text/plain": [
       "<IPython.lib.display.VimeoVideo at 0x10e5b5790>"
      ]
     },
     "execution_count": 1,
     "metadata": {},
     "output_type": "execute_result"
    }
   ],
   "source": [
    "from IPython.display import VimeoVideo\n",
    "# Tutorial Video Name: Study Skills\n",
    "VimeoVideo('646658400', width=720, height=480)"
   ]
  },
  {
   "cell_type": "markdown",
   "id": "b0fb0fee-110d-486f-9b4d-251e84a74f43",
   "metadata": {},
   "source": [
    "https://vimeo.com/646658400"
   ]
  },
  {
   "cell_type": "markdown",
   "id": "f65299d4-1623-4192-89ea-3b13266ec81d",
   "metadata": {
    "tags": []
   },
   "source": [
    "## BLOCK off UNDISTRACTED time\n",
    "\n",
    "### BLOCK\n",
    "- Set a schedule and stick to it!\n",
    "- Work when you’re “on fire”\n",
    "- Treat this like a part-time job\n",
    "\n",
    "### UNDISTRACTED\n",
    "- Our brains are terrible multitaskers!\n",
    "- Focus cements concepts\n",
    "- Avoid frequent interruptions\n",
    "    - Family\n",
    "    - Pets\n",
    "    - Social media\n",
    "    - Texts\n",
    "    - Your worried brain"
   ]
  },
  {
   "cell_type": "markdown",
   "id": "d6b13e90-d872-45fb-b12e-8180ba9df5a2",
   "metadata": {},
   "source": [
    "## Willpower is a Muscle to Build\n",
    "\n",
    "- 18+ days to form a habit\n",
    "- Delayed gratification = improved success\n",
    "- Start small, be consistent!\n",
    "- Celebrate the wins"
   ]
  },
  {
   "cell_type": "markdown",
   "id": "9fac5a4a-cc94-452b-a734-70571637780a",
   "metadata": {},
   "source": [
    "## Take Care of Yourself\n",
    "\n",
    "### Brains function better with…\n",
    "- Sleep\n",
    "- Protein\n",
    "- Time to unwind\n",
    "- Frequent breaks\n",
    "\n",
    "## Social support"
   ]
  },
  {
   "cell_type": "markdown",
   "id": "6432d541-1335-4af8-a815-65980d23665f",
   "metadata": {},
   "source": [
    "## What’s Important?\n",
    "\n",
    "### Don’t need to remember everything\n",
    "- Focus on big-picture concepts\n",
    "- Review the key terms at the end of the lesson and quizzes on each page to help guide you\n",
    "- Keep an eye out for repetition"
   ]
  },
  {
   "cell_type": "code",
   "execution_count": 1,
   "id": "d4dfd12b-df80-44dc-9dec-4d1279150490",
   "metadata": {},
   "outputs": [
    {
     "data": {
      "text/html": [
       "<Iframe src=https://en.wikipedia.org/wiki/Forgetting_curve width=800 height=600</iframe>\n"
      ],
      "text/plain": [
       "<IPython.core.display.HTML object>"
      ]
     },
     "metadata": {},
     "output_type": "display_data"
    }
   ],
   "source": [
    "%%html\n",
    "<Iframe src=https://en.wikipedia.org/wiki/Forgetting_curve width=800 height=600</iframe>"
   ]
  },
  {
   "cell_type": "markdown",
   "id": "667c14a3-b26b-4338-bba8-211b7dc82098",
   "metadata": {},
   "source": [
    "## Everyone Learns Differently\n",
    "\n",
    "- Reading\n",
    "- Writing\n",
    "- Listening\n",
    "- Doing – “Kinesthetic”\n",
    "- Watching videos\n",
    "\n",
    "# LEARN, APPLY, TEACH\n",
    "\n",
    "## Retaining what You’ve Learned\n",
    "\n",
    "## You remember better if you:\n",
    "    - Process more ways\n",
    "    - Refresh more times\n",
    "    - Explain it to someone else\n",
    "    - Make connections to your life\n",
    "    - Take notes! +50% to retention!\n",
    "    \n",
    "## Some Note-taking Styles\n",
    "\n",
    "- Map it out!\n",
    "- Keep track of key terms and questions!\n",
    "- Outline it!\n",
    "- Write your own Jupyter notebook!\n",
    "\n",
    "## Note-taking Tips\n",
    "\n",
    "Keep it short, sweet and memorable\n",
    "\n",
    "- Summarize\n",
    "- Experiment until you find something that works\n",
    "\n",
    "Organize Your Files\n",
    "\n",
    "## Set up a file folder system so you always know where everything is!\n",
    "\n",
    "- Keep it similar to the [DS-Student-Resources](https://github.com/woz-u/DS-Student-Resources)\n",
    "\n",
    "## Help us Help you!\n",
    "\n",
    "### Include the following:\n",
    "- Module (DSO101)\n",
    "- Lesson Name/Number\n",
    "- Page Number\n",
    "- Quiz / Exam Question Number\n",
    "- Any details you can\n",
    "- Screenshots if needed\n"
   ]
  },
  {
   "cell_type": "markdown",
   "id": "70632770-a9b9-4f2e-8f5d-d26f8da1b222",
   "metadata": {},
   "source": [
    "# How to take screenshots\n",
    "\n",
    "- Windows: Search for \"Snipping Tool\"\n",
    "- Mac: CMD + Shift + 3,4, or 5\n",
    "\n",
    "\n",
    "\n"
   ]
  }
 ],
 "metadata": {
  "kernelspec": {
   "display_name": "Python 3 (ipykernel)",
   "language": "python",
   "name": "python3"
  },
  "language_info": {
   "codemirror_mode": {
    "name": "ipython",
    "version": 3
   },
   "file_extension": ".py",
   "mimetype": "text/x-python",
   "name": "python",
   "nbconvert_exporter": "python",
   "pygments_lexer": "ipython3",
   "version": "3.9.7"
  }
 },
 "nbformat": 4,
 "nbformat_minor": 5
}
