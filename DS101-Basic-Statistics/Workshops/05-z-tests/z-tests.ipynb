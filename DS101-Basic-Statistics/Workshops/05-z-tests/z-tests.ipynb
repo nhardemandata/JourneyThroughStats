{
 "cells": [
  {
   "cell_type": "markdown",
   "id": "5948a44d-419f-42a4-9e1b-a400481eab35",
   "metadata": {},
   "source": [
    "# z-scores and z-tests"
   ]
  },
  {
   "cell_type": "code",
   "execution_count": 1,
   "id": "aaffc16d-b5f8-4d40-972a-6bb8c754be53",
   "metadata": {},
   "outputs": [
    {
     "data": {
      "text/html": [
       "\n",
       "        <iframe\n",
       "            width=\"720\"\n",
       "            height=\"480\"\n",
       "            src=\"https://player.vimeo.com/video/657634577\"\n",
       "            frameborder=\"0\"\n",
       "            allowfullscreen\n",
       "            \n",
       "        ></iframe>\n",
       "        "
      ],
      "text/plain": [
       "<IPython.lib.display.VimeoVideo at 0x10bfc89a0>"
      ]
     },
     "execution_count": 1,
     "metadata": {},
     "output_type": "execute_result"
    }
   ],
   "source": [
    "from IPython.display import VimeoVideo\n",
    "# Tutorial Video Name: Introduction to Data Science\n",
    "VimeoVideo('657634577', width=720, height=480)"
   ]
  },
  {
   "cell_type": "markdown",
   "id": "a8220507-2924-4bdc-bcf2-180afeb73e02",
   "metadata": {},
   "source": [
    "https://vimeo.com/657634577"
   ]
  },
  {
   "cell_type": "markdown",
   "id": "61af664d-a60c-4d1e-94aa-9771dcf6fb4a",
   "metadata": {},
   "source": [
    "What is a z-score?\n",
    "\n",
    "a __z-score__, also called a standard score, provides an idea of how far from the mean a data point is.\n",
    "\n",
    "It is a measure of how many standard deviations below or above the population mean a raw score is.\n",
    "\n",
    "## z-score\n",
    "\n",
    "The __z-score__, basically tells us one data fits within the distribution. Below is the equation for z-score:\n",
    "\n",
    "\n",
    "- z = z-score\n",
    "- x = the raw data\n",
    "- $\\mu$ = mean\n",
    "- $\\sigma$ = standard deviation\n",
    "\n",
    "\n",
    "\n",
    "$\\Large z = \\frac{x - \\mu} {\\sigma}$"
   ]
  },
  {
   "cell_type": "markdown",
   "id": "abfabc5e-5970-4df1-a62c-a7bbd23bcf9a",
   "metadata": {},
   "source": [
    "## Using “68-95-99 Rule”\n",
    "For a normally distributed variable with a mean of 12 and a standard deviation of 1, how much of the distribution is between 13 and 14 according to the rule? ans: .13"
   ]
  },
  {
   "cell_type": "markdown",
   "id": "c6e480c7-00fb-49d5-b4a2-eb617123488d",
   "metadata": {},
   "source": [
    "<p style=\"text-align: center\">\n",
    "  <img  src=\"Media/example_1.png\" width=\"400\" alt=\"zscore\">\n",
    "</p>"
   ]
  },
  {
   "cell_type": "markdown",
   "id": "5029d22a-d92c-405f-810f-8ab22066944a",
   "metadata": {},
   "source": [
    "You always need three pieces of information:\n",
    "\n",
    "- z = z-score\n",
    "- x = 17\n",
    "- $\\mu$ = 19\n",
    "- $\\sigma$ = 3\n",
    "\n",
    "\n",
    "\n",
    "$\\Large z = \\frac{17 - 19} {3}$"
   ]
  },
  {
   "cell_type": "code",
   "execution_count": 5,
   "id": "b1e2041a-526d-43c9-893c-829f71d0af54",
   "metadata": {},
   "outputs": [
    {
     "name": "stdout",
     "output_type": "stream",
     "text": [
      "-0.6666666666666666\n"
     ]
    }
   ],
   "source": [
    "z = (17 - 19) / 3\n",
    "print(z)"
   ]
  },
  {
   "cell_type": "markdown",
   "id": "ff50b6aa-56c0-4a94-bfb8-1ef4c7f326be",
   "metadata": {},
   "source": [
    "## Find sigma using the z-score formula\n",
    "\n",
    "$\\Large z = \\frac{x - \\mu} {\\sigma}$"
   ]
  },
  {
   "cell_type": "markdown",
   "id": "1bd0eb9f-dfeb-43f4-a8b4-5c541909fe7b",
   "metadata": {},
   "source": [
    "- x = 22\n",
    "- mu = 11\n",
    "- z = 2.3\n",
    "- 2.3 = (22 – 11) / sigma (multiply both sides by sigma/1, right side sigma is gone)\n",
    "- 2.3 sigma = 22 – 11 (divide out 2.3 from both sides to get below)\n",
    "- Sigma = (22-11) / 2.3 (now you have)\n",
    "- Sigma = 4.78"
   ]
  },
  {
   "cell_type": "code",
   "execution_count": 8,
   "id": "7eda9e5f-4ae2-47e3-bac2-6ee90174b323",
   "metadata": {},
   "outputs": [
    {
     "name": "stdout",
     "output_type": "stream",
     "text": [
      "4.782608695652175\n"
     ]
    }
   ],
   "source": [
    "sigma = (22-11) / 2.3\n",
    "print(sigma)"
   ]
  },
  {
   "cell_type": "code",
   "execution_count": null,
   "id": "8109d464-2b84-4fce-bfa1-c4450cf97dac",
   "metadata": {},
   "outputs": [],
   "source": []
  }
 ],
 "metadata": {
  "kernelspec": {
   "display_name": "Python 3 (ipykernel)",
   "language": "python",
   "name": "python3"
  },
  "language_info": {
   "codemirror_mode": {
    "name": "ipython",
    "version": 3
   },
   "file_extension": ".py",
   "mimetype": "text/x-python",
   "name": "python",
   "nbconvert_exporter": "python",
   "pygments_lexer": "ipython3",
   "version": "3.9.9"
  }
 },
 "nbformat": 4,
 "nbformat_minor": 5
}
