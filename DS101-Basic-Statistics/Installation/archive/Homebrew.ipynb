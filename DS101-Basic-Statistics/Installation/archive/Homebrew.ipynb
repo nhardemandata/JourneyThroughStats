{
 "cells": [
  {
   "cell_type": "markdown",
   "id": "238ed15d-b2ee-4998-82ce-59eb533d0d5a",
   "metadata": {},
   "source": [
    "[Home](https://brew.sh)\n",
    "[Docs](https://docs.brew.sh)\n",
    "[Donations](https://github.com/homebrew/brew#donations)\n",
    "[Discussions](https://github.com/Homebrew/discussions/discussions)\n",
    "[Blog](https://brew.sh/blog/)\n",
    "[Packages](https://formulae.brew.sh)\n",
    "[Analytics](https://formulae.brew.sh/analytics/)\n",
    "***\n",
    "\n",
    "# Homebrew\n",
    "\n",
    "<img src=\"https://brew.sh/assets/img/homebrew-256x256.png\" align=\"left\" alt=\"homebrew image\" width = \"100\">\n",
    "\n",
    "The Missing Package Manager for macOS (or Linux)"
   ]
  },
  {
   "cell_type": "code",
   "execution_count": 1,
   "id": "c39507bf-cafb-42dc-84a3-4eeb650c4f66",
   "metadata": {},
   "outputs": [
    {
     "data": {
      "text/html": [
       "\n",
       "        <iframe\n",
       "            width=\"720\"\n",
       "            height=\"480\"\n",
       "            src=\"https://player.vimeo.com/video/625214363\"\n",
       "            frameborder=\"0\"\n",
       "            allowfullscreen\n",
       "            \n",
       "        ></iframe>\n",
       "        "
      ],
      "text/plain": [
       "<IPython.lib.display.VimeoVideo at 0x1109fb520>"
      ]
     },
     "execution_count": 1,
     "metadata": {},
     "output_type": "execute_result"
    }
   ],
   "source": [
    "from IPython.display import VimeoVideo\n",
    "# Tutorial Video Name: i86 Mac Homebrew Installation video\n",
    "VimeoVideo('625214363', width=720, height=480)"
   ]
  },
  {
   "cell_type": "markdown",
   "id": "97feb81a-5d51-444b-9533-d39969feba23",
   "metadata": {},
   "source": [
    "## Watch this Video if you have an older i86 Mac: https://vimeo.com/625214363"
   ]
  },
  {
   "cell_type": "code",
   "execution_count": 2,
   "id": "e022c55f-6f7c-4054-8f80-b93dc7082918",
   "metadata": {},
   "outputs": [
    {
     "data": {
      "text/html": [
       "\n",
       "        <iframe\n",
       "            width=\"720\"\n",
       "            height=\"480\"\n",
       "            src=\"https://player.vimeo.com/video/652120936\"\n",
       "            frameborder=\"0\"\n",
       "            allowfullscreen\n",
       "            \n",
       "        ></iframe>\n",
       "        "
      ],
      "text/plain": [
       "<IPython.lib.display.VimeoVideo at 0x1109fb400>"
      ]
     },
     "execution_count": 2,
     "metadata": {},
     "output_type": "execute_result"
    }
   ],
   "source": [
    "from IPython.display import VimeoVideo\n",
    "# Tutorial Video Name: M1 Mac Homebrew installation video\n",
    "VimeoVideo('652120936', width=720, height=480)"
   ]
  },
  {
   "cell_type": "markdown",
   "id": "bc912e0f-e285-4f60-980d-b1798b4b5ab6",
   "metadata": {},
   "source": [
    "## Watch this video if you have a M1 Mac https://vimeo.com/652120936"
   ]
  },
  {
   "cell_type": "markdown",
   "id": "ce005c77-f8bc-47e5-869c-2ac7f6d7c724",
   "metadata": {
    "jp-MarkdownHeadingCollapsed": true,
    "tags": []
   },
   "source": [
    "## Things to check:\n",
    " - Ensure you have a solid, high-bandwidth and unlimited connection to the internet\n",
    " - Don't install during a storm\n",
    " - Important that if Anaconda3 or Python3 is installed that you uninstall it\n",
    "\n",
    "## CAUTION\n",
    "FIRST Click the apple icon in the upper left hand corner and check to see what MacOs you are running, you require either Big Sur or Monterey. If not many of these applications won't install. Go into your App Store and search for MacOs, download Monterey and start the installation process.  Check to [upgrade your MacOS](https://support.apple.com/macos/upgrade)\n",
    "\n",
    "# Click the apple icon up in upper left hand corner of your desktop and then click \"about this mac\"\n",
    "\n",
    "## Choose your version of script to download:\n",
    "\n",
    "### If M1, Download and install the below M1-Homebrew-install.sh script\n",
    "\n",
    "1. open a terminal, cd Desktop, copy and past the below command and run\n",
    "\n",
    "```bash\n",
    "curl -O https://raw.githubusercontent.com/woz-u/DS-Student-Resources/main/DS101-Basic-Statistics/Installation/M1-Homebrew-install.sh\n",
    "\n",
    "chmod 755 M1-Homebrew-install.sh\n",
    "\n",
    "./M1-Homebrew-install.sh\n",
    "```\n",
    "\n",
    "\n",
    "## If you have older i86 model Mac Download and install the below i86-Homebrew-install.sh script\n",
    "\n",
    "1. open a terminal, cd Desktop, copy and past the below command and run\n",
    "\n",
    "```bash\n",
    "curl -O https://raw.githubusercontent.com/woz-u/DS-Student-Resources/main/DS101-Basic-Statistics/Installation/i86-Homebrew-install.sh\n",
    "\n",
    "chmod 755 i86-Homebrew-install.sh\n",
    "\n",
    "./i86-Homebrew-install.sh\n",
    "```\n",
    "\n",
    "## As those Homebrew applications are installing\n",
    "\n",
    "#### 1. Go to [Github.com](https://github.com) (right-click and open as a new tab)\n",
    "#### 2. sign up for a github account\n",
    "#### 3. Open Github Desktop that is newly installed on your computer\n",
    "#### 4. clone the companion notebook series [DS-Student-Resources](https://github.com/woz-u/DS-Student-Resources) (right click to open as a new tab) and install locally on your computer\n",
    "\n",
    "*******************************************************************\n",
    "\"Congratulations! Main Data Science applications have been installed\n",
    "*******************************************************************\n",
    "\n",
    "### Close and open a new terminal to ensure everything needed is on your path\n",
    "\n",
    "# Once the Homebrew script completes please run the next commands\n",
    "\n",
    "### install R kernelspec for jupyter lab next by following these instructions:\n",
    "\n",
    "It's important that these next commands are done from within the version of R that you want to link to Jupyter Lab.\n",
    "\n",
    "cd /Library/Frameworks/R.framework/Versions/Current\n",
    "\n",
    "Check to ensure you are in R directory pwd , Open R and install the necessary packages by running the command below:\n",
    "\n",
    "1. Type R in your terminal\n",
    "\n",
    "```bash\n",
    "R\n",
    "```\n",
    "\n",
    "2. Configure IRkernel from within R by running the command below:\n",
    "\n",
    "```R\n",
    "install.packages(c('repr', 'IRdisplay', 'evaluate', 'crayon', 'pbdZMQ', 'devtools', 'uuid', 'digest'))\n",
    "```\n",
    "\n",
    "3. install devtools and the IRKernel by running the command below:\n",
    "\n",
    "```R\n",
    "devtools::install_github('IRkernel/IRkernel')\n",
    "```\n",
    "4. install spec to make available to Jupyter Lab by running the command below:\n",
    "\n",
    "```R\n",
    "IRkernel::installspec(user = TRUE)\n",
    "```\n",
    "\n",
    "Note: that if Rtools didn't install, go ahead and run:\n",
    "\n",
    "```R\n",
    "install.packages(\"devtools\", force=TRUE)\n",
    "```\n",
    "\n",
    "Exit out of your R terminal by typing ```q()``` then ```y```\n",
    "\n",
    "Next install Julia kernel into Jupyter (only for i86 version)\n",
    "\n",
    "## Open the Julia Command-Line by typing the following line (Note M1 Mac version doesn't currently support Julia)\n",
    "\n",
    "```bash\n",
    "julia  <ENTER>\n",
    "```\n",
    "\n",
    "Run the following commands in the Julia Terminal\n",
    "\n",
    "```julia\n",
    "using Pkg  <ENTER>\n",
    "\n",
    "Pkg.add(\"IJulia\") <ENTER>\n",
    "```\n",
    "\n",
    "Wait a minute or so for the installation to complete\n",
    "    \n",
    "Exit out of Julia terminal by typing CTRL-D\n",
    "\n",
    "Change directories to your Github directory in a terminal    \n",
    "\n",
    "```bash\n",
    "pip install ds-students\n",
    "```\n",
    "    \n",
    "Test jupyter lab \n",
    "\n",
    "```bash\n",
    "jupyter lab\n",
    "```\n",
    "\n",
    "ensure you see notebook choices for Python3, Julia(i86 only) and R\n"
   ]
  },
  {
   "cell_type": "markdown",
   "id": "5744498a-d23e-47a8-8cef-9a941399aae5",
   "metadata": {},
   "source": [
    "# Enable quizzes inside your companion notebooks\n",
    "\n",
    "1. pip install ds-students\n",
    "2. pip install nodejs\n",
    "3. enable extensions in Jupyter Lab\n",
    "4. install @jupyter-widgets/jupyterlab-manager\n",
    "5. restart kernel and run all cells\n",
    "\n",
    "\n",
    "# Test drive the companion notebook series\n",
    "\n",
    "1. double click on each course folder\n",
    "2. double click the DSO10... notebooks and explore each lesson\n",
    "3. notice the examples folders\n",
    "4. shift + enter to run each code cell\n",
    "\n",
    "\n",
    "# Starting and stopping mysql and mongodb-community from terminal\n",
    "\n",
    "```bash\n",
    "brew services start mongodb-community\n",
    "brew services stop mongodb-community\n",
    "```\n",
    "\n",
    "## note that mysql starts and stops with mysql workbench also\n",
    "\n",
    "```bash\n",
    "brew services start mysql\n",
    "brew services stop mysql\n",
    "```\n",
    "\n",
    "# Give your computer a good reboot!\n",
    "\n",
    "# Congratulations to the Data Science World!!!\n"
   ]
  },
  {
   "cell_type": "code",
   "execution_count": null,
   "id": "c92c7193-cc93-4388-b29c-db508934f92b",
   "metadata": {},
   "outputs": [],
   "source": []
  }
 ],
 "metadata": {
  "kernelspec": {
   "display_name": "Python 3 (ipykernel)",
   "language": "python",
   "name": "python3"
  },
  "language_info": {
   "codemirror_mode": {
    "name": "ipython",
    "version": 3
   },
   "file_extension": ".py",
   "mimetype": "text/x-python",
   "name": "python",
   "nbconvert_exporter": "python",
   "pygments_lexer": "ipython3",
   "version": "3.9.9"
  }
 },
 "nbformat": 4,
 "nbformat_minor": 5
}
