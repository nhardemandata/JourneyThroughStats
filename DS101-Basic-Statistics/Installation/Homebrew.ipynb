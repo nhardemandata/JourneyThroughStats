{
 "cells": [
  {
   "cell_type": "markdown",
   "id": "247ec4c9-6658-49c6-b666-ec926dfb3faa",
   "metadata": {},
   "source": [
    "# Welcome to our Data Science Program!!\n",
    "+ Our program requires downloading a number of programs that you will use to complete coursework. \n",
    "##### **!Please read each line of the instructions below!**<br>\n",
    "<img src=\"https://brew.sh/assets/img/homebrew-256x256.png\" align=\"left\" alt=\"homebrew image\" width = \"100\">\n",
    "\n",
    "## Homebrew\n",
    "##### The Missing Package Manager for macOS (or Linux)\n",
    "<br>\n",
    "\n",
    "+ If you have a MacOS, you will use Homebrew to download and install all of these programs at once!\n",
    "    + Homebrew is a software package management system. We will utilize it to download, install, and update/maintain all of the software necessary for this course!\n",
    "    + These instuctions cover downloading Homebrew, and then having Homebrew download all of the necessary programs\n",
    "    + The instructions finish by setting up your GitHub, linking your programs together, and walking you through our Companion Notebooks\n",
    "    + There are links to videos that can help you walk through this process! The links will open up in Vimeo. You can follow along with the video and pause/start the video as needed during this process!\n",
    "    + You will use your Terminal to complete the majority of the installation process! If you have never used your Terminal before, **don't worry**! Just follow along with the videos and instructions. In the words of our Instructor, Joseph Raetano - **Go slow, to go fast.** Read each line carefully, take it step-by-step, and reach out to your mentor or the group discussion on Slack if you need additional help!\n",
    "    "
   ]
  },
  {
   "cell_type": "markdown",
   "id": "999c9325-cacb-4294-8786-7704be6235d3",
   "metadata": {},
   "source": [
    "# Step 1:\n",
    "##### Setup\n",
    "+ **Ensure you have about 45 minutes to 1 hour to complete this process.** It will vary depending on your internet connection!\n",
    "+ **Check your internet connection.** Ensure you have a solid, high-bandwidth, and unlimited connection to the internet.\n",
    "    + Do **NOT** install during a storm!\n",
    "+ In the unlikely event that you have previously installed Anaconda or Python3, **please uninstall it**!\n",
    "+ **Check your OSX version.** \n",
    "    + Click on the Apple icon in the upper left hand corner of your screen and click 'About This Mac' to check to see what MacOs you are running.\n",
    "        + You should be using Big Sur 11.x or Monterey 12.x\n",
    "        + If you currently have an older OSX, you should first upgrade to the most recent version that your computer can run. Otherwise, many of these applications won't install. \n",
    "            + To upgrade your OSX, from your 'About This Mac' screen, click 'Software Update' in the lower right, and then click 'Update Now'.\n",
    "+ **Check your processor type**\n",
    "    + The instructions are different for Step 2 depending on the type of processing chip in your Mac.\n",
    "    + On the 'About This Mac' Screen next to Chip or Processor.\n",
    "+ **!!Follow along with the installation videos!!**\n",
    "    + If you have the newest M1 processor, watch this video and you will follow instructions listed for M1.<br>\n",
    "        + **https://player.vimeo.com/video/652120936**\n",
    "    + If you have **_ANY OTHER_** processor (i.e.- Intel i5, i7, or i9), you will watch this video and follow instructions for i86 chips.\n",
    "        + **https://player.vimeo.com/video/625214363**"
   ]
  },
  {
   "cell_type": "markdown",
   "id": "5c56d23a-90b4-456e-98ce-17d86820fbdc",
   "metadata": {},
   "source": [
    "# Step 2:\n",
    "##### Open Terminal and download Homebrew and Programs\n",
    "+ You can open your Terminal a few different ways, but we will commonly access it by searching for it with Spotlight Search.\n",
    "    + Open Spotlight Search by pressing <kbd>&#8984;</kbd> and <kbd>Space</kbd> at the same time.\n",
    "    + In the Search bar that pops up on your screen, start typing ```Terminal```.\n",
    "    + The Terminal Application should be the first result that pops up. It automatically highlights the first result, so just press <kbd>Enter</kbd> to open the Terminal.\n",
    "+ The Terminal will open as a small, black box and will show the name of your computer ending in a <kbd>%</kbd>\n",
    "    + Type ```cd Desktop``` and then press <kbd>Enter</kbd>\n",
    "    + This changes your directory to locate yourself into your Desktop directory\n",
    "+ Copy (<kbd>&#8984;</kbd> + <kbd>C</kbd>) and paste (<kbd>&#8984;</kbd> + <kbd>V</kbd>) the following command and then press <kbd>Enter</kbd><br><br>\n",
    "**For M1 chips:** ```curl -O https://raw.githubusercontent.com/woz-u/DS-Student-Resources/main/DS101-Basic-Statistics/Installation/M1-Homebrew-install.sh```<br><br>\n",
    "**For i86 chips:** ```curl -O https://raw.githubusercontent.com/woz-u/DS-Student-Resources/main/DS101-Basic-Statistics/Installation/i86-Homebrew-install.sh```<br><br>\n",
    "+ Next, copy and paste the following command and then press <kbd>Enter</kbd><br><br>\n",
    "**For M1 chips:**```chmod 755 M1-Homebrew-install.sh```<br><br>\n",
    "**For i86 chips:**```chmod 755 i86-Homebrew-install.sh```<br><br>\n",
    "+ Finally, copy and paste the following command and then press <kbd>Enter</kbd><br><br>\n",
    "    + **This last command will take a while to run as it is downloading all of the programs needed!**<br><br>\n",
    "**For M1 chips:**```./M1-Homebrew-install.sh```<br><br>\n",
    "**For i86 chips:**```./i86-Homebrew-install.sh```<br><br>\n",
    "+ **Anytime you see it request a password, type the password you use to log into your computer user profile.**\n",
    "    + When you are typing in a password, it may not look like it is taking the password, but it is! Just type your password and press <kbd>Enter</kbd>.\n",
    "    + You may need to press <kbd>Y</kbd> for Yes, <kbd>A</kbd> for All, or <kbd>Enter</kbd> as needed while it it goes through downloading each program.\n",
    "+ At the end, you should see CONGRATULATIONS!\n",
    "+ You will also know that it is complete when the last line shows the name of your computer, followed by the <kbd>%</kbd> sign. \n",
    "    + This is also what you saw when you first opened Terminal.\n",
    "+ You may now close your Terminal application\n",
    "+ You can also check your Applications Folder to ensure that the programs downloaded successfully! You should see (in alphabetical order): G*Power, GitHub Desktop, MySQLWorkbench, R, RStudio, Tableau Public, and Visual Studio Code."
   ]
  },
  {
   "cell_type": "markdown",
   "id": "cde8be70-817d-4795-a7d5-e6e8a47c23c4",
   "metadata": {},
   "source": [
    "# Step 3:\n",
    "##### Setup and Link a GitHub account\n",
    "+ **You can start this process while you are waiting for Step 2 to complete!** But you will not be able to link your account to GitHub Desktop until it is finished installing.\n",
    "+ Go to [Github.com](https://github.com) (right-click and open as a new tab)\n",
    "+ Sign up for a GitHub Account\n",
    "    + Follow their sign-up process, choosing the free account version when prompted.\n",
    "+ Once GitHub Desktop has been installed on your computer, open GitHub Desktop\n",
    "+ Sign into GitHub Desktop Application\n",
    "+ Click <span style=\"background-color:#2E84E6; color:white\">Initialize Git LFS</span>\n",
    "+ Choose second option - Clone Repository\n",
    "+ Choose third tab over - URL\n",
    "+ Copy and paste the below url to close DS-Student-Resources<br><br>\n",
    "    ```https://github.com/woz-u/DS-Student-Resources```<br><br>\n",
    "+ At the top right of GitHub desktop, click the option to ```Git Fetch``` repository"
   ]
  },
  {
   "cell_type": "markdown",
   "id": "83112875-e4ba-4e64-a496-4bd2b10214b1",
   "metadata": {},
   "source": [
    "# Step 4:\n",
    "##### Connect your R and Jupyter Lab\n",
    "+ Open a new Terminal window (see instructions in Step 2 if needed!)\n",
    "+ Change directories so that you are withing the current version of R\n",
    "    + Copy (<kbd>&#8984;</kbd> + <kbd>C</kbd>) and paste (<kbd>&#8984;</kbd> + <kbd>V</kbd>) the following command and then press <kbd>Enter</kbd><br><br>\n",
    "    ```cd /Library/Frameworks/R.framework/Versions/Current```<br><br>\n",
    "+ Open R in your terminal\n",
    "    + Copy and paste the following command and then press <kbd>Enter</kbd><br><br>\n",
    "    ```R```<br><br>\n",
    "+ Configure IRkernel from within R\n",
    "    + Copy and paste the following command and then press <kbd>Enter</kbd><br><br>\n",
    "    ```install.packages(c('repr', 'IRdisplay', 'evaluate', 'crayon', 'pbdZMQ', 'devtools', 'uuid', 'digest'))```<br><br>\n",
    "+ It will ask you to select a CRAN mirror. Type in the number next to the location closest to your physical location and press <kbd> Enter </kbd><br><br>\n",
    "+ **Only if Rtools didn't install, otherwise skip this step**\n",
    "    + Copy and paste the following command and then press <kbd>Enter</kbd><br><br>\n",
    "    ```install.packages(\"devtools\", force=TRUE)```<br><br>\n",
    "+ Install devtools from the IRKernal\n",
    "    + Copy and paste the following command and then press <kbd>Enter</kbd><br><br>\n",
    "    ```devtools::install_github('IRkernel/IRkernel')```<br><br>\n",
    "+ Install spec to make available to Jupyter Lab\n",
    "    + Copy and paste the following command and then press <kbd>Enter</kbd><br><br>\n",
    "    ```IRkernel::installspec(user = TRUE)```<br><br>\n",
    "+ Exit out of R terminal\n",
    "    + Type ```q()``` and then press <kbd>Enter</kbd>\n",
    "    + Type ```y``` and then press <kbd>Enter</kbd>\n",
    "+ Close Terminal window"
   ]
  },
  {
   "cell_type": "markdown",
   "id": "4031cf55-fa7d-4221-b637-45ba4dfcdd3e",
   "metadata": {},
   "source": [
    "# Step 5 for i86 chips ONLY:\n",
    "##### (if you have an M1, you may skip this step because Julia is not supported on M1 chips at this time.)\n",
    "##### Set up Julia\n",
    "+ Open a new Terminal window (see instructions in Step 2 if needed!)\n",
    "+ Open Julia\n",
    "    + Copy (<kbd>&#8984;</kbd> + <kbd>C</kbd>) and paste (<kbd>&#8984;</kbd> + <kbd>V</kbd>) the following command and then press <kbd>Enter</kbd><br><br>\n",
    "    ```julia```<br><br>\n",
    "+ Run the following command (it will look like nothing happens!)\n",
    "    + Copy and paste the following command and then press <kbd>Enter</kbd><br><br>\n",
    "    ```using Pkg```<br><br>\n",
    "+ Run the following command (this one will take a minute!)\n",
    "    + Copy and paste the following command and then press <kbd>Enter</kbd><br><br>\n",
    "    ```Pkg.add(\"IJulia\")```<br><br>\n",
    "+ Exit out of Julia\n",
    "    + Press (<kbd>Ctrl</kbd> + <kbd>D</kbd>)\n",
    "+ Close the terminal"
   ]
  },
  {
   "cell_type": "markdown",
   "id": "8d50cf0c-0d08-45dc-b875-f312634db0fc",
   "metadata": {},
   "source": [
    "# Step 6:\n",
    "##### Setup ds-students package and Quizzes in the Companion Notebooks\n",
    "+ Open a new Terminal window (see instructions in Step 2 if needed!)\n",
    "+ Change to your GitHub directory\n",
    "    + Copy (<kbd>&#8984;</kbd> + <kbd>C</kbd>) and paste (<kbd>&#8984;</kbd> + <kbd>V</kbd>) the following command and then press <kbd>Enter</kbd><br><br>\n",
    "    ```cd Documents/GitHub```<br><br>\n",
    "+ Install ds-students package\n",
    "    + Copy and paste the following command and then press <kbd>Enter</kbd><br><br>\n",
    "    ```pip install ds-students```<br><br>\n",
    "+ Install nodejs\n",
    "    + Copy and paste the following command and then press <kbd>Enter</kbd><br><br>\n",
    "    ```pip install nodejs```<br><br>\n",
    "+ Setup quizzes in the Companion Notebooks\n",
    "    + Copy and paste the following command and then press <kbd>Enter</kbd><br><br>\n",
    "    ```jupyter lab```<br><br>\n",
    "+ Jupyter Lab will open in a browser window.\n",
    "    + Ensure you see notebook choices for Python3, Julia(i86 chips only), and R\n",
    "    + On the very left-hand side of the screen, click on the puzzle piece\n",
    "        + Enable extensions in Jupyter lab\n",
    "        + Install ```@jupyter-widgets/jupyterlab-manager```\n",
    "+ Close out of the jupyter lab browser window\n",
    "+ Shut down the terminal\n",
    "     + Press (<kbd>Ctrl</kbd> + <kbd>C</kbd>)\n",
    "     + Press <kbd>y</kbd> and then <kbd>Enter</kbd>\n",
    "+ Close the terminal window"
   ]
  },
  {
   "cell_type": "markdown",
   "id": "f80a058e-58a8-4c85-a967-3721e0c55ef0",
   "metadata": {},
   "source": [
    "# Step 7:\n",
    "##### Test drive the Companion Notebook series\n",
    "+ Open a new Terminal window\n",
    "+ Type ```jupyter lab``` and press <kbd>Enter</kbd>\n",
    "+ Jupyter Lab will open up in a browser window\n",
    "+ You will see the folders to navigate on the left.\n",
    "+ The folders inside of DS-Student-Resources are labeled by module.\n",
    "+ Double-click on each module folder to open it up\n",
    "+ You will see a companion notebook (orange icon jupyter notebook file) for each lesson of each module.\n",
    "    + Inside of each of these companion notebooks you will find all of the videos, text content, and quizzes for each lesson.\n",
    "    + Click inside each code cell and press <kbd>Shift</kbd> + <kbd>Enter</kbd> to run the code in the cell.\n",
    "    + This will pull up videos and quizzes related to the lesson.\n",
    "+ Explore the Examples folder inside of each module folder\n",
    "    + You will find extra resources, examples, and hands-on helpers for each module."
   ]
  },
  {
   "cell_type": "markdown",
   "id": "e6b3e569-4f4e-413b-a174-6762acfcb1ba",
   "metadata": {},
   "source": [
    "# Step 8:\n",
    "##### Give your computer a good reboot!\n",
    "##### Congratulations and welcome to the Data Science World!!!"
   ]
  },
  {
   "cell_type": "markdown",
   "id": "7809043c-26dd-4c24-b2aa-4c8723c6cff8",
   "metadata": {},
   "source": [
    "# Misc/Notes\n",
    "##### You can start and stop mongodb-community and mysql workbench, as they will automatically start on bootup.\n",
    "+ To start or stop mongodb-community from the terminal<br><br>\n",
    "    ```brew services start mongodb-community```<br><br>\n",
    "    or<br><br>\n",
    "    ```brew services stop mongodb-community```<br><br>\n",
    "+ To start or stop mysql from the terminal<br><br>\n",
    "    ```brew services start mysql```<br><br>\n",
    "    or<br><br>\n",
    "    ```brew services stop mysql```<br><br>"
   ]
  },
  {
   "cell_type": "markdown",
   "id": "5b3221df-adc7-4084-9960-2208200563d8",
   "metadata": {},
   "source": [
    "# "
   ]
  }
 ],
 "metadata": {
  "kernelspec": {
   "display_name": "Python 3 (ipykernel)",
   "language": "python",
   "name": "python3"
  },
  "language_info": {
   "codemirror_mode": {
    "name": "ipython",
    "version": 3
   },
   "file_extension": ".py",
   "mimetype": "text/x-python",
   "name": "python",
   "nbconvert_exporter": "python",
   "pygments_lexer": "ipython3",
   "version": "3.9.9"
  }
 },
 "nbformat": 4,
 "nbformat_minor": 5
}
