{
 "cells": [
  {
   "cell_type": "markdown",
   "id": "828fd043-94d0-4828-973a-bfb97a35c765",
   "metadata": {},
   "source": [
    "# Magics\n",
    "https://www.aboutdatablog.com/post/top-8-magic-commands-in-jupyter-notebook"
   ]
  },
  {
   "cell_type": "code",
   "execution_count": 1,
   "id": "a4edad15-2575-44ab-a7f2-46ddde008016",
   "metadata": {},
   "outputs": [
    {
     "data": {
      "application/json": {
       "cell": {
        "!": "OSMagics",
        "HTML": "Other",
        "SVG": "Other",
        "bash": "Other",
        "capture": "ExecutionMagics",
        "debug": "ExecutionMagics",
        "file": "Other",
        "html": "DisplayMagics",
        "javascript": "DisplayMagics",
        "js": "DisplayMagics",
        "latex": "DisplayMagics",
        "markdown": "DisplayMagics",
        "perl": "Other",
        "prun": "ExecutionMagics",
        "pypy": "Other",
        "python": "Other",
        "python2": "Other",
        "python3": "Other",
        "ruby": "Other",
        "script": "ScriptMagics",
        "sh": "Other",
        "svg": "DisplayMagics",
        "sx": "OSMagics",
        "system": "OSMagics",
        "time": "ExecutionMagics",
        "timeit": "ExecutionMagics",
        "writefile": "OSMagics"
       },
       "line": {
        "alias": "OSMagics",
        "alias_magic": "BasicMagics",
        "autoawait": "AsyncMagics",
        "autocall": "AutoMagics",
        "automagic": "AutoMagics",
        "autosave": "KernelMagics",
        "bookmark": "OSMagics",
        "cat": "Other",
        "cd": "OSMagics",
        "clear": "KernelMagics",
        "colors": "BasicMagics",
        "conda": "PackagingMagics",
        "config": "ConfigMagics",
        "connect_info": "KernelMagics",
        "cp": "Other",
        "debug": "ExecutionMagics",
        "dhist": "OSMagics",
        "dirs": "OSMagics",
        "doctest_mode": "BasicMagics",
        "ed": "Other",
        "edit": "KernelMagics",
        "env": "OSMagics",
        "gui": "BasicMagics",
        "hist": "Other",
        "history": "HistoryMagics",
        "killbgscripts": "ScriptMagics",
        "ldir": "Other",
        "less": "KernelMagics",
        "lf": "Other",
        "lk": "Other",
        "ll": "Other",
        "load": "CodeMagics",
        "load_ext": "ExtensionMagics",
        "loadpy": "CodeMagics",
        "logoff": "LoggingMagics",
        "logon": "LoggingMagics",
        "logstart": "LoggingMagics",
        "logstate": "LoggingMagics",
        "logstop": "LoggingMagics",
        "ls": "Other",
        "lsmagic": "BasicMagics",
        "lx": "Other",
        "macro": "ExecutionMagics",
        "magic": "BasicMagics",
        "man": "KernelMagics",
        "matplotlib": "PylabMagics",
        "mkdir": "Other",
        "more": "KernelMagics",
        "mv": "Other",
        "notebook": "BasicMagics",
        "page": "BasicMagics",
        "pastebin": "CodeMagics",
        "pdb": "ExecutionMagics",
        "pdef": "NamespaceMagics",
        "pdoc": "NamespaceMagics",
        "pfile": "NamespaceMagics",
        "pinfo": "NamespaceMagics",
        "pinfo2": "NamespaceMagics",
        "pip": "PackagingMagics",
        "popd": "OSMagics",
        "pprint": "BasicMagics",
        "precision": "BasicMagics",
        "prun": "ExecutionMagics",
        "psearch": "NamespaceMagics",
        "psource": "NamespaceMagics",
        "pushd": "OSMagics",
        "pwd": "OSMagics",
        "pycat": "OSMagics",
        "pylab": "PylabMagics",
        "qtconsole": "KernelMagics",
        "quickref": "BasicMagics",
        "recall": "HistoryMagics",
        "rehashx": "OSMagics",
        "reload_ext": "ExtensionMagics",
        "rep": "Other",
        "rerun": "HistoryMagics",
        "reset": "NamespaceMagics",
        "reset_selective": "NamespaceMagics",
        "rm": "Other",
        "rmdir": "Other",
        "run": "ExecutionMagics",
        "save": "CodeMagics",
        "sc": "OSMagics",
        "set_env": "OSMagics",
        "store": "StoreMagics",
        "sx": "OSMagics",
        "system": "OSMagics",
        "tb": "ExecutionMagics",
        "time": "ExecutionMagics",
        "timeit": "ExecutionMagics",
        "unalias": "OSMagics",
        "unload_ext": "ExtensionMagics",
        "who": "NamespaceMagics",
        "who_ls": "NamespaceMagics",
        "whos": "NamespaceMagics",
        "xdel": "NamespaceMagics",
        "xmode": "BasicMagics"
       }
      },
      "text/plain": [
       "Available line magics:\n",
       "%alias  %alias_magic  %autoawait  %autocall  %automagic  %autosave  %bookmark  %cat  %cd  %clear  %colors  %conda  %config  %connect_info  %cp  %debug  %dhist  %dirs  %doctest_mode  %ed  %edit  %env  %gui  %hist  %history  %killbgscripts  %ldir  %less  %lf  %lk  %ll  %load  %load_ext  %loadpy  %logoff  %logon  %logstart  %logstate  %logstop  %ls  %lsmagic  %lx  %macro  %magic  %man  %matplotlib  %mkdir  %more  %mv  %notebook  %page  %pastebin  %pdb  %pdef  %pdoc  %pfile  %pinfo  %pinfo2  %pip  %popd  %pprint  %precision  %prun  %psearch  %psource  %pushd  %pwd  %pycat  %pylab  %qtconsole  %quickref  %recall  %rehashx  %reload_ext  %rep  %rerun  %reset  %reset_selective  %rm  %rmdir  %run  %save  %sc  %set_env  %store  %sx  %system  %tb  %time  %timeit  %unalias  %unload_ext  %who  %who_ls  %whos  %xdel  %xmode\n",
       "\n",
       "Available cell magics:\n",
       "%%!  %%HTML  %%SVG  %%bash  %%capture  %%debug  %%file  %%html  %%javascript  %%js  %%latex  %%markdown  %%perl  %%prun  %%pypy  %%python  %%python2  %%python3  %%ruby  %%script  %%sh  %%svg  %%sx  %%system  %%time  %%timeit  %%writefile\n",
       "\n",
       "Automagic is ON, % prefix IS NOT needed for line magics."
      ]
     },
     "execution_count": 1,
     "metadata": {},
     "output_type": "execute_result"
    }
   ],
   "source": [
    "%lsmagic"
   ]
  },
  {
   "cell_type": "code",
   "execution_count": null,
   "id": "ffc45b08-f7da-4d59-9210-abd2a627a82d",
   "metadata": {},
   "outputs": [],
   "source": []
  },
  {
   "cell_type": "code",
   "execution_count": 6,
   "id": "69cd59c2-b668-459a-a7a5-89ce2e715303",
   "metadata": {},
   "outputs": [
    {
     "name": "stdout",
     "output_type": "stream",
     "text": [
      "CPU times: user 2 µs, sys: 1 µs, total: 3 µs\n",
      "Wall time: 4.77 µs\n",
      "Hello Magics\n"
     ]
    }
   ],
   "source": [
    "#You can time the execution of the code using the time command.\n",
    "\n",
    "%time\n",
    "%run magics.py"
   ]
  },
  {
   "cell_type": "code",
   "execution_count": 7,
   "id": "d229559b-e3f0-4e49-bf1c-b609ce2fa657",
   "metadata": {},
   "outputs": [
    {
     "name": "stdout",
     "output_type": "stream",
     "text": [
      "CPU times: user 1 µs, sys: 1 µs, total: 2 µs\n",
      "Wall time: 4.05 µs\n"
     ]
    }
   ],
   "source": [
    "%time\n",
    "import random\n",
    "for i in range(0, 1000000):\n",
    "    random.random()"
   ]
  },
  {
   "cell_type": "code",
   "execution_count": 8,
   "id": "30324b11-acb7-401f-aa4e-a02ec8b7039b",
   "metadata": {},
   "outputs": [
    {
     "name": "stdout",
     "output_type": "stream",
     "text": [
      "VimeoVideo\t i\t random\t \n"
     ]
    }
   ],
   "source": [
    "#There is a magic command that allows you to list all \n",
    "# variables that are defined within the current notebook. \n",
    "%who"
   ]
  },
  {
   "cell_type": "code",
   "execution_count": 9,
   "id": "f5f0a967-b2e0-4162-936c-49a54f7468ac",
   "metadata": {},
   "outputs": [
    {
     "data": {
      "text/plain": [
       "\u001b[0;31mType:\u001b[0m        int\n",
       "\u001b[0;31mString form:\u001b[0m 1\n",
       "\u001b[0;31mDocstring:\u001b[0m  \n",
       "int([x]) -> integer\n",
       "int(x, base=10) -> integer\n",
       "\n",
       "Convert a number or string to an integer, or return 0 if no arguments\n",
       "are given.  If x is a number, return x.__int__().  For floating point\n",
       "numbers, this truncates towards zero.\n",
       "\n",
       "If x is not a number or if base is given, then x must be a string,\n",
       "bytes, or bytearray instance representing an integer literal in the\n",
       "given base.  The literal can be preceded by '+' or '-' and be surrounded\n",
       "by whitespace.  The base defaults to 10.  Valid bases are 0 and 2-36.\n",
       "Base 0 means to interpret the base from the string as an integer literal.\n",
       ">>> int('0b100', base=0)\n",
       "4\n"
      ]
     },
     "metadata": {},
     "output_type": "display_data"
    }
   ],
   "source": [
    "# Once we know a variable name we can inspect what are the details of the objects that is \n",
    "# stored in the particular variable name. \n",
    "\n",
    "a = 1\n",
    "%pinfo a"
   ]
  },
  {
   "cell_type": "code",
   "execution_count": 10,
   "id": "e9854aa1-8163-48b3-b1e8-f5e88d0c5c9e",
   "metadata": {},
   "outputs": [
    {
     "data": {
      "text/plain": [
       "{'TMPDIR': '/var/folders/wk/6why77bn1kn0l0pkd4vd3zl00000gn/T/',\n",
       " '__CFBundleIdentifier': 'com.apple.Terminal',\n",
       " 'XPC_FLAGS': '0x0',\n",
       " 'TERM': 'xterm-color',\n",
       " 'DISPLAY': '/private/tmp/com.apple.launchd.8vOIcY16Xy/org.xquartz:0',\n",
       " 'SSH_AUTH_SOCK': '/private/tmp/com.apple.launchd.LIdTkj1Lby/Listeners',\n",
       " 'XPC_SERVICE_NAME': '0',\n",
       " 'TERM_PROGRAM': 'Apple_Terminal',\n",
       " 'TERM_PROGRAM_VERSION': '440',\n",
       " 'TERM_SESSION_CLASS_ID': '1D049C3C-1C88-404A-8628-FFC366AA1D02',\n",
       " 'TERM_SESSION_ID': '01E342A5-7921-47A6-A4E3-B46843742F44',\n",
       " 'SHELL': '/bin/zsh',\n",
       " 'HOME': '/Users/jsr',\n",
       " 'LOGNAME': 'jsr',\n",
       " 'USER': 'jsr',\n",
       " 'PATH': '/usr/local/sbin:/usr/local/opt/findutils/libexec/gnubin:/usr/local/opt/gnu-sed/libexec/gnubin:/Users/jsr/Downloads/openshift-install-mac:/Applications/Julia-1.6.app/Contents/Resources/julia/bin:/Users/jsr/Downloads/google-cloud-sdk/bin:/Library/Frameworks/Python.framework/Versions/3.9/bin:/usr/local/bin:/usr/bin:/bin:/usr/sbin:/sbin:/Applications/anaconda3/bin:/Applications/VMware Fusion.app/Contents/Public:/Library/TeX/texbin:/opt/X11/bin:/Library/Apple/usr/bin',\n",
       " 'SHLVL': '1',\n",
       " 'PWD': '/Users/jsr/Documents/GitHub',\n",
       " 'OLDPWD': '/Users/jsr',\n",
       " 'LANG': 'en_US.UTF-8',\n",
       " '_': '/usr/local/bin/jupyter',\n",
       " '__CF_USER_TEXT_ENCODING': '0x1F5:0x0:0x0',\n",
       " 'PYDEVD_USE_FRAME_EVAL': 'NO',\n",
       " 'JPY_PARENT_PID': '38249',\n",
       " 'CLICOLOR': '1',\n",
       " 'PAGER': 'cat',\n",
       " 'GIT_PAGER': 'cat',\n",
       " 'MPLBACKEND': 'module://matplotlib_inline.backend_inline'}"
      ]
     },
     "execution_count": 10,
     "metadata": {},
     "output_type": "execute_result"
    }
   ],
   "source": [
    "# You can get a list of environmental variables using the following command.\n",
    "%env"
   ]
  },
  {
   "cell_type": "code",
   "execution_count": 11,
   "id": "ef26bf36-2810-4fb9-a0a3-417df03b1e55",
   "metadata": {},
   "outputs": [],
   "source": [
    "# Let’s add a new environmental variable called NEW_VAR:\n",
    "# %env NEW_VAR=Users/konki"
   ]
  },
  {
   "cell_type": "code",
   "execution_count": null,
   "id": "0cfff964-328e-42ac-a520-443bf5b549b8",
   "metadata": {},
   "outputs": [],
   "source": [
    "# If you are using an older version of Jupyter notebooks you need to add this line \n",
    "# of code so the graphs created with matplotlib can render within the notebook itself.\n",
    "\n",
    "%matplotlib inline\n"
   ]
  },
  {
   "cell_type": "code",
   "execution_count": 15,
   "id": "7b5c5aed-5c18-4017-a9a2-a2161ad38cda",
   "metadata": {},
   "outputs": [],
   "source": [
    "# %load magics.py\n",
    "print(\"Hello Magics\")"
   ]
  },
  {
   "cell_type": "code",
   "execution_count": null,
   "id": "8a67c936-9abc-4a50-8df1-c51ca0ef4298",
   "metadata": {},
   "outputs": [],
   "source": []
  }
 ],
 "metadata": {
  "kernelspec": {
   "display_name": "Python 3 (ipykernel)",
   "language": "python",
   "name": "python3"
  },
  "language_info": {
   "codemirror_mode": {
    "name": "ipython",
    "version": 3
   },
   "file_extension": ".py",
   "mimetype": "text/x-python",
   "name": "python",
   "nbconvert_exporter": "python",
   "pygments_lexer": "ipython3",
   "version": "3.9.7"
  }
 },
 "nbformat": 4,
 "nbformat_minor": 5
}
