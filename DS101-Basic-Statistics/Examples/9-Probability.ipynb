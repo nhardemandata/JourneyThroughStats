{
 "cells": [
  {
   "cell_type": "markdown",
   "id": "1df5bf6f-9535-4e2e-be81-9021cf6bdcbf",
   "metadata": {},
   "source": [
    "Probability that person A wins on first throw = $ \\frac{1}{6} $\n",
    "\n",
    "now imagine you have six sided die. we could write it as:\n",
    "\n",
    "- $ P(A) = \\frac{1}{6} = 0.167$  \n",
    "- you can set A to any of the 6 sides of the die to get your probability\n",
    "\n",
    "Probability that person A and person B lose their first throws and A wins on his 2nd throw = $ (\\frac{5}{6}^2)  \\frac{1}{6} $\n",
    "\n",
    "Probability that person A and person B lose their first two throws and A wins on his 3rd throw = $ (\\frac{5}{6}^4)  \\frac{1}{6} $ \n",
    "\n",
    "So probability that person A wins = $(\\frac{1}{6})(1 + \\frac{5}{6}^2 + \\frac{5}{6}^4 + ...)$\n",
    "\n",
    "This is a geometric progression with sum = $(\\frac{1}{6})(1 - \\frac{5}{6}^2) = \\frac{6}{11} $\n",
    "\n",
    "So the probability that A wins = $ \\frac{6}{11} $\n",
    "\n",
    "\n",
    "\n"
   ]
  },
  {
   "cell_type": "code",
   "execution_count": 1,
   "id": "3c1a665b-3eb1-4314-b063-b5202353371b",
   "metadata": {},
   "outputs": [
    {
     "data": {
      "text/plain": [
       "0.16666666666666666"
      ]
     },
     "execution_count": 1,
     "metadata": {},
     "output_type": "execute_result"
    }
   ],
   "source": [
    "1/6"
   ]
  },
  {
   "cell_type": "code",
   "execution_count": 12,
   "id": "2eab63be-ddb4-4cba-87ba-3919c155e095",
   "metadata": {},
   "outputs": [],
   "source": [
    "value = (1/6)*(1 - (5/6)**2)"
   ]
  },
  {
   "cell_type": "code",
   "execution_count": 13,
   "id": "2805da9c-435a-4105-9670-1292e852cf29",
   "metadata": {},
   "outputs": [
    {
     "data": {
      "text/plain": [
       "0.05092592592592591"
      ]
     },
     "execution_count": 13,
     "metadata": {},
     "output_type": "execute_result"
    }
   ],
   "source": [
    "value"
   ]
  },
  {
   "cell_type": "code",
   "execution_count": 17,
   "id": "2bbfb8d9-d0b4-4bcf-bd3a-f5c32538a1fd",
   "metadata": {},
   "outputs": [],
   "source": [
    "from fractions import Fraction"
   ]
  },
  {
   "cell_type": "code",
   "execution_count": 19,
   "id": "43a81616-5ef9-4148-9baa-b2b9c253e70a",
   "metadata": {},
   "outputs": [
    {
     "data": {
      "text/plain": [
       "Fraction(7339199392751917, 144115188075855872)"
      ]
     },
     "execution_count": 19,
     "metadata": {},
     "output_type": "execute_result"
    }
   ],
   "source": [
    "Fraction(value)"
   ]
  },
  {
   "cell_type": "code",
   "execution_count": 23,
   "id": "0d8b5138-cf20-4f72-b79e-c53aacb7de2e",
   "metadata": {},
   "outputs": [],
   "source": [
    "from sympy import *"
   ]
  },
  {
   "cell_type": "code",
   "execution_count": 24,
   "id": "cc681b4d-eb50-4e10-bcfa-d46aabf1a9ae",
   "metadata": {},
   "outputs": [
    {
     "data": {
      "text/latex": [
       "$\\displaystyle 0.0509259259259259$"
      ],
      "text/plain": [
       "0.0509259259259259"
      ]
     },
     "execution_count": 24,
     "metadata": {},
     "output_type": "execute_result"
    }
   ],
   "source": [
    "sympy.frac(value)"
   ]
  },
  {
   "cell_type": "code",
   "execution_count": 26,
   "id": "4d78c3cf-83a8-4339-bd0b-7d283bfc35bc",
   "metadata": {},
   "outputs": [
    {
     "data": {
      "text/latex": [
       "$\\displaystyle \\sqrt{3}$"
      ],
      "text/plain": [
       "sqrt(3)"
      ]
     },
     "execution_count": 26,
     "metadata": {},
     "output_type": "execute_result"
    }
   ],
   "source": [
    "sympy.sqrt(3)"
   ]
  },
  {
   "cell_type": "code",
   "execution_count": 27,
   "id": "8105824c-3448-40c4-8c01-aabe6e2cace0",
   "metadata": {},
   "outputs": [
    {
     "data": {
      "text/latex": [
       "$\\displaystyle 0.333333333333333$"
      ],
      "text/plain": [
       "0.333333333333333"
      ]
     },
     "execution_count": 27,
     "metadata": {},
     "output_type": "execute_result"
    }
   ],
   "source": [
    "sympy.frac(1/3)"
   ]
  },
  {
   "cell_type": "code",
   "execution_count": 36,
   "id": "d30375bd-f6bc-4925-a51b-688b849db75e",
   "metadata": {},
   "outputs": [
    {
     "data": {
      "text/latex": [
       "$\\displaystyle 0.0509$"
      ],
      "text/plain": [
       "0.0509000000000000"
      ]
     },
     "execution_count": 36,
     "metadata": {},
     "output_type": "execute_result"
    }
   ],
   "source": [
    "sympify(0.0509, rational=True)"
   ]
  },
  {
   "cell_type": "code",
   "execution_count": null,
   "id": "96908b2e-6055-4738-8211-d132d1f92a1e",
   "metadata": {},
   "outputs": [],
   "source": []
  }
 ],
 "metadata": {
  "kernelspec": {
   "display_name": "Python 3 (ipykernel)",
   "language": "python",
   "name": "python3"
  },
  "language_info": {
   "codemirror_mode": {
    "name": "ipython",
    "version": 3
   },
   "file_extension": ".py",
   "mimetype": "text/x-python",
   "name": "python",
   "nbconvert_exporter": "python",
   "pygments_lexer": "ipython3",
   "version": "3.9.7"
  }
 },
 "nbformat": 4,
 "nbformat_minor": 5
}
