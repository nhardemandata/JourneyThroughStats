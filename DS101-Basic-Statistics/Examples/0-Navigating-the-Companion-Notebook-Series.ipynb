{
 "cells": [
  {
   "cell_type": "markdown",
   "id": "fc7979bb-91a8-4596-a073-f15b406861fa",
   "metadata": {},
   "source": [
    "God, grant me the serenity to accept the things I cannot change, courage to change the things I can, and wisdom to know the difference."
   ]
  },
  {
   "cell_type": "code",
   "execution_count": 1,
   "id": "83e7ee10-1ccc-4779-9790-715a9b14a834",
   "metadata": {},
   "outputs": [
    {
     "data": {
      "text/html": [
       "\n",
       "        <iframe\n",
       "            width=\"720\"\n",
       "            height=\"480\"\n",
       "            src=\"https://player.vimeo.com/video/631550221\"\n",
       "            frameborder=\"0\"\n",
       "            allowfullscreen\n",
       "            \n",
       "        ></iframe>\n",
       "        "
      ],
      "text/plain": [
       "<IPython.lib.display.VimeoVideo at 0x105c2f520>"
      ]
     },
     "execution_count": 1,
     "metadata": {},
     "output_type": "execute_result"
    }
   ],
   "source": [
    "from IPython.display import VimeoVideo\n",
    "# Tutorial Video Name: Getting started with SQL\n",
    "VimeoVideo('631550221', width=720, height=480)\n"
   ]
  },
  {
   "cell_type": "code",
   "execution_count": null,
   "id": "d5062cd6-b4f3-4fa8-bb1b-024ec44ef95a",
   "metadata": {},
   "outputs": [],
   "source": []
  }
 ],
 "metadata": {
  "kernelspec": {
   "display_name": "Python 3 (ipykernel)",
   "language": "python",
   "name": "python3"
  },
  "language_info": {
   "codemirror_mode": {
    "name": "ipython",
    "version": 3
   },
   "file_extension": ".py",
   "mimetype": "text/x-python",
   "name": "python",
   "nbconvert_exporter": "python",
   "pygments_lexer": "ipython3",
   "version": "3.9.9"
  }
 },
 "nbformat": 4,
 "nbformat_minor": 5
}
