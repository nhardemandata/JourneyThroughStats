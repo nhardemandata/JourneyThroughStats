{
 "cells": [
  {
   "cell_type": "markdown",
   "id": "2a645049-3e1c-4c0a-8a98-bcfe7ea3afdb",
   "metadata": {},
   "source": [
    "$$f(x) = x^2$$"
   ]
  },
  {
   "cell_type": "markdown",
   "id": "0dcf2dc8-603c-457b-b7d9-2fabd3042101",
   "metadata": {},
   "source": [
    "### The probability of getting (k) heads when flipping (n) coins is\n",
    "\\begin{equation*}\n",
    "P(E)   = {n \\choose k} p^k (1-p)^{ n-k}\n",
    "\\end{equation*}"
   ]
  },
  {
   "cell_type": "markdown",
   "id": "4f44c3c1-0e43-47b4-8dac-52c606c02162",
   "metadata": {},
   "source": [
    "\\begin{equation}\n",
    "\\int y\\, \\mathrm{d}x\n",
    "\\end{equation}"
   ]
  },
  {
   "cell_type": "markdown",
   "id": "b5358ef2-5082-47ad-968c-59e9551fbe9a",
   "metadata": {},
   "source": [
    "## Mean, Median, Mode\n",
    "\n",
    "Mean, median, and mode are different measures of center in a numerical data set. They each try to summarize a dataset with a single number to represent a \"typical\" data point from the dataset.\n",
    "\n",
    "__Mean:__ The \"average\" number; found by adding all data points and dividing by the number of data points.\n",
    "\n",
    "\n",
    "\\begin{equation}\n",
    "\\bar{y} = \\frac{\\sum y}{N}\n",
    "\\end{equation}\n",
    "\n",
    "- $\\sum y$ Take all the values and add them up\n",
    "- divide by the total number of observations you have"
   ]
  },
  {
   "cell_type": "markdown",
   "id": "fdb9f8fd-0018-498a-ac47-f5685d0dd3e3",
   "metadata": {},
   "source": [
    "__Median__ The middle number found by ordering all data points and picking out the one in the middle (or if there are two middle numbers, taking the mean of those two numbers).\n",
    "\n",
    "\n",
    "To get the median\n",
    "\n",
    "\\begin{equation}\n",
    "y = \\tilde{x}\n",
    "\\end{equation}\n",
    "\n",
    "$ y = [1,2,3,4,4,3,2,1] $\n",
    "\n",
    "$ y = 4 $\n",
    "\n",
    "\n",
    "The __mode__ is the most commonly occurring data point in a dataset. The mode is useful when there are a lot of repeated values in a dataset. There can be no mode, one mode, or multiple modes in a dataset."
   ]
  },
  {
   "cell_type": "markdown",
   "id": "90e78470-f0ea-4a87-8881-9c8f3f24de76",
   "metadata": {},
   "source": [
    "## Standard Deviation\n",
    "\n",
    "__Standard deviation__ is a number used to tell how measurements for a group are spread out from the average (mean), or expected value. A low standard deviation means that most of the numbers are close to the average. A high standard deviation means that the numbers are more spread out.\n",
    "\n",
    "$$s = \\sqrt{\\frac{1}{N-1} \\sum_{i=1}^N (x_i - \\overline{x})^2}$$"
   ]
  },
  {
   "cell_type": "markdown",
   "id": "3189ea12-a995-4e42-819a-098b86b29f41",
   "metadata": {},
   "source": [
    "## Variance\n",
    "\n",
    "The __Variance__ is defined as: The average of the squared differences from the Mean. To calculate the variance follow these steps: Find the __Mean__, Then for each number: subtract the __Mean__ and square the result (the squared difference).\n",
    "\n",
    "$$\\sigma^2 = \\frac{\\displaystyle\\sum_{i=1}^{n}(x_i - \\mu)^2} {n}$$"
   ]
  },
  {
   "cell_type": "markdown",
   "id": "37f88696-e285-4d75-8b5d-4c4735b613f9",
   "metadata": {},
   "source": [
    "## What is RMSE\n",
    "\n",
    " $RMSE = \\sqrt{\\frac{1}{n}\\sum_{i=1}^{n}{\\Big(\\frac{d_i -f_i}{\\sum_i}\\Big)^2}}$\n",
    " \n",
    " \n",
    " ## Root mean squared error (RMSE)\n",
    "RMSE is a quadratic scoring rule that also measures the average magnitude of the error. It’s the square root of the average squared differences between prediction and actual observation. \n",
    "\n",
    " $RMSE = \\sqrt{\\frac{1}{n}\\Sigma_{i=1}^{n}{\\Big(\\frac{d_i -f_i}{\\Sigma_i}\\Big)^2}}$\n",
    " \n",
    " we can do this simply from sklearn:\n",
    "\n",
    "```python\n",
    "from sklearn.metrics import mean_squared_error\n",
    "from math import sqrt\n",
    "rmse = sqrt(mean_squared_error(y_actual, y_predicted))\n",
    "print(rmse)\n",
    "\n",
    "# another way\n",
    "n = len(predictions)\n",
    "rmse = np.linalg.norm(predictions - targets) / np.sqrt(n)\n",
    "\n",
    "# and another way\n",
    "from sklearn.metrics import mean_squared_error\n",
    "from math import sqrt\n",
    "expected = [0.0, 0.5, 0.0, 0.5, 0.0]\n",
    "predictions = [0.2, 0.4, 0.1, 0.6, 0.2]\n",
    "mse = mean_squared_error(expected, predictions)\n",
    "rmse = sqrt(mse)\n",
    "print('RMSE: %f' % rmse)\n",
    "\n",
    "```\n",
    "The mean square root and square root of it will be useful.\n"
   ]
  },
  {
   "cell_type": "code",
   "execution_count": 6,
   "id": "af4fcdf2-6d2e-4121-984b-9ea6dea2292b",
   "metadata": {},
   "outputs": [
    {
     "name": "stdout",
     "output_type": "stream",
     "text": [
      "Collecting sklearn\n",
      "  Downloading sklearn-0.0.tar.gz (1.1 kB)\n",
      "Collecting scikit-learn\n",
      "  Downloading scikit_learn-0.24.2-cp39-cp39-macosx_10_13_x86_64.whl (7.3 MB)\n",
      "\u001b[K     |████████████████████████████████| 7.3 MB 4.7 MB/s eta 0:00:01\n",
      "\u001b[?25hRequirement already satisfied: scipy>=0.19.1 in /usr/local/lib/python3.9/site-packages (from scikit-learn->sklearn) (1.7.1)\n",
      "Collecting threadpoolctl>=2.0.0\n",
      "  Downloading threadpoolctl-2.2.0-py3-none-any.whl (12 kB)\n",
      "Collecting joblib>=0.11\n",
      "  Using cached joblib-1.0.1-py3-none-any.whl (303 kB)\n",
      "Requirement already satisfied: numpy>=1.13.3 in /usr/local/lib/python3.9/site-packages (from scikit-learn->sklearn) (1.21.2)\n",
      "Building wheels for collected packages: sklearn\n",
      "  Building wheel for sklearn (setup.py) ... \u001b[?25ldone\n",
      "\u001b[?25h  Created wheel for sklearn: filename=sklearn-0.0-py2.py3-none-any.whl size=1309 sha256=0b76c6cc5360493f096dbf411e4c2cc1cd8abdbe7edcae4d8fe421d5150c9982\n",
      "  Stored in directory: /Users/jsr/Library/Caches/pip/wheels/e4/7b/98/b6466d71b8d738a0c547008b9eb39bf8676d1ff6ca4b22af1c\n",
      "Successfully built sklearn\n",
      "Installing collected packages: threadpoolctl, joblib, scikit-learn, sklearn\n",
      "Successfully installed joblib-1.0.1 scikit-learn-0.24.2 sklearn-0.0 threadpoolctl-2.2.0\n",
      "Note: you may need to restart the kernel to use updated packages.\n"
     ]
    }
   ],
   "source": [
    "pip install sklearn"
   ]
  },
  {
   "cell_type": "code",
   "execution_count": 7,
   "id": "c068d03d-43bc-4cc3-9ba5-7842017b0b32",
   "metadata": {},
   "outputs": [
    {
     "name": "stdout",
     "output_type": "stream",
     "text": [
      "RMSE: 0.148324\n"
     ]
    }
   ],
   "source": [
    "from sklearn.metrics import mean_squared_error\n",
    "from math import sqrt\n",
    "expected = [0.0, 0.5, 0.0, 0.5, 0.0]\n",
    "predictions = [0.2, 0.4, 0.1, 0.6, 0.2]\n",
    "mse = mean_squared_error(expected, predictions)\n",
    "rmse = sqrt(mse)\n",
    "print('RMSE: %f' % rmse)"
   ]
  },
  {
   "cell_type": "code",
   "execution_count": null,
   "id": "079bc43d-f7b5-47dd-b3b2-0682c04fd5a4",
   "metadata": {},
   "outputs": [],
   "source": []
  }
 ],
 "metadata": {
  "kernelspec": {
   "display_name": "Python 3 (ipykernel)",
   "language": "python",
   "name": "python3"
  },
  "language_info": {
   "codemirror_mode": {
    "name": "ipython",
    "version": 3
   },
   "file_extension": ".py",
   "mimetype": "text/x-python",
   "name": "python",
   "nbconvert_exporter": "python",
   "pygments_lexer": "ipython3",
   "version": "3.9.7"
  }
 },
 "nbformat": 4,
 "nbformat_minor": 5
}
