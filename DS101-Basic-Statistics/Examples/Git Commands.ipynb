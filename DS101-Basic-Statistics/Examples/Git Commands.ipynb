{
 "cells": [
  {
   "cell_type": "markdown",
   "metadata": {},
   "source": [
    "# Commands for terminal and command prompt"
   ]
  },
  {
   "cell_type": "markdown",
   "metadata": {},
   "source": [
    "cd - Change directory"
   ]
  },
  {
   "cell_type": "markdown",
   "metadata": {},
   "source": [
    "cd .. - To go back to previous directory"
   ]
  },
  {
   "cell_type": "markdown",
   "metadata": {},
   "source": [
    "cd \"path/to/directory/\" - To get to a specific path"
   ]
  },
  {
   "cell_type": "markdown",
   "metadata": {},
   "source": [
    "ls - listing what is in the directory"
   ]
  },
  {
   "cell_type": "markdown",
   "metadata": {},
   "source": [
    "open \"filename\" - Open a filename"
   ]
  },
  {
   "cell_type": "markdown",
   "metadata": {},
   "source": [
    "cp \"filename\" \"newfilename\" - Copy a file to a different filename"
   ]
  },
  {
   "cell_type": "markdown",
   "metadata": {},
   "source": [
    "mv \"filename\" \"path/to/new/file/location\" - Move a file to a different filename"
   ]
  },
  {
   "cell_type": "markdown",
   "metadata": {},
   "source": [
    "mkdir \"path/to/new/directory\" - Create a directory"
   ]
  },
  {
   "cell_type": "markdown",
   "metadata": {},
   "source": [
    "rmdir \"path/to/directory\" - Remove a directory"
   ]
  },
  {
   "cell_type": "markdown",
   "metadata": {},
   "source": [
    "sudo \"command\" - Execute command with superuser privilege "
   ]
  },
  {
   "cell_type": "markdown",
   "metadata": {},
   "source": [
    ":q - to quit"
   ]
  },
  {
   "cell_type": "markdown",
   "metadata": {},
   "source": [
    ":w - to save"
   ]
  },
  {
   "cell_type": "markdown",
   "metadata": {},
   "source": [
    ":wq - to save and quit"
   ]
  },
  {
   "cell_type": "markdown",
   "metadata": {},
   "source": [
    "clear - clear the terminal"
   ]
  },
  {
   "cell_type": "markdown",
   "metadata": {},
   "source": [
    "man \"command\" - show manual page for command"
   ]
  },
  {
   "cell_type": "markdown",
   "metadata": {},
   "source": [
    "ditto -V MyFolder MyNewFolder - Copy contents of folder to a new folder"
   ]
  }
 ],
 "metadata": {
  "kernelspec": {
   "display_name": "Python 3 (ipykernel)",
   "language": "python",
   "name": "python3"
  },
  "language_info": {
   "codemirror_mode": {
    "name": "ipython",
    "version": 3
   },
   "file_extension": ".py",
   "mimetype": "text/x-python",
   "name": "python",
   "nbconvert_exporter": "python",
   "pygments_lexer": "ipython3",
   "version": "3.9.9"
  }
 },
 "nbformat": 4,
 "nbformat_minor": 4
}
