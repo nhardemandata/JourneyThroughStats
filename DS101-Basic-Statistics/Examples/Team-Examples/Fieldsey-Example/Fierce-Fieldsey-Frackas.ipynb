{
 "cells": [
  {
   "cell_type": "code",
   "execution_count": 1,
   "id": "12d38bb5-b91a-43b5-9efc-d5e268a741a2",
   "metadata": {},
   "outputs": [
    {
     "name": "stdout",
     "output_type": "stream",
     "text": [
      "hello from fieldsey!\n"
     ]
    }
   ],
   "source": [
    "print(\"hello from fieldsey!\")"
   ]
  },
  {
   "cell_type": "code",
   "execution_count": null,
   "id": "d525b199-a0a4-4781-bcb3-0c769d86744e",
   "metadata": {},
   "outputs": [],
   "source": []
  }
 ],
 "metadata": {
  "kernelspec": {
   "display_name": "Python 3 (ipykernel)",
   "language": "python",
   "name": "python3"
  },
  "language_info": {
   "codemirror_mode": {
    "name": "ipython",
    "version": 3
   },
   "file_extension": ".py",
   "mimetype": "text/x-python",
   "name": "python",
   "nbconvert_exporter": "python",
   "pygments_lexer": "ipython3",
   "version": "3.9.7"
  }
 },
 "nbformat": 4,
 "nbformat_minor": 5
}
