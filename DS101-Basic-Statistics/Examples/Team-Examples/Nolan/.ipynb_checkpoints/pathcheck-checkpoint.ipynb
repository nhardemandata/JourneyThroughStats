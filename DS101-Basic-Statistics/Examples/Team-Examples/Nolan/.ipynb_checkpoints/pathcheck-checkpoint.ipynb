{
 "cells": [
  {
   "cell_type": "code",
   "execution_count": 1,
   "id": "60ed1ad2-7364-4876-9ebf-1964c429c2ee",
   "metadata": {},
   "outputs": [
    {
     "data": {
      "text/plain": [
       "'/Users/jsr/Documents/GitHub/DS-Student-Resources/DS101-Basic-Statistics/Examples/Team-Examples/Nolan'"
      ]
     },
     "execution_count": 1,
     "metadata": {},
     "output_type": "execute_result"
    }
   ],
   "source": [
    "# To see you current path use:\n",
    "import os\n",
    "os.getcwd()"
   ]
  },
  {
   "cell_type": "code",
   "execution_count": 2,
   "id": "0687875d-16f2-48a0-adcf-126fd2de0416",
   "metadata": {},
   "outputs": [
    {
     "name": "stdout",
     "output_type": "stream",
     "text": [
      "BasicStatsL2Guide.ipynb  BasicStatsL5Guide.ipynb  pathcheck.ipynb\n",
      "BasicStatsL3Guide.ipynb  BasicStatsL6Guide.ipynb\n",
      "BasicStatsL4Guide.ipynb  BasicStatsL7Guide.ipynb\n"
     ]
    }
   ],
   "source": [
    "ls"
   ]
  },
  {
   "cell_type": "code",
   "execution_count": 3,
   "id": "2c71e204-a64c-494f-820a-5a2062694e69",
   "metadata": {},
   "outputs": [
    {
     "name": "stdout",
     "output_type": "stream",
     "text": [
      "/Users/jsr/Documents/GitHub/DS-Student-Resources/DS101-Basic-Statistics/Examples/Team-Examples/Nolan\n"
     ]
    }
   ],
   "source": [
    "cwd = os.getcwd()\n",
    "print(cwd)"
   ]
  },
  {
   "cell_type": "code",
   "execution_count": 4,
   "id": "2fdbd893-0266-48b2-8be2-35c8aa065f9b",
   "metadata": {},
   "outputs": [],
   "source": [
    "os.chdir('..')"
   ]
  },
  {
   "cell_type": "code",
   "execution_count": 5,
   "id": "566e8a12-8122-4099-b0b6-80f7ec78dd7f",
   "metadata": {},
   "outputs": [
    {
     "data": {
      "text/plain": [
       "'/Users/jsr/Documents/GitHub/DS-Student-Resources/DS101-Basic-Statistics/Examples/Team-Examples'"
      ]
     },
     "execution_count": 5,
     "metadata": {},
     "output_type": "execute_result"
    }
   ],
   "source": [
    "os.getcwd()"
   ]
  },
  {
   "cell_type": "code",
   "execution_count": 6,
   "id": "868864d7-69b6-4aed-8216-15929876ec49",
   "metadata": {},
   "outputs": [],
   "source": [
    "os.chdir('..')"
   ]
  },
  {
   "cell_type": "code",
   "execution_count": 7,
   "id": "c4222dca-e7bc-4074-a53e-1d816df7afdd",
   "metadata": {},
   "outputs": [
    {
     "data": {
      "text/plain": [
       "'/Users/jsr/Documents/GitHub/DS-Student-Resources/DS101-Basic-Statistics/Examples'"
      ]
     },
     "execution_count": 7,
     "metadata": {},
     "output_type": "execute_result"
    }
   ],
   "source": [
    "os.getcwd()"
   ]
  },
  {
   "cell_type": "code",
   "execution_count": 9,
   "id": "f400caf5-01f5-4f55-8bc7-2ca9d2ee412e",
   "metadata": {},
   "outputs": [],
   "source": [
    "os.chdir('../Media')"
   ]
  },
  {
   "cell_type": "code",
   "execution_count": 10,
   "id": "096fd0dd-fe93-405c-b038-97b6d3bd7e27",
   "metadata": {},
   "outputs": [
    {
     "data": {
      "text/plain": [
       "'/Users/jsr/Documents/GitHub/DS-Student-Resources/DS101-Basic-Statistics/Media'"
      ]
     },
     "execution_count": 10,
     "metadata": {},
     "output_type": "execute_result"
    }
   ],
   "source": [
    "os.getcwd()"
   ]
  },
  {
   "cell_type": "code",
   "execution_count": 11,
   "id": "6d89f2d9-75b6-4a66-9ac3-9a87f42953a2",
   "metadata": {},
   "outputs": [
    {
     "name": "stdout",
     "output_type": "stream",
     "text": [
      "-rw-r--r--  1 jsr  staff  97904 Oct 10 16:57 probability-marble-example.PNG\n"
     ]
    }
   ],
   "source": [
    "ls -al probability-marble-example.PNG"
   ]
  },
  {
   "cell_type": "markdown",
   "id": "d53c1e7c-8433-442c-a963-8b491fe2a00b",
   "metadata": {},
   "source": [
    "So the path from BasicStatsGuide.ipynb to probability-marble-example.PNG is\n",
    "\n",
    "../../Media/probability-marble-example.PNG"
   ]
  },
  {
   "cell_type": "markdown",
   "id": "1717654d-a822-421d-a8ae-ff0145fefcc8",
   "metadata": {},
   "source": [
    "<p style=\"text-align: center;\">\n",
    "  <img width=\"600\" alt=\"probability marble example \" src=\"../../../Media/probability-marble-example.PNG\">\n",
    "</p>"
   ]
  },
  {
   "cell_type": "code",
   "execution_count": null,
   "id": "86d6d1ed-f14e-4652-9ce3-c35730775057",
   "metadata": {},
   "outputs": [],
   "source": []
  }
 ],
 "metadata": {
  "kernelspec": {
   "display_name": "Python 3 (ipykernel)",
   "language": "python",
   "name": "python3"
  },
  "language_info": {
   "codemirror_mode": {
    "name": "ipython",
    "version": 3
   },
   "file_extension": ".py",
   "mimetype": "text/x-python",
   "name": "python",
   "nbconvert_exporter": "python",
   "pygments_lexer": "ipython3",
   "version": "3.9.9"
  }
 },
 "nbformat": 4,
 "nbformat_minor": 5
}
