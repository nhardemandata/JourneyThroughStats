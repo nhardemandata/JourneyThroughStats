{
 "cells": [
  {
   "cell_type": "markdown",
   "id": "e3191904-0153-46ad-a374-96fce45d83a0",
   "metadata": {},
   "source": [
    "## Two sample z-test"
   ]
  },
  {
   "cell_type": "markdown",
   "id": "48e38b46-8973-4f15-a053-8ca5bfb87458",
   "metadata": {},
   "source": [
    "Two-Sample Z-Test. The Two-Sample Z-test is used to compare the means of two samples to see if it is feasible that they come from the same population. The null hypothesis is: the population means are equal."
   ]
  },
  {
   "cell_type": "code",
   "execution_count": 3,
   "id": "b9362192-b035-45a4-a1c4-317935700f6a",
   "metadata": {},
   "outputs": [
    {
     "ename": "AttributeError",
     "evalue": "module 'scipy.stats' has no attribute 'ttest_1sample'",
     "output_type": "error",
     "traceback": [
      "\u001b[1;31m---------------------------------------------------------------------------\u001b[0m",
      "\u001b[1;31mAttributeError\u001b[0m                            Traceback (most recent call last)",
      "\u001b[1;32m~\\AppData\\Local\\Temp/ipykernel_9208/1892766983.py\u001b[0m in \u001b[0;36m<module>\u001b[1;34m\u001b[0m\n\u001b[0;32m      1\u001b[0m \u001b[1;32mimport\u001b[0m \u001b[0mscipy\u001b[0m\u001b[1;33m.\u001b[0m\u001b[0mstats\u001b[0m \u001b[1;32mas\u001b[0m \u001b[0mstats\u001b[0m\u001b[1;33m\u001b[0m\u001b[1;33m\u001b[0m\u001b[0m\n\u001b[1;32m----> 2\u001b[1;33m \u001b[0mt\u001b[0m\u001b[1;33m,\u001b[0m\u001b[0mp\u001b[0m \u001b[1;33m=\u001b[0m \u001b[0mstats\u001b[0m\u001b[1;33m.\u001b[0m\u001b[0mttest_1sample\u001b[0m\u001b[1;33m(\u001b[0m\u001b[0mloading_times\u001b[0m\u001b[1;33m[\u001b[0m\u001b[1;36m6\u001b[0m\u001b[1;33m]\u001b[0m\u001b[1;33m,\u001b[0m \u001b[0mpopmean\u001b[0m \u001b[1;33m=\u001b[0m \u001b[1;36m3.0\u001b[0m\u001b[1;33m)\u001b[0m\u001b[1;33m\u001b[0m\u001b[1;33m\u001b[0m\u001b[0m\n\u001b[0m\u001b[0;32m      3\u001b[0m \u001b[1;33m\u001b[0m\u001b[0m\n\u001b[0;32m      4\u001b[0m \u001b[0mprint\u001b[0m\u001b[1;33m(\u001b[0m\u001b[1;34m't-statistc = {t} \\np-value = {p}'\u001b[0m\u001b[1;33m.\u001b[0m\u001b[0mformat\u001b[0m\u001b[1;33m(\u001b[0m\u001b[0mt\u001b[0m\u001b[1;33m=\u001b[0m\u001b[0mt\u001b[0m\u001b[1;33m,\u001b[0m\u001b[0mp\u001b[0m\u001b[1;33m=\u001b[0m\u001b[0mp\u001b[0m\u001b[1;33m/\u001b[0m\u001b[1;36m2\u001b[0m\u001b[1;33m)\u001b[0m\u001b[1;33m)\u001b[0m\u001b[1;33m\u001b[0m\u001b[1;33m\u001b[0m\u001b[0m\n",
      "\u001b[1;31mAttributeError\u001b[0m: module 'scipy.stats' has no attribute 'ttest_1sample'"
     ]
    }
   ],
   "source": [
    "import scipy.stats as stats\n",
    "t,p = stats.ttest_1sample(loading_times[6], popmean = 3.0)\n",
    "\n",
    "print('t-statistc = {t} \\np-value = {p}'.format(t=t,p=p/2))"
   ]
  },
  {
   "cell_type": "code",
   "execution_count": 4,
   "id": "3e87ceaf-69dd-4e2f-bb36-9c1a3b4eb744",
   "metadata": {},
   "outputs": [
    {
     "data": {
      "image/jpeg": "[encoded data removed]",
      "text/html": [
       "\n",
       "        <iframe\n",
       "            width=\"720\"\n",
       "            height=\"480\"\n",
       "            src=\"https://www.youtube.com/embed/q9cFhQROEQw\"\n",
       "            frameborder=\"0\"\n",
       "            allowfullscreen\n",
       "        ></iframe>\n",
       "        "
      ],
      "text/plain": [
       "<IPython.lib.display.YouTubeVideo at 0x2249eff14f0>"
      ]
     },
     "execution_count": 4,
     "metadata": {},
     "output_type": "execute_result"
    }
   ],
   "source": [
    "from IPython.display import YouTubeVideo\n",
    "# Video Name: Two-Sample z-Test in Python\n",
    "YouTubeVideo('q9cFhQROEQw', width=720, height=480)"
   ]
  },
  {
   "cell_type": "markdown",
   "id": "3e046f7e-3fa7-49da-b01f-8820c25389a2",
   "metadata": {},
   "source": [
    "Let's practice! In the video above, let's apply how to use a two-sample t-test. First, you need to review your data and make sure you can run a two-sample Z-Test. We want to compare the mean of two samples. In this case, we will compare the product value in AL(Alabama) and AZ(Arizona). What column would we need for the comparison in these two states?"
   ]
  },
  {
   "cell_type": "code",
   "execution_count": 2,
   "id": "b6b4a6fe-b891-465c-a8d8-59b88d387bc9",
   "metadata": {},
   "outputs": [],
   "source": [
    "import pandas as pd\n",
    "df = pd.read_csv('../../../Data/honey.csv')"
   ]
  },
  {
   "cell_type": "code",
   "execution_count": 3,
   "id": "bb51f24e-61a3-447f-81c8-4b355937749a",
   "metadata": {},
   "outputs": [
    {
     "data": {
      "text/html": [
       "<div>\n",
       "<style scoped>\n",
       "    .dataframe tbody tr th:only-of-type {\n",
       "        vertical-align: middle;\n",
       "    }\n",
       "\n",
       "    .dataframe tbody tr th {\n",
       "        vertical-align: top;\n",
       "    }\n",
       "\n",
       "    .dataframe thead th {\n",
       "        text-align: right;\n",
       "    }\n",
       "</style>\n",
       "<table border=\"1\" class=\"dataframe\">\n",
       "  <thead>\n",
       "    <tr style=\"text-align: right;\">\n",
       "      <th></th>\n",
       "      <th>state</th>\n",
       "      <th>numcol</th>\n",
       "      <th>yieldpercol</th>\n",
       "      <th>totalprod</th>\n",
       "      <th>stocks</th>\n",
       "      <th>priceperlb</th>\n",
       "      <th>prodvalue</th>\n",
       "      <th>year</th>\n",
       "    </tr>\n",
       "  </thead>\n",
       "  <tbody>\n",
       "    <tr>\n",
       "      <th>0</th>\n",
       "      <td>AL</td>\n",
       "      <td>9000.0</td>\n",
       "      <td>66</td>\n",
       "      <td>594000.0</td>\n",
       "      <td>214000</td>\n",
       "      <td>1.90</td>\n",
       "      <td>1129000</td>\n",
       "      <td>2008</td>\n",
       "    </tr>\n",
       "    <tr>\n",
       "      <th>1</th>\n",
       "      <td>AZ</td>\n",
       "      <td>25000.0</td>\n",
       "      <td>64</td>\n",
       "      <td>1600000.0</td>\n",
       "      <td>336000</td>\n",
       "      <td>1.26</td>\n",
       "      <td>2016000</td>\n",
       "      <td>2008</td>\n",
       "    </tr>\n",
       "    <tr>\n",
       "      <th>2</th>\n",
       "      <td>AR</td>\n",
       "      <td>28000.0</td>\n",
       "      <td>75</td>\n",
       "      <td>2100000.0</td>\n",
       "      <td>525000</td>\n",
       "      <td>1.35</td>\n",
       "      <td>2835000</td>\n",
       "      <td>2008</td>\n",
       "    </tr>\n",
       "    <tr>\n",
       "      <th>3</th>\n",
       "      <td>CA</td>\n",
       "      <td>360000.0</td>\n",
       "      <td>51</td>\n",
       "      <td>18360000.0</td>\n",
       "      <td>4039000</td>\n",
       "      <td>1.39</td>\n",
       "      <td>25520000</td>\n",
       "      <td>2008</td>\n",
       "    </tr>\n",
       "    <tr>\n",
       "      <th>4</th>\n",
       "      <td>CO</td>\n",
       "      <td>27000.0</td>\n",
       "      <td>45</td>\n",
       "      <td>1215000.0</td>\n",
       "      <td>656000</td>\n",
       "      <td>1.51</td>\n",
       "      <td>1835000</td>\n",
       "      <td>2008</td>\n",
       "    </tr>\n",
       "    <tr>\n",
       "      <th>5</th>\n",
       "      <td>FL</td>\n",
       "      <td>150000.0</td>\n",
       "      <td>79</td>\n",
       "      <td>11850000.0</td>\n",
       "      <td>1304000</td>\n",
       "      <td>1.32</td>\n",
       "      <td>15642000</td>\n",
       "      <td>2008</td>\n",
       "    </tr>\n",
       "    <tr>\n",
       "      <th>6</th>\n",
       "      <td>GA</td>\n",
       "      <td>65000.0</td>\n",
       "      <td>71</td>\n",
       "      <td>4615000.0</td>\n",
       "      <td>369000</td>\n",
       "      <td>1.52</td>\n",
       "      <td>7015000</td>\n",
       "      <td>2008</td>\n",
       "    </tr>\n",
       "    <tr>\n",
       "      <th>7</th>\n",
       "      <td>HI</td>\n",
       "      <td>10000.0</td>\n",
       "      <td>90</td>\n",
       "      <td>900000.0</td>\n",
       "      <td>225000</td>\n",
       "      <td>1.59</td>\n",
       "      <td>1431000</td>\n",
       "      <td>2008</td>\n",
       "    </tr>\n",
       "    <tr>\n",
       "      <th>8</th>\n",
       "      <td>ID</td>\n",
       "      <td>90000.0</td>\n",
       "      <td>40</td>\n",
       "      <td>3600000.0</td>\n",
       "      <td>1440000</td>\n",
       "      <td>1.46</td>\n",
       "      <td>5256000</td>\n",
       "      <td>2008</td>\n",
       "    </tr>\n",
       "    <tr>\n",
       "      <th>9</th>\n",
       "      <td>IL</td>\n",
       "      <td>8000.0</td>\n",
       "      <td>56</td>\n",
       "      <td>448000.0</td>\n",
       "      <td>116000</td>\n",
       "      <td>2.59</td>\n",
       "      <td>1160000</td>\n",
       "      <td>2008</td>\n",
       "    </tr>\n",
       "  </tbody>\n",
       "</table>\n",
       "</div>"
      ],
      "text/plain": [
       "  state    numcol  yieldpercol   totalprod   stocks  priceperlb  prodvalue  \\\n",
       "0    AL    9000.0           66    594000.0   214000        1.90    1129000   \n",
       "1    AZ   25000.0           64   1600000.0   336000        1.26    2016000   \n",
       "2    AR   28000.0           75   2100000.0   525000        1.35    2835000   \n",
       "3    CA  360000.0           51  18360000.0  4039000        1.39   25520000   \n",
       "4    CO   27000.0           45   1215000.0   656000        1.51    1835000   \n",
       "5    FL  150000.0           79  11850000.0  1304000        1.32   15642000   \n",
       "6    GA   65000.0           71   4615000.0   369000        1.52    7015000   \n",
       "7    HI   10000.0           90    900000.0   225000        1.59    1431000   \n",
       "8    ID   90000.0           40   3600000.0  1440000        1.46    5256000   \n",
       "9    IL    8000.0           56    448000.0   116000        2.59    1160000   \n",
       "\n",
       "   year  \n",
       "0  2008  \n",
       "1  2008  \n",
       "2  2008  \n",
       "3  2008  \n",
       "4  2008  \n",
       "5  2008  \n",
       "6  2008  \n",
       "7  2008  \n",
       "8  2008  \n",
       "9  2008  "
      ]
     },
     "execution_count": 3,
     "metadata": {},
     "output_type": "execute_result"
    }
   ],
   "source": [
    "df.head(10)"
   ]
  },
  {
   "cell_type": "markdown",
   "id": "c942dc2b-023f-4a26-bafb-bb60611fba15",
   "metadata": {},
   "source": [
    "Let's Wrangle"
   ]
  },
  {
   "cell_type": "code",
   "execution_count": 17,
   "id": "db317ed2-af5d-4895-8c3a-c558d9e04616",
   "metadata": {},
   "outputs": [
    {
     "ename": "SyntaxError",
     "evalue": "unexpected EOF while parsing (Temp/ipykernel_11772/2050605905.py, line 1)",
     "output_type": "error",
     "traceback": [
      "\u001b[1;36m  File \u001b[1;32m\"C:\\Users\\Windows\\AppData\\Local\\Temp/ipykernel_11772/2050605905.py\"\u001b[1;36m, line \u001b[1;32m1\u001b[0m\n\u001b[1;33m    Alabama = df[df['prodvalue']=='AL'\u001b[0m\n\u001b[1;37m                                      ^\u001b[0m\n\u001b[1;31mSyntaxError\u001b[0m\u001b[1;31m:\u001b[0m unexpected EOF while parsing\n"
     ]
    }
   ],
   "source": [
    "Alabama = df[df['prodvalue']=='AL'\n"
   ]
  },
  {
   "cell_type": "markdown",
   "id": "f0ffb4fa-ae8f-4b11-8438-20c939c38516",
   "metadata": {},
   "source": [
    "## Resource"
   ]
  },
  {
   "cell_type": "markdown",
   "id": "61996dd9-64d7-4116-ac03-9acf49827c93",
   "metadata": {},
   "source": [
    "(Check it out!)[https://www.analystsoft.com/en/products/statplus/content/help/analysis_basic_statistics_descriptive_statistics.html]"
   ]
  },
  {
   "cell_type": "code",
   "execution_count": null,
   "id": "22e230d0-d202-4949-b542-ce99b82ec93a",
   "metadata": {},
   "outputs": [],
   "source": []
  }
 ],
 "metadata": {
  "kernelspec": {
   "display_name": "Python 3 (ipykernel)",
   "language": "python",
   "name": "python3"
  },
  "language_info": {
   "codemirror_mode": {
    "name": "ipython",
    "version": 3
   },
   "file_extension": ".py",
   "mimetype": "text/x-python",
   "name": "python",
   "nbconvert_exporter": "python",
   "pygments_lexer": "ipython3",
   "version": "3.9.9"
  }
 },
 "nbformat": 4,
 "nbformat_minor": 5
}
