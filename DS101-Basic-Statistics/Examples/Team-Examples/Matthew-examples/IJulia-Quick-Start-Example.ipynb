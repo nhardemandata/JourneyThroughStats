{
 "cells": [
  {
   "cell_type": "markdown",
   "id": "1655c96a-3a6d-494c-805d-5c73bb2af67b",
   "metadata": {},
   "source": [
    "<div align=\"center\"><img src=\"https://github.com/JuliaLang/IJulia.jl/raw/master/deps/ijulialogo.png\" alt=\"IJulia logo\" width=\"150\"/></div>\n",
    "\n",
    "[![Build Status](https://api.travis-ci.org/JuliaLang/IJulia.jl.svg)](https://travis-ci.org/JuliaLang/IJulia.jl)\n",
    "[![Build status](https://ci.appveyor.com/api/projects/status/aaw818ykpducu6ue?svg=true)](https://ci.appveyor.com/project/StevenGJohnson/ijulia-jl)\n",
    "[![](https://img.shields.io/badge/docs-stable-blue.svg)](https://JuliaLang.github.io/IJulia.jl/stable)\n",
    "[![](https://img.shields.io/badge/docs-latest-blue.svg)](https://JuliaLang.github.io/IJulia.jl/dev)"
   ]
  },
  {
   "cell_type": "markdown",
   "id": "c854c736-d3ad-4cca-9bd5-5fbc9114eb22",
   "metadata": {},
   "source": [
    "# IJulia\n",
    "\n",
    "**IJulia** is a [Julia-language](http://julialang.org/) backend\n",
    "combined with the [Jupyter](http://jupyter.org/) interactive\n",
    "environment (also used by [IPython](http://ipython.org/)).  This\n",
    "combination allows you to interact with the Julia language using\n",
    "Jupyter/IPython's powerful [graphical\n",
    "notebook](http://ipython.org/notebook.html), which combines code,\n",
    "formatted text, math, and multimedia in a single document.\n",
    "IJulia is a Jupyter language kernel and works with a variety of notebook\n",
    "user interfaces. In addition to the classic Jupyter Notebook, IJulia\n",
    "also works with [JupyterLab](https://jupyterlab.readthedocs.io/en/stable/), a Jupyter-based\n",
    "integrated development environment for notebooks and code.\n",
    "The [nteract notebook desktop](https://nteract.io/) supports IJulia with\n",
    "detailed instructions for its [installation with nteract](https://nteract.io/kernels/julia).\n",
    "\n",
    "(IJulia notebooks can also be re-used in other Julia code via\n",
    "the [NBInclude](https://github.com/stevengj/NBInclude.jl) package.)"
   ]
  },
  {
   "cell_type": "markdown",
   "id": "ef06fec7-fb48-4d37-a5e9-b5eb7f63b692",
   "metadata": {},
   "source": [
    "## Quick start\n",
    "\n",
    "Install IJulia from the Julia REPL by pressing `]` to enter pkg mode and entering:\n",
    "\n",
    "\n",
    "`add IJulia`\n",
    "\n",
    "\n",
    "If you already have Python/Jupyter installed on your machine, this process will also install a\n",
    "[kernel specification](https://jupyter-client.readthedocs.io/en/latest/kernels.html#kernelspecs)\n",
    "that tells Jupyter how to launch Julia. You can then launch the notebook server the usual\n",
    "way by running `jupyter lab` in the terminal.\n",
    "\n",
    "---\n",
    "\n",
    "### Alternatively\n",
    "You can have IJulia create and manage its own Python/Jupyter installation.\n",
    "To do this, type the following in Julia, at the `julia>` prompt:\n",
    "\n",
    "\n",
    "`using IJulia`\\\n",
    "`notebook()`\n",
    "\n",
    "\n",
    "\n",
    "to launch the IJulia notebook in your browser.\n",
    "The first time you run `notebook()`, it will prompt you\n",
    "for whether it should install Jupyter.  Hit enter to\n",
    "have it use the [Conda.jl](https://github.com/Luthaf/Conda.jl)\n",
    "package to install a minimal Python+Jupyter distribution (via\n",
    "[Miniconda](http://conda.pydata.org/docs/install/quick.html)) that is\n",
    "private to Julia (not in your `PATH`).\n",
    "\n",
    "For more advanced installation options, such as specifying a specific Jupyter\n",
    "installation to use, see the [documentation](https://JuliaLang.github.io/IJulia.jl/stable)."
   ]
  },
  {
   "cell_type": "code",
   "execution_count": null,
   "id": "0da4781a-8653-4c46-8ab4-78f2a9756794",
   "metadata": {},
   "outputs": [],
   "source": []
  }
 ],
 "metadata": {
  "kernelspec": {
   "display_name": "Python 3 (ipykernel)",
   "language": "python",
   "name": "python3"
  },
  "language_info": {
   "codemirror_mode": {
    "name": "ipython",
    "version": 3
   },
   "file_extension": ".py",
   "mimetype": "text/x-python",
   "name": "python",
   "nbconvert_exporter": "python",
   "pygments_lexer": "ipython3",
   "version": "3.9.9"
  }
 },
 "nbformat": 4,
 "nbformat_minor": 5
}
