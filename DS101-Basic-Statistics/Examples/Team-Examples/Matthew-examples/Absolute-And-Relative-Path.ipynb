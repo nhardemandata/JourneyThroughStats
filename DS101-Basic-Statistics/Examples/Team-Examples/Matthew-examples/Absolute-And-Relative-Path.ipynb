{
 "cells": [
  {
   "cell_type": "markdown",
   "id": "b12e49a7-284d-49a1-9d1f-ad80404be31c",
   "metadata": {},
   "source": [
    "# How to find the absolute and relative path of a file in Python\n",
    "\n",
    "Absolute file paths start with a leading forward slash and describe how to access a given file or directory, starting from the root of the file system. Relative file paths do not start with a leading forward slash and are interpreted from the perspective of the current working directory."
   ]
  },
  {
   "cell_type": "markdown",
   "id": "6b618bc7-9e7a-483b-bd46-6f50e137557a",
   "metadata": {},
   "source": [
    "#### Absolute Pathname of A File"
   ]
  },
  {
   "cell_type": "code",
   "execution_count": 1,
   "id": "3189f33b-ecc7-4dc7-ad7a-32b88fba19d9",
   "metadata": {},
   "outputs": [],
   "source": [
    "import os"
   ]
  },
  {
   "cell_type": "code",
   "execution_count": 2,
   "id": "684cfda8-7741-4bcf-aabb-f12079c0a3b1",
   "metadata": {},
   "outputs": [
    {
     "name": "stdout",
     "output_type": "stream",
     "text": [
      "/Users/jsr/Documents/GitHub/DS-Student-Resources/DS101-Basic-Statistics/Examples/Team-Examples/Matthew-examples/Car.rda\n"
     ]
    }
   ],
   "source": [
    "abs_pathname = os.path.abspath(\"Car.rda\")\n",
    "\n",
    "print(abs_pathname)"
   ]
  },
  {
   "cell_type": "markdown",
   "id": "55d583f1-1ae6-446f-9cca-59230e421b13",
   "metadata": {},
   "source": [
    "#### Current Working Directory"
   ]
  },
  {
   "cell_type": "code",
   "execution_count": 3,
   "id": "22885641-00cd-4f52-a6dd-519655f71792",
   "metadata": {},
   "outputs": [
    {
     "name": "stdout",
     "output_type": "stream",
     "text": [
      "/Users/jsr/Documents/GitHub/DS-Student-Resources/DS101-Basic-Statistics/Examples/Team-Examples/Matthew-examples\n"
     ]
    }
   ],
   "source": [
    "current_working_dir = os.getcwd()\n",
    "\n",
    "print(current_working_dir)"
   ]
  },
  {
   "cell_type": "markdown",
   "id": "9b4c1260-8a54-4564-a24f-cc422e0026ea",
   "metadata": {},
   "source": [
    "#### Absolute File Path\n",
    "To create an absolute file path from a relative file path, call os.path.join() with the current working directory and relative file path as arguments to join the two pathname components into a complete pathname."
   ]
  },
  {
   "cell_type": "code",
   "execution_count": 4,
   "id": "12512bfe-0ab9-4c7c-84ac-79b4d024f57c",
   "metadata": {},
   "outputs": [
    {
     "name": "stdout",
     "output_type": "stream",
     "text": [
      "/Users/jsr/Documents/GitHub/DS-Student-Resources/DS101-Basic-Statistics/Examples/Team-Examples/Matthew-examples/Car.rda\n"
     ]
    }
   ],
   "source": [
    "abs_pathname = os.path.join(current_working_dir, \"Car.rda\")\n",
    "print(abs_pathname)"
   ]
  },
  {
   "cell_type": "code",
   "execution_count": null,
   "id": "c7ca0fc6-0f0d-4911-a35e-52fb3d222e2a",
   "metadata": {},
   "outputs": [],
   "source": []
  },
  {
   "cell_type": "code",
   "execution_count": null,
   "id": "5f72e0ff-b66b-40ef-8317-1f5b126d8776",
   "metadata": {},
   "outputs": [],
   "source": []
  }
 ],
 "metadata": {
  "kernelspec": {
   "display_name": "Python 3 (ipykernel)",
   "language": "python",
   "name": "python3"
  },
  "language_info": {
   "codemirror_mode": {
    "name": "ipython",
    "version": 3
   },
   "file_extension": ".py",
   "mimetype": "text/x-python",
   "name": "python",
   "nbconvert_exporter": "python",
   "pygments_lexer": "ipython3",
   "version": "3.9.9"
  }
 },
 "nbformat": 4,
 "nbformat_minor": 5
}
