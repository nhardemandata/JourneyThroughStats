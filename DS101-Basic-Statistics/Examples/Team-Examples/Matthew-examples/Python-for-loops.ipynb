{
 "cells": [
  {
   "cell_type": "markdown",
   "id": "457566a9-4ab7-49ae-9e99-0acfd41de528",
   "metadata": {},
   "source": [
    "# Python For Loops\n",
    "A `for` loop is used for iterating over a sequence (that is either a list, a tuple, a dictionary, a set, or a string).\n",
    "\n",
    "This is less like the `for` keyword in other programming languages, and works more like an iterator method as found in other object-orientated programming languages.\n",
    "\n",
    "With the `for` loop we can execute a set of statements, once for each item in a list, tuple, set etc."
   ]
  },
  {
   "cell_type": "markdown",
   "id": "75fb4fa8-16e0-4af6-9387-00528592ee18",
   "metadata": {},
   "source": [
    "## Example\n",
    "Print each fruit in a fruit list:"
   ]
  },
  {
   "cell_type": "code",
   "execution_count": null,
   "id": "b2947c8c-fe4a-41ed-94a2-b8d1c9afc58e",
   "metadata": {},
   "outputs": [],
   "source": [
    "fruits = [\"Mango\", \"Strawberry\", \"Coconut\"]\n",
    "for x in fruits:\n",
    "    print(x)"
   ]
  },
  {
   "cell_type": "markdown",
   "id": "b0d73425-745d-488f-b02b-3c281b945b6b",
   "metadata": {},
   "source": [
    "The for loop does not require an indexing variable to set beforehand.\n",
    "\n",
    "---\n",
    "\n",
    "## Looping Through a String\n",
    "Even strings are iterable objects, they contain a sequence of characters:\n",
    "\n",
    "### Example\n",
    "Loop through the letters in the word \"Coconut\":"
   ]
  },
  {
   "cell_type": "code",
   "execution_count": null,
   "id": "3e0bbc7e-b4e8-401d-a1ce-0395be81b83d",
   "metadata": {},
   "outputs": [],
   "source": [
    "for x in \"Coconut\":\n",
    "    print(x)"
   ]
  },
  {
   "cell_type": "markdown",
   "id": "d25670f3-9348-4489-9378-9cb177e8a023",
   "metadata": {},
   "source": [
    "---\n",
    "\n",
    "## The break Statement\n",
    "With the `break` statement we can stop the loop before it has looped through all the items:\n",
    "\n",
    "### Example\n",
    "Exit the loop when `x` is \"Strawberry\":"
   ]
  },
  {
   "cell_type": "code",
   "execution_count": null,
   "id": "89cd5975-2ec6-4c8c-9305-c4f553cb10c9",
   "metadata": {},
   "outputs": [],
   "source": [
    "fruits = [\"Mango\", \"Strawberry\", \"Coconut\"]\n",
    "for x in fruits:\n",
    "    print(x)\n",
    "    if x == \"Strawberry\":\n",
    "        break"
   ]
  },
  {
   "cell_type": "markdown",
   "id": "2711e3eb-950e-4259-9abc-ea9bffb85f42",
   "metadata": {},
   "source": [
    "### Example\n",
    "Exit the loop when `x` is \"Strawberry\", but this time the break comes before the print:"
   ]
  },
  {
   "cell_type": "code",
   "execution_count": null,
   "id": "2ebd1b54-a628-4b43-8fbd-66930b0636be",
   "metadata": {},
   "outputs": [],
   "source": [
    "fruits = [\"Mango\", \"Strawberry\", \"Coconut\"]\n",
    "for x in fruits:\n",
    "    if x == \"Strawberry\":\n",
    "        break\n",
    "    print(x)"
   ]
  },
  {
   "cell_type": "markdown",
   "id": "3f5bdbd9-f8cb-44cd-b687-2d27d0577500",
   "metadata": {},
   "source": [
    "---\n",
    "\n",
    "## The continue Statement\n",
    "With the `continue` statement we can stop the current iteration of the loop, and continue with the next:\n",
    "\n",
    "### Example\n",
    "Do not print Strawberry:"
   ]
  },
  {
   "cell_type": "code",
   "execution_count": null,
   "id": "f61e398e-ad7a-4494-87c6-5c7ffdd18af2",
   "metadata": {},
   "outputs": [],
   "source": [
    "fruits = [\"Mango\", \"Strawberry\", \"Coconut\"]\n",
    "for x in fruits:\n",
    "    if x == \"Strawberry\":\n",
    "        continue\n",
    "    print(x)"
   ]
  },
  {
   "cell_type": "markdown",
   "id": "b1e36a55-87b6-4c62-9f7f-c2533f4456b7",
   "metadata": {},
   "source": [
    "---\n",
    "\n",
    "## The range() Function\n",
    "To loop through a set of code a specified number of times, we can use the `range()` function,\n",
    "\n",
    "The `range()` function returns a sequence of numbers, starting from 0 by default, and increments by 1 (by default), and ends at a specified number.\n",
    "\n",
    "### Example\n",
    "Using the range() function:\n",
    "\n",
    "for `x` in `range(6)`:"
   ]
  },
  {
   "cell_type": "code",
   "execution_count": null,
   "id": "9102dc9f-9406-4381-ad3b-41811ae6d9f0",
   "metadata": {},
   "outputs": [],
   "source": [
    "for x in range(6):\n",
    "    print(x)"
   ]
  },
  {
   "cell_type": "markdown",
   "id": "0b18ec08-6fd7-42ce-8d9d-daed025026a0",
   "metadata": {},
   "source": [
    "The `range()` function defaults to 0 as a starting value, however it is possible to specify the starting value by adding a parameter: `range(2, 6)`, which means values from 2 to 6 (but not including 6):\n",
    "\n",
    "### Example\n",
    "Using the start parameter:"
   ]
  },
  {
   "cell_type": "code",
   "execution_count": null,
   "id": "f75b597a-8754-433b-a7b9-b71c2002bddd",
   "metadata": {},
   "outputs": [],
   "source": [
    "for x in range(2, 6):\n",
    "    print(x)"
   ]
  },
  {
   "cell_type": "markdown",
   "id": "6cc5e835-a316-4f3a-9003-5c7abbeac577",
   "metadata": {},
   "source": [
    "The `range()` function defaults to increment the sequence by 1, however it is possible to specify the increment value by adding a third parameter: `range(2, 30, 3)`:\n",
    "\n",
    "### Example\n",
    "Increment the sequence with 3 (default is 1):"
   ]
  },
  {
   "cell_type": "code",
   "execution_count": null,
   "id": "b4e2ba95-ee5e-4405-99bb-5a7f9d640077",
   "metadata": {},
   "outputs": [],
   "source": [
    "for x in range(2, 30, 3):\n",
    "    print(x)"
   ]
  },
  {
   "cell_type": "markdown",
   "id": "5d793500-5789-4b7b-b34d-197768fda368",
   "metadata": {},
   "source": [
    "---\n",
    "\n",
    "## Else in For Loop\n",
    "The `else` keyword in a `for` loop specifies a block of code to be executed when the loop is finished:\n",
    "\n",
    "### Example\n",
    "Print all numbers from `0` to `5`, and print a message when the loop has ended:"
   ]
  },
  {
   "cell_type": "code",
   "execution_count": null,
   "id": "c9f02e1a-fc02-4450-9553-1fd0ebd6d64c",
   "metadata": {},
   "outputs": [],
   "source": [
    "for x in range(6):\n",
    "    print(x)\n",
    "else:\n",
    "    print(\"Finally Finished!\")"
   ]
  },
  {
   "cell_type": "markdown",
   "id": "42b1aaf5-0c43-4759-84d8-be4452d4a287",
   "metadata": {},
   "source": [
    "### Example\n",
    "Break the loop when `x` is `3`, and see what happens with the `else` block:"
   ]
  },
  {
   "cell_type": "code",
   "execution_count": null,
   "id": "634c99a3-603e-492f-a58d-a39da95f735d",
   "metadata": {},
   "outputs": [],
   "source": [
    "for x in range(6):\n",
    "    if x == 3: break\n",
    "    print(x)\n",
    "else:\n",
    "    print(\"Finally finished!\")"
   ]
  },
  {
   "cell_type": "markdown",
   "id": "de5cc71a-7d38-4f1f-aa83-922c051fc78b",
   "metadata": {},
   "source": [
    "---\n",
    "\n",
    "## Nested Loops\n",
    "A nested loop is a loop inside a loop.\n",
    "\n",
    "The \"inner loop\" will be executed one time for each iteration of the \"outer loop\":"
   ]
  },
  {
   "cell_type": "code",
   "execution_count": null,
   "id": "a76aedab-124b-48c1-aff6-170c987ce599",
   "metadata": {},
   "outputs": [],
   "source": [
    "adj = [\"red\", \"big\", \"tasty\"]\n",
    "fruits = [\"Mango\", \"Strawberry\", \"Coconut\"]\n",
    "\n",
    "for x in adj:\n",
    "    for y in fruits:\n",
    "        print(x, y)"
   ]
  },
  {
   "cell_type": "markdown",
   "id": "0556037d-3adf-46f1-8e52-8e92e9dab016",
   "metadata": {},
   "source": [
    "---\n",
    "\n",
    "## The pass Statement\n",
    "`for` loops cannot be empty, but if you for some reason you have a `for` loop with no content, put in the `pass` statement to avoid getting an error."
   ]
  },
  {
   "cell_type": "code",
   "execution_count": null,
   "id": "e11a5c0a-e23a-4a7d-af0c-87e6267dbcf1",
   "metadata": {},
   "outputs": [],
   "source": [
    "for x in [0, 1, 2]:\n",
    "    pass"
   ]
  },
  {
   "cell_type": "code",
   "execution_count": null,
   "id": "344db935-0dcb-4e5f-a317-c1975290ef26",
   "metadata": {},
   "outputs": [],
   "source": []
  },
  {
   "cell_type": "code",
   "execution_count": null,
   "id": "23ef9b38-6369-45e7-9e30-50933e49fbf2",
   "metadata": {},
   "outputs": [],
   "source": []
  },
  {
   "cell_type": "markdown",
   "id": "8f99f0a6-3a20-43a4-8e56-818affb02d94",
   "metadata": {},
   "source": [
    "[Credits](https://www.w3schools.com/python/python_for_loops.asp)"
   ]
  }
 ],
 "metadata": {
  "kernelspec": {
   "display_name": "Python 3 (ipykernel)",
   "language": "python",
   "name": "python3"
  },
  "language_info": {
   "codemirror_mode": {
    "name": "ipython",
    "version": 3
   },
   "file_extension": ".py",
   "mimetype": "text/x-python",
   "name": "python",
   "nbconvert_exporter": "python",
   "pygments_lexer": "ipython3",
   "version": "3.9.9"
  }
 },
 "nbformat": 4,
 "nbformat_minor": 5
}
