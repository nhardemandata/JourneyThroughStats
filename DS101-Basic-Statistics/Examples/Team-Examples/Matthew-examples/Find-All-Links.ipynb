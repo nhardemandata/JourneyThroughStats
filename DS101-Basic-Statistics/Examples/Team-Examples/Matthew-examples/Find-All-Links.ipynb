{
 "cells": [
  {
   "cell_type": "code",
   "execution_count": 1,
   "id": "7228a011-8525-404b-8fba-e21d4b3c9e91",
   "metadata": {},
   "outputs": [],
   "source": [
    "import requests\n",
    "import re"
   ]
  },
  {
   "cell_type": "code",
   "execution_count": 5,
   "id": "67fa3739-8bf9-4986-bb4e-208442ef9ef0",
   "metadata": {},
   "outputs": [
    {
     "name": "stdin",
     "output_type": "stream",
     "text": [
      "Enter a URL (include `http://`):  http://google.com\n"
     ]
    }
   ],
   "source": [
    "# get url\n",
    "url = input('Enter a URL (include `http://`): ')"
   ]
  },
  {
   "cell_type": "code",
   "execution_count": 6,
   "id": "d8a2caf6-3106-4528-aaf9-ee853efd3a78",
   "metadata": {},
   "outputs": [],
   "source": [
    "# connect to the url\n",
    "website = requests.get(url)"
   ]
  },
  {
   "cell_type": "code",
   "execution_count": 7,
   "id": "04af7407-8c13-4522-8e54-44f853182ea0",
   "metadata": {},
   "outputs": [],
   "source": [
    "# read html\n",
    "html = website.text"
   ]
  },
  {
   "cell_type": "code",
   "execution_count": 8,
   "id": "5cb3a080-2c7b-4925-a24e-3b9683fc5bd8",
   "metadata": {},
   "outputs": [],
   "source": [
    "# use re.findall to grab all the links\n",
    "links = re.findall('\"((http|ftp)s?://.*?)\"', html)"
   ]
  },
  {
   "cell_type": "code",
   "execution_count": 9,
   "id": "fd51aa4b-1744-44f9-b0bf-a71fe5f6bfaa",
   "metadata": {},
   "outputs": [
    {
     "name": "stdout",
     "output_type": "stream",
     "text": [
      "http://schema.org/WebPage\n",
      "https://www.google.com/logos/doodles/2021/seasonal-holidays-2021-6753651837109324-2xa.gif\n",
      "https://www.google.com/logos/doodles/2021/seasonal-holidays-2021-6753651837109324-2xa.gif\n",
      "https://www.google.com/logos/doodles/2021/seasonal-holidays-2021-6753651837109324-2xa.gif\n",
      "http://www.google.com/imghp?hl=en&tab=wi\n",
      "http://maps.google.com/maps?hl=en&tab=wl\n",
      "https://play.google.com/?hl=en&tab=w8\n",
      "http://www.youtube.com/?gl=US&tab=w1\n",
      "https://news.google.com/?tab=wn\n",
      "https://mail.google.com/mail/?tab=wm\n",
      "https://drive.google.com/?tab=wo\n",
      "https://www.google.com/intl/en/about/products?tab=wh\n",
      "http://www.google.com/history/optout?hl=en\n",
      "https://accounts.google.com/ServiceLogin?hl=en&passive=true&continue=http://www.google.com/&ec=GAZAAQ\n"
     ]
    }
   ],
   "source": [
    "# output links\n",
    "for link in links:\n",
    "    print(link[0])"
   ]
  },
  {
   "cell_type": "code",
   "execution_count": null,
   "id": "fd111a46-66c1-4cc8-ade4-ed500746d9ba",
   "metadata": {},
   "outputs": [],
   "source": []
  }
 ],
 "metadata": {
  "kernelspec": {
   "display_name": "Python 3 (ipykernel)",
   "language": "python",
   "name": "python3"
  },
  "language_info": {
   "codemirror_mode": {
    "name": "ipython",
    "version": 3
   },
   "file_extension": ".py",
   "mimetype": "text/x-python",
   "name": "python",
   "nbconvert_exporter": "python",
   "pygments_lexer": "ipython3",
   "version": "3.9.9"
  }
 },
 "nbformat": 4,
 "nbformat_minor": 5
}
