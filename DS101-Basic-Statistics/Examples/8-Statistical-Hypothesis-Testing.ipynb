{
 "cells": [
  {
   "cell_type": "markdown",
   "id": "f9f9bce4-1823-4d42-9a3f-2a9c7222a6bc",
   "metadata": {},
   "source": [
    "## There are several types of test statistics\n",
    "\n",
    "ref: https://www.scribbr.com/statistics/statistical-tests/\n",
    "\n",
    "Here is a summary of the most common test statistics, their hypotheses, and the types of statistical tests that use them.\n",
    "Different statistical tests will have slightly different ways of calculating these test statistics, but the underlying hypotheses and interpretations of the test statistic stay the same.\n",
    "\n",
    "### t-value\n",
    "Test statistic for Null and alternative hypotheses\n",
    "\n",
    "- Null: The means of two groups are equal\n",
    "- Alternative: The means of two groups are not equal\n",
    "\n",
    "    - T-test\n",
    "    - Regression tests\n",
    "\n",
    "### z-value\n",
    "- Null: The means of two groups are equal\n",
    "- Alternative:The means of two groups are not equal\n",
    "\n",
    "    - Z-test\n",
    "\n",
    "### F-value\n",
    "- Null: The variation among two or more groups is greater than or equal to the variation between the groups\n",
    "- Alternative: The variation among two or more groups is smaller than the variation between the groups\n",
    "\n",
    "    - ANOVA\n",
    "    - ANCOVA\n",
    "    - MANOVA\n",
    "\n",
    "### X2-value\n",
    "- Null: Two samples are independent\n",
    "- Alternative: Two samples are not independent (i.e. they are correlated)\n",
    "\n",
    "    - Chi-squared test\n",
    "    - Non-parametric correlation tests\n",
    "\n",
    "## Interpreting test statistics\n",
    "For any combination of sample sizes and number of predictor variables, a statistical test will produce a predicted distribution for the test statistic. This shows the most likely range of values that will occur if your data follows the null hypothesis of the statistical test.\n",
    "\n",
    "The more extreme your test statistic – the further to the edge of the range of predicted test values it is – the less likely it is that your data could have been generated under the null hypothesis of that statistical test.\n",
    "The agreement between your calculated test statistic and the predicted values is described by the p-value. The smaller the p-value, the less likely your test statistic is to have occurred under the null hypothesis of the statistical test.\n",
    "\n",
    "Because the test statistic is generated from your observed data, this ultimately means that the smaller the p-value, the less likely it is that your data could have occurred if the null hypothesis was true.\n",
    "\n",
    "## Example\n",
    "\n",
    "Your calculated t-value of 2.36 is far from the expected range of t-values under the null hypothesis, and the p-value is < 0.01. This means that you would expect to see a t-value as large or larger than 2.36 less than 1% of the time if the true relationship between temperature and flowering dates was 0.Therefore, it is statistically unlikely that your observed data could have occurred under the null hypothesis. Using a significance threshold of 0.05, you can say that the result is statistically significant."
   ]
  },
  {
   "cell_type": "code",
   "execution_count": null,
   "id": "1d0cfa0e-70d9-4362-b9e5-1db146191ef4",
   "metadata": {},
   "outputs": [],
   "source": []
  },
  {
   "cell_type": "code",
   "execution_count": 1,
   "id": "fe6c9363-0ca7-4e2a-a666-7570867e9827",
   "metadata": {},
   "outputs": [
    {
     "data": {
      "text/html": [
       "<Iframe src=https://en.wikipedia.org/wiki/Statistical_hypothesis_testing width=800 height=600</iframe>\n"
      ],
      "text/plain": [
       "<IPython.core.display.HTML object>"
      ]
     },
     "metadata": {},
     "output_type": "display_data"
    }
   ],
   "source": [
    "%%html\n",
    "<Iframe src=https://en.wikipedia.org/wiki/Statistical_hypothesis_testing width=800 height=600</iframe>"
   ]
  },
  {
   "cell_type": "code",
   "execution_count": null,
   "id": "fe4af4ba-ad4f-4d95-b97b-f9eebe1ff3c0",
   "metadata": {},
   "outputs": [],
   "source": []
  }
 ],
 "metadata": {
  "kernelspec": {
   "display_name": "Python 3 (ipykernel)",
   "language": "python",
   "name": "python3"
  },
  "language_info": {
   "codemirror_mode": {
    "name": "ipython",
    "version": 3
   },
   "file_extension": ".py",
   "mimetype": "text/x-python",
   "name": "python",
   "nbconvert_exporter": "python",
   "pygments_lexer": "ipython3",
   "version": "3.9.9"
  }
 },
 "nbformat": 4,
 "nbformat_minor": 5
}
