{
 "cells": [
  {
   "cell_type": "markdown",
   "id": "408d6675-1402-434b-9761-59680158b4ef",
   "metadata": {},
   "source": [
    "# Page 2 - Single Event Probability Example"
   ]
  },
  {
   "cell_type": "code",
   "execution_count": null,
   "id": "8ea89b5a-2198-4db4-b2af-e019d586defe",
   "metadata": {},
   "outputs": [],
   "source": []
  }
 ],
 "metadata": {
  "kernelspec": {
   "display_name": "Python 3 (ipykernel)",
   "language": "python",
   "name": "python3"
  },
  "language_info": {
   "codemirror_mode": {
    "name": "ipython",
    "version": 3
   },
   "file_extension": ".py",
   "mimetype": "text/x-python",
   "name": "python",
   "nbconvert_exporter": "python",
   "pygments_lexer": "ipython3",
   "version": "3.9.9"
  }
 },
 "nbformat": 4,
 "nbformat_minor": 5
}
