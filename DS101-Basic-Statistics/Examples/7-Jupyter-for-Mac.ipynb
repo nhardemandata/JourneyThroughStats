{
 "cells": [
  {
   "cell_type": "markdown",
   "id": "4cc8e8f4-17f6-4229-a578-ebb7932dc80f",
   "metadata": {},
   "source": [
    "# Jupyter for Mac\n",
    "This notebook will cover the basics of running a jupyter session on a Mac.\n",
    "\n",
    "It assumes the relevant packages have been installed already (see:[Homebrew.ipynb](../Installation/Homebrew.ipynb)) "
   ]
  },
  {
   "cell_type": "markdown",
   "id": "2661e076-ae5b-4263-96ec-a926c1127a7f",
   "metadata": {},
   "source": [
    "## Start Jupyter Lab\n",
    "Open the terminal program (Command + Space and start typing terminal)\n",
    "\n",
    "In the terminal type `jupyter lab`\n",
    "\n",
    "This will open a webpage like the one below.\n",
    "\n",
    "**NOTE**: You must leave your terminal running while in the session. Closing the terminal session will end the Jupyter session."
   ]
  },
  {
   "cell_type": "markdown",
   "id": "61dc06c7-e775-4d98-bd9c-884ef80ee8ba",
   "metadata": {},
   "source": [
    "![Image of Launcher Page](../Media/Jupyter-Launcher.png)"
   ]
  },
  {
   "cell_type": "markdown",
   "id": "2ffd9925-38ec-4c11-b876-bb8e14d4de7c",
   "metadata": {},
   "source": [
    "\n",
    "\n"
   ]
  },
  {
   "cell_type": "markdown",
   "id": "a954991c-db83-43e4-b55e-6f377f65dee7",
   "metadata": {},
   "source": [
    "## The Launcher Page\n",
    "\n",
    "1. Notebooks-launches an interactive notebook with the specified kernel. Can run multiple languages if configured properly. For this course, you should have the three listed below.\n",
    "    1. Python\n",
    "    1. R\n",
    "    1. Julia\n",
    "1. Console-launches a console of the specified kernel. Consoles are more limited than notebooks. Should have the same options as for notebooks.\n",
    "1. Other-More options for running code in various formats. Some key features are outlined below:\n",
    "    1. Terminal-can be used to navigate file system and permissions\n",
    "    1. Text File-Basic text editor"
   ]
  },
  {
   "cell_type": "markdown",
   "id": "f14f6ba1-ce8e-4743-b162-6ec58b29a38c",
   "metadata": {},
   "source": [
    "# Click the Python Notebook Launcher to start an Interactive Python Notebook\n",
    "\n",
    "Notebooks are divided into cells.\n",
    "\n",
    "Cells come in three types:\n",
    "\n",
    "![Image of Cell Dropdown Page](../Media/Jupyter-Dropdown.png)\n",
    "\n",
    "\n",
    "To run a cell, select it and press Shift+Enter. This will also create a new cell below the one you are in.\n",
    "\n",
    "![Image of Example Notebook](../Media/Jupyter-Cell-Types.png)\n",
    "\n",
    "The file name can be changed on the left-hand menu by right-clicking and selecting `Rename`.\n",
    "\n",
    "The notebook can be saved by selecting the save icon (floppy disk) in the top left of the notebook pane. "
   ]
  },
  {
   "cell_type": "markdown",
   "id": "5aabfffa-cb2e-480d-8a98-5c54ea684f6b",
   "metadata": {},
   "source": [
    "# Closing your session\n",
    "\n",
    "Once files have been saved, you can close the browser window for the Jupyter lab. \n",
    "\n",
    "In the terminal that is running the session, press control+c and then enter 'y' to shut down the program."
   ]
  }
 ],
 "metadata": {
  "kernelspec": {
   "display_name": "Python 3 (ipykernel)",
   "language": "python",
   "name": "python3"
  },
  "language_info": {
   "codemirror_mode": {
    "name": "ipython",
    "version": 3
   },
   "file_extension": ".py",
   "mimetype": "text/x-python",
   "name": "python",
   "nbconvert_exporter": "python",
   "pygments_lexer": "ipython3",
   "version": "3.9.9"
  }
 },
 "nbformat": 4,
 "nbformat_minor": 5
}
