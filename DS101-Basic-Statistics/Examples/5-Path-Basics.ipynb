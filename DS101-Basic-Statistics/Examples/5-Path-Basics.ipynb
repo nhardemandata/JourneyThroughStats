{
 "cells": [
  {
   "cell_type": "markdown",
   "id": "b84134b2-96ad-47d1-98f5-90b5fb422d75",
   "metadata": {},
   "source": [
    "# Paths"
   ]
  },
  {
   "cell_type": "markdown",
   "id": "0961e03d-b46f-46b1-9b49-053f5102ff66",
   "metadata": {},
   "source": [
    "**PATH**: A unique identifier for your location on the computer system\n",
    "\n",
    "**NOTE**: Data files are stored at a specific path on the system. To load or manage data files, you must first locate them."
   ]
  },
  {
   "cell_type": "code",
   "execution_count": 1,
   "id": "6a0575a9-0dc3-4408-b787-d834dd7fd147",
   "metadata": {},
   "outputs": [
    {
     "data": {
      "text/plain": [
       "'/Users/jsr/Documents/GitHub/DS-Student-Resources/DS101-Basic-Statistics/Examples'"
      ]
     },
     "execution_count": 1,
     "metadata": {},
     "output_type": "execute_result"
    }
   ],
   "source": [
    "# To see you current path use:\n",
    "import os\n",
    "os.getcwd()"
   ]
  },
  {
   "cell_type": "markdown",
   "id": "4cba32f8-0c4c-4a13-86e8-1fa7f230ce5e",
   "metadata": {},
   "source": [
    "The path returned above will vary from computer to computer.\n",
    "\n",
    "However, the end of the path should be the same (since its the same repo structure from GitHub).\n",
    "\n",
    "In this case, the last directory should be 'Examples'"
   ]
  },
  {
   "cell_type": "markdown",
   "id": "84832c33-caa2-477a-9d31-536600b8ff1e",
   "metadata": {},
   "source": [
    "# List\n",
    "\n",
    "The **ls** command (list) will show the contents of the current working directory (CWD)."
   ]
  },
  {
   "cell_type": "code",
   "execution_count": 2,
   "id": "58625987-00eb-4bcd-86e5-398c906a0e3a",
   "metadata": {},
   "outputs": [
    {
     "name": "stdout",
     "output_type": "stream",
     "text": [
      "0-Navigating-the-Companion-Notebook-Series.ipynb\n",
      "1-Github-Basics.ipynb\n",
      "10-Magics.ipynb\n",
      "11-Jupyter-Kernels.ipynb\n",
      "2-Jupyter-Basics.ipynb\n",
      "3-Math-Basics.ipynb\n",
      "4-Latex-Basics.ipynb\n",
      "5-Path-Basics.ipynb\n",
      "6-Print-Hello-Example.ipynb\n",
      "7-Jupyter-for-Mac.ipynb\n",
      "8-Statistical-Hypothesis-Testing.ipynb\n",
      "9-Probability.ipynb\n",
      "DS101L2-P2-Single-Event-Probability.ipynb\n",
      "Git Commands.ipynb\n",
      "\u001b[34mTeam-Examples\u001b[m\u001b[m/\n",
      "readme.md\n"
     ]
    }
   ],
   "source": [
    "ls"
   ]
  },
  {
   "cell_type": "markdown",
   "id": "c1d56fbc-ddd9-4cf0-86d1-4883c0fc3c53",
   "metadata": {},
   "source": [
    "# Absolute vs. Relative Paths"
   ]
  },
  {
   "cell_type": "markdown",
   "id": "1a422e7a-659f-4c8d-b129-676d4907c39c",
   "metadata": {},
   "source": [
    "Paths can be **absolute** or **relative**\n",
    "\n",
    "**Absolute Path**: Full path that begins at the root of the system. For PC, this is usually 'C:' and for Mac/Linux its '/' (AKA root).\n",
    "\n",
    "**Relative Path**: Path that starts from current location. To go up a directory, use \"..\""
   ]
  },
  {
   "cell_type": "code",
   "execution_count": 25,
   "id": "c70c215d-55ca-49ce-9a4a-c15b2042eb45",
   "metadata": {},
   "outputs": [
    {
     "name": "stdout",
     "output_type": "stream",
     "text": [
      "/Users/jsr/Documents/GitHub/DS-Student-Resources/DS101-Basic-Statistics/Examples\n"
     ]
    }
   ],
   "source": [
    "cwd = os.getcwd()\n",
    "print(cwd)"
   ]
  },
  {
   "cell_type": "markdown",
   "id": "e41a0181-5646-432d-9fba-9171b2029f23",
   "metadata": {},
   "source": [
    "The above code returns an absolute path to where you are currently in the system"
   ]
  },
  {
   "cell_type": "markdown",
   "id": "b7b0a8f3-2d8c-45f7-99c4-5d7130002660",
   "metadata": {},
   "source": [
    "## Relative Paths"
   ]
  },
  {
   "cell_type": "code",
   "execution_count": 26,
   "id": "4f157a3c-44c5-4e85-831f-f106397452a7",
   "metadata": {},
   "outputs": [],
   "source": [
    "os.chdir('..')"
   ]
  },
  {
   "cell_type": "code",
   "execution_count": 27,
   "id": "a2f21116-239f-4291-9fbf-2a016da978ef",
   "metadata": {},
   "outputs": [
    {
     "data": {
      "text/plain": [
       "'/Users/jsr/Documents/GitHub/DS-Student-Resources/DS101-Basic-Statistics'"
      ]
     },
     "execution_count": 27,
     "metadata": {},
     "output_type": "execute_result"
    }
   ],
   "source": [
    "os.getcwd()"
   ]
  },
  {
   "cell_type": "code",
   "execution_count": 28,
   "id": "6e0e1351-9212-4bbc-97e3-5260ab57a555",
   "metadata": {},
   "outputs": [],
   "source": [
    "os.chdir('..')"
   ]
  },
  {
   "cell_type": "code",
   "execution_count": 29,
   "id": "534ad8ca-94f4-419d-882b-097fd66a46ce",
   "metadata": {},
   "outputs": [
    {
     "data": {
      "text/plain": [
       "'/Users/jsr/Documents/GitHub/DS-Student-Resources'"
      ]
     },
     "execution_count": 29,
     "metadata": {},
     "output_type": "execute_result"
    }
   ],
   "source": [
    "os.getcwd()"
   ]
  },
  {
   "cell_type": "code",
   "execution_count": 30,
   "id": "13943d42-97d2-4903-9cd9-d6b0152c782e",
   "metadata": {},
   "outputs": [],
   "source": [
    "os.chdir('..')"
   ]
  },
  {
   "cell_type": "code",
   "execution_count": 31,
   "id": "22664fd9-3243-46eb-ac85-df9eaa99c24a",
   "metadata": {},
   "outputs": [
    {
     "data": {
      "text/plain": [
       "'/Users/jsr/Documents/GitHub'"
      ]
     },
     "execution_count": 31,
     "metadata": {},
     "output_type": "execute_result"
    }
   ],
   "source": [
    "os.getcwd()"
   ]
  },
  {
   "cell_type": "code",
   "execution_count": 32,
   "id": "f5e5d776-d3d2-44d6-9f52-cbf59f3d5422",
   "metadata": {},
   "outputs": [
    {
     "name": "stdout",
     "output_type": "stream",
     "text": [
      "/Users/jsr/Documents/GitHub/DS-Student-Resources/DS101-Basic-Statistics/Examples\n"
     ]
    }
   ],
   "source": [
    "# To change back to original working directory\n",
    "os.chdir(cwd)\n",
    "print(os.getcwd())"
   ]
  },
  {
   "cell_type": "code",
   "execution_count": 33,
   "id": "47225551-4592-422e-b769-2dbe405ee61b",
   "metadata": {},
   "outputs": [],
   "source": [
    "os.chdir('../../../')"
   ]
  },
  {
   "cell_type": "code",
   "execution_count": 34,
   "id": "e2c2d76d-7f81-460d-b973-259b8871044f",
   "metadata": {},
   "outputs": [
    {
     "data": {
      "text/plain": [
       "'/Users/jsr/Documents/GitHub'"
      ]
     },
     "execution_count": 34,
     "metadata": {},
     "output_type": "execute_result"
    }
   ],
   "source": [
    "os.getcwd()"
   ]
  },
  {
   "cell_type": "markdown",
   "id": "6255a62f-47a6-4f1e-b7af-507777d9d2cd",
   "metadata": {},
   "source": [
    "## The 'Home' directory\n",
    "\n",
    "Users have a home directory which normally contains Desktop, Documents and other common directories."
   ]
  },
  {
   "cell_type": "code",
   "execution_count": 7,
   "id": "fb293fc4-2ab5-4124-b70b-ac65d2cba37e",
   "metadata": {},
   "outputs": [
    {
     "name": "stdout",
     "output_type": "stream",
     "text": [
      "/Users/dannylumian\n"
     ]
    }
   ],
   "source": [
    "from os.path import expanduser\n",
    "home = expanduser(\"~\")\n",
    "print(home)"
   ]
  },
  {
   "cell_type": "code",
   "execution_count": 8,
   "id": "bdd69e2a-7a0d-4aa3-b732-2765f8872b04",
   "metadata": {},
   "outputs": [],
   "source": [
    "os.chdir(home)"
   ]
  },
  {
   "cell_type": "markdown",
   "id": "bcf500c1-3c0a-47a8-9c69-c252b7068204",
   "metadata": {},
   "source": [
    "## Path Creation with os.path.join"
   ]
  },
  {
   "cell_type": "code",
   "execution_count": 9,
   "id": "6f503ada-eacd-4c7f-85b0-243499033e11",
   "metadata": {},
   "outputs": [],
   "source": [
    "test_path = os.path.join('/', 'Users', 'dannylumian')"
   ]
  },
  {
   "cell_type": "code",
   "execution_count": 10,
   "id": "36b1ff1f-7c69-4312-85f3-c43e2a4e9606",
   "metadata": {},
   "outputs": [
    {
     "data": {
      "text/plain": [
       "'/Users/dannylumian'"
      ]
     },
     "execution_count": 10,
     "metadata": {},
     "output_type": "execute_result"
    }
   ],
   "source": [
    "test_path"
   ]
  },
  {
   "cell_type": "code",
   "execution_count": 11,
   "id": "37db97ed-8883-4969-8a05-b56211d3f1ea",
   "metadata": {},
   "outputs": [],
   "source": [
    "os.chdir(test_path)"
   ]
  },
  {
   "cell_type": "code",
   "execution_count": 12,
   "id": "bbe61149-fb77-45e0-8edf-2eccc9d163ff",
   "metadata": {},
   "outputs": [
    {
     "data": {
      "text/plain": [
       "'/Users/dannylumian'"
      ]
     },
     "execution_count": 12,
     "metadata": {},
     "output_type": "execute_result"
    }
   ],
   "source": [
    "os.getcwd()"
   ]
  },
  {
   "cell_type": "code",
   "execution_count": 13,
   "id": "59e25b27-bbd4-4af1-8737-3897c8ec6e24",
   "metadata": {},
   "outputs": [
    {
     "name": "stdout",
     "output_type": "stream",
     "text": [
      "\u001b[34mDesktop\u001b[m\u001b[m/   \u001b[34mDownloads\u001b[m\u001b[m/ \u001b[34mMovies\u001b[m\u001b[m/    \u001b[34mPictures\u001b[m\u001b[m/\n",
      "\u001b[34mDocuments\u001b[m\u001b[m/ \u001b[34mLibrary\u001b[m\u001b[m/   \u001b[34mMusic\u001b[m\u001b[m/     \u001b[34mPublic\u001b[m\u001b[m/\n"
     ]
    }
   ],
   "source": [
    "ls"
   ]
  },
  {
   "cell_type": "markdown",
   "id": "14037977-3e98-43d1-ab3a-f2a337f69648",
   "metadata": {},
   "source": [
    "# Locate and open Ages.csv located in Data folder"
   ]
  },
  {
   "cell_type": "code",
   "execution_count": 14,
   "id": "898ea44e-b422-42e8-904b-e2e239aa6655",
   "metadata": {},
   "outputs": [
    {
     "name": "stdout",
     "output_type": "stream",
     "text": [
      "/Users/dannylumian/Documents/GitHub/DS-Student-Resources/DS101-Basic-Statistics/Examples\n"
     ]
    }
   ],
   "source": [
    "# Change back to starting directory\n",
    "os.chdir(cwd)\n",
    "print(os.getcwd())"
   ]
  },
  {
   "cell_type": "code",
   "execution_count": 15,
   "id": "11b2eab8-eaf5-4e9c-8b8d-ccc0108d69dd",
   "metadata": {},
   "outputs": [],
   "source": [
    "import pandas as pd"
   ]
  },
  {
   "cell_type": "markdown",
   "id": "cba05bc9-97c4-416d-98ee-9e85095ee0c9",
   "metadata": {},
   "source": [
    "### The below code fails because of an incorrect path. Ages.csv does not exist in this directory."
   ]
  },
  {
   "cell_type": "code",
   "execution_count": 16,
   "id": "efec1cda-74f7-4825-864b-1268b1206af9",
   "metadata": {},
   "outputs": [
    {
     "name": "stdout",
     "output_type": "stream",
     "text": [
      "1_Github_Basics.ipynb   4-Latex-Basics.ipynb    readme.md\n",
      "2_Jupyter_Basics.ipynb  5-Path-Basics.ipynb\n",
      "3_Math_Basics.ipynb     \u001b[34mJB\u001b[m\u001b[m/\n"
     ]
    }
   ],
   "source": [
    "ls"
   ]
  },
  {
   "cell_type": "code",
   "execution_count": 17,
   "id": "6ea035c5-bb73-427a-bdc7-115ca8599583",
   "metadata": {},
   "outputs": [
    {
     "ename": "FileNotFoundError",
     "evalue": "[Errno 2] No such file or directory: 'Ages.csv'",
     "output_type": "error",
     "traceback": [
      "\u001b[0;31m---------------------------------------------------------------------------\u001b[0m",
      "\u001b[0;31mFileNotFoundError\u001b[0m                         Traceback (most recent call last)",
      "\u001b[0;32m/var/folders/9q/yp0trhm570d82rk1lfh67tq00000gn/T/ipykernel_4164/842573142.py\u001b[0m in \u001b[0;36m<module>\u001b[0;34m\u001b[0m\n\u001b[0;32m----> 1\u001b[0;31m \u001b[0mdf\u001b[0m \u001b[0;34m=\u001b[0m \u001b[0mpd\u001b[0m\u001b[0;34m.\u001b[0m\u001b[0mread_csv\u001b[0m\u001b[0;34m(\u001b[0m\u001b[0;34m'Ages.csv'\u001b[0m\u001b[0;34m)\u001b[0m\u001b[0;34m\u001b[0m\u001b[0;34m\u001b[0m\u001b[0m\n\u001b[0m",
      "\u001b[0;32m/usr/local/lib/python3.9/site-packages/pandas/util/_decorators.py\u001b[0m in \u001b[0;36mwrapper\u001b[0;34m(*args, **kwargs)\u001b[0m\n\u001b[1;32m    309\u001b[0m                     \u001b[0mstacklevel\u001b[0m\u001b[0;34m=\u001b[0m\u001b[0mstacklevel\u001b[0m\u001b[0;34m,\u001b[0m\u001b[0;34m\u001b[0m\u001b[0;34m\u001b[0m\u001b[0m\n\u001b[1;32m    310\u001b[0m                 )\n\u001b[0;32m--> 311\u001b[0;31m             \u001b[0;32mreturn\u001b[0m \u001b[0mfunc\u001b[0m\u001b[0;34m(\u001b[0m\u001b[0;34m*\u001b[0m\u001b[0margs\u001b[0m\u001b[0;34m,\u001b[0m \u001b[0;34m**\u001b[0m\u001b[0mkwargs\u001b[0m\u001b[0;34m)\u001b[0m\u001b[0;34m\u001b[0m\u001b[0;34m\u001b[0m\u001b[0m\n\u001b[0m\u001b[1;32m    312\u001b[0m \u001b[0;34m\u001b[0m\u001b[0m\n\u001b[1;32m    313\u001b[0m         \u001b[0;32mreturn\u001b[0m \u001b[0mwrapper\u001b[0m\u001b[0;34m\u001b[0m\u001b[0;34m\u001b[0m\u001b[0m\n",
      "\u001b[0;32m/usr/local/lib/python3.9/site-packages/pandas/io/parsers/readers.py\u001b[0m in \u001b[0;36mread_csv\u001b[0;34m(filepath_or_buffer, sep, delimiter, header, names, index_col, usecols, squeeze, prefix, mangle_dupe_cols, dtype, engine, converters, true_values, false_values, skipinitialspace, skiprows, skipfooter, nrows, na_values, keep_default_na, na_filter, verbose, skip_blank_lines, parse_dates, infer_datetime_format, keep_date_col, date_parser, dayfirst, cache_dates, iterator, chunksize, compression, thousands, decimal, lineterminator, quotechar, quoting, doublequote, escapechar, comment, encoding, encoding_errors, dialect, error_bad_lines, warn_bad_lines, on_bad_lines, delim_whitespace, low_memory, memory_map, float_precision, storage_options)\u001b[0m\n\u001b[1;32m    584\u001b[0m     \u001b[0mkwds\u001b[0m\u001b[0;34m.\u001b[0m\u001b[0mupdate\u001b[0m\u001b[0;34m(\u001b[0m\u001b[0mkwds_defaults\u001b[0m\u001b[0;34m)\u001b[0m\u001b[0;34m\u001b[0m\u001b[0;34m\u001b[0m\u001b[0m\n\u001b[1;32m    585\u001b[0m \u001b[0;34m\u001b[0m\u001b[0m\n\u001b[0;32m--> 586\u001b[0;31m     \u001b[0;32mreturn\u001b[0m \u001b[0m_read\u001b[0m\u001b[0;34m(\u001b[0m\u001b[0mfilepath_or_buffer\u001b[0m\u001b[0;34m,\u001b[0m \u001b[0mkwds\u001b[0m\u001b[0;34m)\u001b[0m\u001b[0;34m\u001b[0m\u001b[0;34m\u001b[0m\u001b[0m\n\u001b[0m\u001b[1;32m    587\u001b[0m \u001b[0;34m\u001b[0m\u001b[0m\n\u001b[1;32m    588\u001b[0m \u001b[0;34m\u001b[0m\u001b[0m\n",
      "\u001b[0;32m/usr/local/lib/python3.9/site-packages/pandas/io/parsers/readers.py\u001b[0m in \u001b[0;36m_read\u001b[0;34m(filepath_or_buffer, kwds)\u001b[0m\n\u001b[1;32m    480\u001b[0m \u001b[0;34m\u001b[0m\u001b[0m\n\u001b[1;32m    481\u001b[0m     \u001b[0;31m# Create the parser.\u001b[0m\u001b[0;34m\u001b[0m\u001b[0;34m\u001b[0m\u001b[0m\n\u001b[0;32m--> 482\u001b[0;31m     \u001b[0mparser\u001b[0m \u001b[0;34m=\u001b[0m \u001b[0mTextFileReader\u001b[0m\u001b[0;34m(\u001b[0m\u001b[0mfilepath_or_buffer\u001b[0m\u001b[0;34m,\u001b[0m \u001b[0;34m**\u001b[0m\u001b[0mkwds\u001b[0m\u001b[0;34m)\u001b[0m\u001b[0;34m\u001b[0m\u001b[0;34m\u001b[0m\u001b[0m\n\u001b[0m\u001b[1;32m    483\u001b[0m \u001b[0;34m\u001b[0m\u001b[0m\n\u001b[1;32m    484\u001b[0m     \u001b[0;32mif\u001b[0m \u001b[0mchunksize\u001b[0m \u001b[0;32mor\u001b[0m \u001b[0miterator\u001b[0m\u001b[0;34m:\u001b[0m\u001b[0;34m\u001b[0m\u001b[0;34m\u001b[0m\u001b[0m\n",
      "\u001b[0;32m/usr/local/lib/python3.9/site-packages/pandas/io/parsers/readers.py\u001b[0m in \u001b[0;36m__init__\u001b[0;34m(self, f, engine, **kwds)\u001b[0m\n\u001b[1;32m    809\u001b[0m             \u001b[0mself\u001b[0m\u001b[0;34m.\u001b[0m\u001b[0moptions\u001b[0m\u001b[0;34m[\u001b[0m\u001b[0;34m\"has_index_names\"\u001b[0m\u001b[0;34m]\u001b[0m \u001b[0;34m=\u001b[0m \u001b[0mkwds\u001b[0m\u001b[0;34m[\u001b[0m\u001b[0;34m\"has_index_names\"\u001b[0m\u001b[0;34m]\u001b[0m\u001b[0;34m\u001b[0m\u001b[0;34m\u001b[0m\u001b[0m\n\u001b[1;32m    810\u001b[0m \u001b[0;34m\u001b[0m\u001b[0m\n\u001b[0;32m--> 811\u001b[0;31m         \u001b[0mself\u001b[0m\u001b[0;34m.\u001b[0m\u001b[0m_engine\u001b[0m \u001b[0;34m=\u001b[0m \u001b[0mself\u001b[0m\u001b[0;34m.\u001b[0m\u001b[0m_make_engine\u001b[0m\u001b[0;34m(\u001b[0m\u001b[0mself\u001b[0m\u001b[0;34m.\u001b[0m\u001b[0mengine\u001b[0m\u001b[0;34m)\u001b[0m\u001b[0;34m\u001b[0m\u001b[0;34m\u001b[0m\u001b[0m\n\u001b[0m\u001b[1;32m    812\u001b[0m \u001b[0;34m\u001b[0m\u001b[0m\n\u001b[1;32m    813\u001b[0m     \u001b[0;32mdef\u001b[0m \u001b[0mclose\u001b[0m\u001b[0;34m(\u001b[0m\u001b[0mself\u001b[0m\u001b[0;34m)\u001b[0m\u001b[0;34m:\u001b[0m\u001b[0;34m\u001b[0m\u001b[0;34m\u001b[0m\u001b[0m\n",
      "\u001b[0;32m/usr/local/lib/python3.9/site-packages/pandas/io/parsers/readers.py\u001b[0m in \u001b[0;36m_make_engine\u001b[0;34m(self, engine)\u001b[0m\n\u001b[1;32m   1038\u001b[0m             )\n\u001b[1;32m   1039\u001b[0m         \u001b[0;31m# error: Too many arguments for \"ParserBase\"\u001b[0m\u001b[0;34m\u001b[0m\u001b[0;34m\u001b[0m\u001b[0m\n\u001b[0;32m-> 1040\u001b[0;31m         \u001b[0;32mreturn\u001b[0m \u001b[0mmapping\u001b[0m\u001b[0;34m[\u001b[0m\u001b[0mengine\u001b[0m\u001b[0;34m]\u001b[0m\u001b[0;34m(\u001b[0m\u001b[0mself\u001b[0m\u001b[0;34m.\u001b[0m\u001b[0mf\u001b[0m\u001b[0;34m,\u001b[0m \u001b[0;34m**\u001b[0m\u001b[0mself\u001b[0m\u001b[0;34m.\u001b[0m\u001b[0moptions\u001b[0m\u001b[0;34m)\u001b[0m  \u001b[0;31m# type: ignore[call-arg]\u001b[0m\u001b[0;34m\u001b[0m\u001b[0;34m\u001b[0m\u001b[0m\n\u001b[0m\u001b[1;32m   1041\u001b[0m \u001b[0;34m\u001b[0m\u001b[0m\n\u001b[1;32m   1042\u001b[0m     \u001b[0;32mdef\u001b[0m \u001b[0m_failover_to_python\u001b[0m\u001b[0;34m(\u001b[0m\u001b[0mself\u001b[0m\u001b[0;34m)\u001b[0m\u001b[0;34m:\u001b[0m\u001b[0;34m\u001b[0m\u001b[0;34m\u001b[0m\u001b[0m\n",
      "\u001b[0;32m/usr/local/lib/python3.9/site-packages/pandas/io/parsers/c_parser_wrapper.py\u001b[0m in \u001b[0;36m__init__\u001b[0;34m(self, src, **kwds)\u001b[0m\n\u001b[1;32m     49\u001b[0m \u001b[0;34m\u001b[0m\u001b[0m\n\u001b[1;32m     50\u001b[0m         \u001b[0;31m# open handles\u001b[0m\u001b[0;34m\u001b[0m\u001b[0;34m\u001b[0m\u001b[0m\n\u001b[0;32m---> 51\u001b[0;31m         \u001b[0mself\u001b[0m\u001b[0;34m.\u001b[0m\u001b[0m_open_handles\u001b[0m\u001b[0;34m(\u001b[0m\u001b[0msrc\u001b[0m\u001b[0;34m,\u001b[0m \u001b[0mkwds\u001b[0m\u001b[0;34m)\u001b[0m\u001b[0;34m\u001b[0m\u001b[0;34m\u001b[0m\u001b[0m\n\u001b[0m\u001b[1;32m     52\u001b[0m         \u001b[0;32massert\u001b[0m \u001b[0mself\u001b[0m\u001b[0;34m.\u001b[0m\u001b[0mhandles\u001b[0m \u001b[0;32mis\u001b[0m \u001b[0;32mnot\u001b[0m \u001b[0;32mNone\u001b[0m\u001b[0;34m\u001b[0m\u001b[0;34m\u001b[0m\u001b[0m\n\u001b[1;32m     53\u001b[0m \u001b[0;34m\u001b[0m\u001b[0m\n",
      "\u001b[0;32m/usr/local/lib/python3.9/site-packages/pandas/io/parsers/base_parser.py\u001b[0m in \u001b[0;36m_open_handles\u001b[0;34m(self, src, kwds)\u001b[0m\n\u001b[1;32m    220\u001b[0m         \u001b[0mLet\u001b[0m \u001b[0mthe\u001b[0m \u001b[0mreaders\u001b[0m \u001b[0mopen\u001b[0m \u001b[0mIOHandles\u001b[0m \u001b[0mafter\u001b[0m \u001b[0mthey\u001b[0m \u001b[0mare\u001b[0m \u001b[0mdone\u001b[0m \u001b[0;32mwith\u001b[0m \u001b[0mtheir\u001b[0m \u001b[0mpotential\u001b[0m \u001b[0mraises\u001b[0m\u001b[0;34m.\u001b[0m\u001b[0;34m\u001b[0m\u001b[0;34m\u001b[0m\u001b[0m\n\u001b[1;32m    221\u001b[0m         \"\"\"\n\u001b[0;32m--> 222\u001b[0;31m         self.handles = get_handle(\n\u001b[0m\u001b[1;32m    223\u001b[0m             \u001b[0msrc\u001b[0m\u001b[0;34m,\u001b[0m\u001b[0;34m\u001b[0m\u001b[0;34m\u001b[0m\u001b[0m\n\u001b[1;32m    224\u001b[0m             \u001b[0;34m\"r\"\u001b[0m\u001b[0;34m,\u001b[0m\u001b[0;34m\u001b[0m\u001b[0;34m\u001b[0m\u001b[0m\n",
      "\u001b[0;32m/usr/local/lib/python3.9/site-packages/pandas/io/common.py\u001b[0m in \u001b[0;36mget_handle\u001b[0;34m(path_or_buf, mode, encoding, compression, memory_map, is_text, errors, storage_options)\u001b[0m\n\u001b[1;32m    700\u001b[0m         \u001b[0;32mif\u001b[0m \u001b[0mioargs\u001b[0m\u001b[0;34m.\u001b[0m\u001b[0mencoding\u001b[0m \u001b[0;32mand\u001b[0m \u001b[0;34m\"b\"\u001b[0m \u001b[0;32mnot\u001b[0m \u001b[0;32min\u001b[0m \u001b[0mioargs\u001b[0m\u001b[0;34m.\u001b[0m\u001b[0mmode\u001b[0m\u001b[0;34m:\u001b[0m\u001b[0;34m\u001b[0m\u001b[0;34m\u001b[0m\u001b[0m\n\u001b[1;32m    701\u001b[0m             \u001b[0;31m# Encoding\u001b[0m\u001b[0;34m\u001b[0m\u001b[0;34m\u001b[0m\u001b[0m\n\u001b[0;32m--> 702\u001b[0;31m             handle = open(\n\u001b[0m\u001b[1;32m    703\u001b[0m                 \u001b[0mhandle\u001b[0m\u001b[0;34m,\u001b[0m\u001b[0;34m\u001b[0m\u001b[0;34m\u001b[0m\u001b[0m\n\u001b[1;32m    704\u001b[0m                 \u001b[0mioargs\u001b[0m\u001b[0;34m.\u001b[0m\u001b[0mmode\u001b[0m\u001b[0;34m,\u001b[0m\u001b[0;34m\u001b[0m\u001b[0;34m\u001b[0m\u001b[0m\n",
      "\u001b[0;31mFileNotFoundError\u001b[0m: [Errno 2] No such file or directory: 'Ages.csv'"
     ]
    }
   ],
   "source": [
    "df = pd.read_csv('Ages.csv')"
   ]
  },
  {
   "cell_type": "markdown",
   "id": "48742c3d-6541-4ea1-914c-cd0f0cf7482f",
   "metadata": {},
   "source": [
    "### The correct directory is up one level and then down into Data"
   ]
  },
  {
   "cell_type": "code",
   "execution_count": 18,
   "id": "b49da2f1-6b68-4625-a7d2-1089eba3fb46",
   "metadata": {},
   "outputs": [
    {
     "name": "stdout",
     "output_type": "stream",
     "text": [
      "Ages.csv     Heights.csv  readme.md\n"
     ]
    }
   ],
   "source": [
    "ls ../Data/"
   ]
  },
  {
   "cell_type": "code",
   "execution_count": 19,
   "id": "b3bf7424-bce7-40d5-b466-2e6b6754c697",
   "metadata": {},
   "outputs": [
    {
     "name": "stdout",
     "output_type": "stream",
     "text": [
      "/Users/dannylumian/Documents/GitHub/DS-Student-Resources/DS101-Basic-Statistics/Data\n"
     ]
    }
   ],
   "source": [
    "### Load data by moving to that directory\n",
    "os.chdir(os.path.join('..', 'Data'))\n",
    "print(os.getcwd())"
   ]
  },
  {
   "cell_type": "code",
   "execution_count": 20,
   "id": "01a7e1c6-0d72-41c6-b5f8-0392d0a312a3",
   "metadata": {},
   "outputs": [
    {
     "name": "stdout",
     "output_type": "stream",
     "text": [
      "Ages.csv     Heights.csv  readme.md\n"
     ]
    }
   ],
   "source": [
    "ls"
   ]
  },
  {
   "cell_type": "code",
   "execution_count": 21,
   "id": "65e8ac4b-45da-472a-a000-e50d4a79aeee",
   "metadata": {},
   "outputs": [],
   "source": [
    "df = pd.read_csv('Ages.csv')"
   ]
  },
  {
   "cell_type": "markdown",
   "id": "12cf4e9d-b957-4b45-b8fe-e11a5dbdff82",
   "metadata": {},
   "source": [
    "## Successful data load!"
   ]
  },
  {
   "cell_type": "markdown",
   "id": "5f020fe7-e338-4c90-8275-cd5950f233e8",
   "metadata": {},
   "source": [
    "### Alternative method for loading data-supply path when loading data"
   ]
  },
  {
   "cell_type": "code",
   "execution_count": 22,
   "id": "8940ca47-82dc-4815-8ba2-462fd1035ff4",
   "metadata": {},
   "outputs": [
    {
     "name": "stdout",
     "output_type": "stream",
     "text": [
      "/Users/dannylumian/Documents/GitHub/DS-Student-Resources/DS101-Basic-Statistics/Examples\n"
     ]
    }
   ],
   "source": [
    "# Change back to starting directory\n",
    "os.chdir(cwd)\n",
    "print(os.getcwd())"
   ]
  },
  {
   "cell_type": "code",
   "execution_count": 23,
   "id": "c7dcba1f-87e0-4b72-8745-3cf9b240d51d",
   "metadata": {},
   "outputs": [],
   "source": [
    "data_path = os.path.join('..', 'Data', 'Ages.csv')\n",
    "df2 = pd.read_csv(data_path)"
   ]
  },
  {
   "cell_type": "markdown",
   "id": "64ba71b1-5766-4871-9328-dcf37661403e",
   "metadata": {},
   "source": [
    "## Successful data load!"
   ]
  },
  {
   "cell_type": "code",
   "execution_count": null,
   "id": "9509a60e-5168-4e54-9be2-43ea8f8b8fb2",
   "metadata": {},
   "outputs": [],
   "source": []
  }
 ],
 "metadata": {
  "kernelspec": {
   "display_name": "Python 3 (ipykernel)",
   "language": "python",
   "name": "python3"
  },
  "language_info": {
   "codemirror_mode": {
    "name": "ipython",
    "version": 3
   },
   "file_extension": ".py",
   "mimetype": "text/x-python",
   "name": "python",
   "nbconvert_exporter": "python",
   "pygments_lexer": "ipython3",
   "version": "3.9.9"
  }
 },
 "nbformat": 4,
 "nbformat_minor": 5
}
