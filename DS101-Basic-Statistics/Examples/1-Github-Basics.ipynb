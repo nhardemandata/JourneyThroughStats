{
 "cells": [
  {
   "cell_type": "markdown",
   "id": "491901b9-9a36-4fca-be31-ae66ccc26e4c",
   "metadata": {},
   "source": [
    "<img src=\"https://github.githubassets.com/images/modules/logos_page/GitHub-Logo.png\" align=\"left\" alt=\"Python image\" width = \"300\">"
   ]
  },
  {
   "cell_type": "markdown",
   "id": "6a5e29a7-69b0-4989-87a1-7df84f5a5f90",
   "metadata": {},
   "source": [
    "[Home](https://github.com)\n",
    "[About](https://github.com/about)\n",
    "[Community-Stories](https://github.com/readme)\n",
    "[Customer-Stories](https://github.com/customer-stories?type=enterprise)\n",
    "[Blog](https://github.blog/)\n",
    "[Press](https://github.com/about/press)\n",
    "***"
   ]
  },
  {
   "cell_type": "code",
   "execution_count": 1,
   "id": "389e65dc-ee36-4441-84fd-7d9e32b41536",
   "metadata": {},
   "outputs": [
    {
     "data": {
      "text/html": [
       "\n",
       "        <iframe\n",
       "            width=\"720\"\n",
       "            height=\"480\"\n",
       "            src=\"https://player.vimeo.com/video/570012385\"\n",
       "            frameborder=\"0\"\n",
       "            allowfullscreen\n",
       "            \n",
       "        ></iframe>\n",
       "        "
      ],
      "text/plain": [
       "<IPython.lib.display.VimeoVideo at 0x108b62280>"
      ]
     },
     "execution_count": 1,
     "metadata": {},
     "output_type": "execute_result"
    }
   ],
   "source": [
    "from IPython.display import VimeoVideo\n",
    "# Tutorial Video Name: Introduction to Python\n",
    "VimeoVideo('570012385', width=720, height=480)"
   ]
  },
  {
   "cell_type": "markdown",
   "id": "0d307292-b3e9-4bb2-bd68-9ba3674fa35a",
   "metadata": {},
   "source": [
    "## Command line Git\n",
    "\n",
    "```git\n",
    "git fetch\n",
    "git pull\n",
    "git status\n",
    "git add .\n",
    "git commit -m \"added file\"\n",
    "git push\n",
    "\n",
    "#if you have things you don't want saved\n",
    "git stash\n",
    "```"
   ]
  },
  {
   "cell_type": "code",
   "execution_count": null,
   "id": "fd2ad07f-e8de-49d2-8d62-9b0c25581b2b",
   "metadata": {},
   "outputs": [],
   "source": []
  }
 ],
 "metadata": {
  "kernelspec": {
   "display_name": "Python 3 (ipykernel)",
   "language": "python",
   "name": "python3"
  },
  "language_info": {
   "codemirror_mode": {
    "name": "ipython",
    "version": 3
   },
   "file_extension": ".py",
   "mimetype": "text/x-python",
   "name": "python",
   "nbconvert_exporter": "python",
   "pygments_lexer": "ipython3",
   "version": "3.9.9"
  }
 },
 "nbformat": 4,
 "nbformat_minor": 5
}
